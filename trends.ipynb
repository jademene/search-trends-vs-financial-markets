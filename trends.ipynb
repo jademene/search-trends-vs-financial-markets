{
 "cells": [
  {
   "cell_type": "code",
   "execution_count": null,
   "id": "317dc648-62c2-4d3d-ad0f-31d27c7a7e8b",
   "metadata": {},
   "outputs": [],
   "source": [
    "#install libraries\n",
    "!pip install requests"
   ]
  },
  {
   "cell_type": "code",
   "execution_count": null,
   "id": "04b8027b-3e0f-45c5-859f-51fc79f1be91",
   "metadata": {},
   "outputs": [],
   "source": [
    "#import libraries\n",
    "import requests\n",
    "import json\n",
    "import pandas as pd  "
   ]
  },
  {
   "cell_type": "code",
   "execution_count": null,
   "id": "7c21bfc1-6bad-4008-9eb8-bfbb326d1f67",
   "metadata": {},
   "outputs": [],
   "source": [
    "'''\n",
    "The trend.ipynb file contains the script that will be used to collect Google search data.\n",
    "The data collected will be pertinent only to the French trending searches.\n",
    "'''"
   ]
  },
  {
   "cell_type": "code",
   "execution_count": null,
   "id": "d464a0c5-595d-47ad-a801-ae8a4e51671a",
   "metadata": {},
   "outputs": [],
   "source": [
    "#set up API key and endpoint\n",
    "API_KEY = 'your_api_key_here' #The API_key authenticates your requests. Use it as a query parameter\n",
    "ENDPOINT = 'https://www.searchapi.io/api/v1/search'"
   ]
  },
  {
   "cell_type": "code",
   "execution_count": null,
   "id": "e7b629d8-6172-422f-9fcc-81a92b8c9b51",
   "metadata": {},
   "outputs": [],
   "source": [
    "'''\n",
    "The Google Trends API uses /api/v1/search?engine=google_trends API endpoint to scrape real-time results.\n",
    "Note: update 'q' to update the search query.\n",
    "It has been set to French search results only in the last 12 months (time range) in the French time zone (UTC+2)\n",
    "'''\n",
    "#GOOGLE TRENDS API request parameters\n",
    "params = {\n",
    "    'api_key': API_KEY,\n",
    "    'engine': 'google_trends',\n",
    "    'q': 'Python programming',  # Your search query\n",
    "    'geo': 'FR',\n",
    "    'date': 'today 12-m'\n",
    "    'tz': 120\n",
    "}  "
   ]
  },
  {
   "cell_type": "code",
   "execution_count": null,
   "id": "d9a17b7a-c7c3-467b-8a92-9351bb6733b5",
   "metadata": {},
   "outputs": [],
   "source": [
    "#GET\n",
    "search_trends = requests.get(ENDPOINT, params=params)\n",
    "print(search_trends.text)"
   ]
  },
  {
   "cell_type": "code",
   "execution_count": null,
   "id": "f273d948-f2e7-48c6-ac9d-aeac14ab2a41",
   "metadata": {},
   "outputs": [],
   "source": [
    "#handle response ADD A TRY CATCH BLOCK (if else specifically for errors)\n",
    "if search_trends.status_code == 200:\n",
    "    data = search_trends.json()\n",
    "    print(json.dumps(data, indent=4))  # Pretty print the JSON data\n",
    "else:\n",
    "    print(f\"Failed to retrieve data: {search_trends.status_code}\")  "
   ]
  },
  {
   "cell_type": "code",
   "execution_count": null,
   "id": "61797fef-c475-409d-a59c-01d353a1e22b",
   "metadata": {},
   "outputs": [],
   "source": [
    "'''\n",
    "The Google Trends Trending Daily API provides developers access to daily trending search data.\n",
    "It allows for retrieving trending topics, search queries, related articles, and more, using the /api/v1/search?engine=google_trends_trending_daily endpoint.\n",
    "It is currently set to French result only, time frame = last 30 days.\n",
    "'''\n",
    "#GOOGLE TRENDS DAILY API request parameters [Last 30 days]\n",
    "params = {\n",
    "    'api_key': API_KEY,\n",
    "    'engine': 'google_trends_trending_daily',\n",
    "    'geo': 'FR',                # Geographic location fr = FRANCE\n",
    "}"
   ]
  },
  {
   "cell_type": "code",
   "execution_count": null,
   "id": "1b212259-3b39-443d-872c-0470ad304f69",
   "metadata": {},
   "outputs": [],
   "source": [
    "#GET\n",
    "daily_trends = requests.get(ENDPOINT, params=params)\n",
    "print(daily_trends.text)"
   ]
  },
  {
   "cell_type": "code",
   "execution_count": null,
   "id": "cd79c533-73df-4bc0-a062-ed85e74241e9",
   "metadata": {},
   "outputs": [],
   "source": [
    "#handle response ADD A TRY CATCH BLOCK (if else specifically for errors)\n",
    "if daily_trends.status_code == 200:\n",
    "    data = daily_trends.json()\n",
    "    print(json.dumps(data, indent=4))  # Pretty print the JSON data\n",
    "else:\n",
    "    print(f\"Failed to retrieve data: {daily_trends.status_code}\")\n",
    "\n",
    "'''\n",
    "\n",
    "#make a dataframe\n",
    "if 'interest_over_time' in data:\n",
    "    df = pd.DataFrame(data['interest_over_time'])\n",
    "    print(df.head())\n",
    "'''    "
   ]
  }
 ],
 "metadata": {
  "kernelspec": {
   "display_name": "Python 3 (ipykernel)",
   "language": "python",
   "name": "python3"
  },
  "language_info": {
   "codemirror_mode": {
    "name": "ipython",
    "version": 3
   },
   "file_extension": ".py",
   "mimetype": "text/x-python",
   "name": "python",
   "nbconvert_exporter": "python",
   "pygments_lexer": "ipython3",
   "version": "3.11.7"
  }
 },
 "nbformat": 4,
 "nbformat_minor": 5
}
