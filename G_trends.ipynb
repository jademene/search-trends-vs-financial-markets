{
 "cells": [
  {
   "cell_type": "markdown",
   "id": "7c615f2c-9cd9-4f16-890d-bca75e77ef7c",
   "metadata": {},
   "source": [
    "# carrefour_search_trends.py\n",
    "\n",
    "Fetches weekly search volume index (SVI) data for Carrefour-related keywords in France using the SearchAPI.io endpoint for Google Trends.\n",
    "\n",
    "### This script will:\n",
    "\n",
    "1. Load keywords and their category from an Excel file.\n",
    "2. Batch keywords in groups of 5 to respect the API  request limit.\n",
    "3. Query SearchAPI.io for weekly SVI per keyword (from 2022-01-01 to 2025-05-21).\n",
    "4. Apply a retry mechanism for rate-limiting (429) errors.\n",
    "5. Securely use API key via a .env file.\n",
    "6. Save outputs:\n",
    "   - carrefour_search_trends_keywords.csv (wide format)\n",
    "   - carrefour_search_trends_aggregated.csv (by category)"
   ]
  },
  {
   "cell_type": "code",
   "execution_count": null,
   "id": "f7fdeda4-b2c4-44d8-8d3e-d0101e0447e4",
   "metadata": {
    "scrolled": true
   },
   "outputs": [],
   "source": [
    "#install libraries\n",
    "!pip install requests"
   ]
  },
  {
   "cell_type": "code",
   "execution_count": null,
   "id": "04b8027b-3e0f-45c5-859f-51fc79f1be91",
   "metadata": {},
   "outputs": [],
   "source": [
    "#import libraries\n",
    "import os\n",
    "import time\n",
    "import requests\n",
    "import pandas as pd\n",
    "from datetime import datetime"
   ]
  },
  {
   "cell_type": "code",
   "execution_count": 1,
   "id": "d464a0c5-595d-47ad-a801-ae8a4e51671a",
   "metadata": {},
   "outputs": [],
   "source": [
    "#configurations\n",
    "EXCEL_PATH = \"Carrefour-related_keywords.xlsx\"\n",
    "START_DATE = \"2022-01-01\"\n",
    "END_DATE = \"2025-05-21\"\n",
    "GEO = \"FR\"\n",
    "API_KEY = \"\"\n",
    "API_URL = \"https://www.searchapi.io/api/v1/search\"\n",
    "MAX_RETRIES = 2\n",
    "BATCH_SIZE = 5"
   ]
  },
  {
   "cell_type": "code",
   "execution_count": null,
   "id": "97a24584-514e-4b33-9b68-baeee3990335",
   "metadata": {},
   "outputs": [],
   "source": [
    "#load selected keywords from excel\n",
    "df_keywords = pd.read_excel(\"Carrefour-related_keywords.xlsx\")\n",
    "df_keywords.columns = df_keywords.columns.str.strip()\n",
    "df_keywords = df_keywords.dropna(subset=[\"Keywords\"])"
   ]
  },
  {
   "cell_type": "code",
   "execution_count": null,
   "id": "eea882df-f0eb-4e44-92fd-ac3b959bfdcd",
   "metadata": {},
   "outputs": [],
   "source": [
    "print(df_keywords.columns)  # Check actual column names\n",
    "print(df_keywords.head())   # Inspect the first few rows"
   ]
  },
  {
   "cell_type": "code",
   "execution_count": null,
   "id": "3531e201-b628-44eb-a107-14cc42b3b271",
   "metadata": {},
   "outputs": [],
   "source": [
    "#ensure the aggregation is kept\n",
    "categories = df_keywords.groupby(\"Aggregate\")\n",
    "all_weeks = pd.date_range(start=START_DATE, end=END_DATE, freq='W-MON')\n",
    "wide_df = pd.DataFrame(index=all_weeks)"
   ]
  },
  {
   "cell_type": "code",
   "execution_count": null,
   "id": "893402da-f99b-45af-8354-4267e1692940",
   "metadata": {},
   "outputs": [],
   "source": [
    "#fetch SVI for up to 5 keywords (Search.io API limit)\n",
    "def fetch_keywords_trend(keywords):\n",
    "    params = {\n",
    "        \"engine\": \"google_trends\",\n",
    "        \"q\": \",\".join(keywords),\n",
    "        \"geo\": GEO,\n",
    "        \"data_type\": \"TIMESERIES\",\n",
    "        \"time\": f\"{START_DATE} {END_DATE}\",\n",
    "        \"tz\": \"60\",  #time zone: CET(UTC+1)\n",
    "        \"api_key\": API_KEY\n",
    "    }\n",
    "\n",
    "    for attempt in range(1, MAX_RETRIES + 1):\n",
    "        try:\n",
    "            response = requests.get(API_URL, params=params)\n",
    "            response.raise_for_status()\n",
    "            data = response.json()\n",
    "\n",
    "            timeline = data.get(\"interest_over_time\", {}).get(\"timeline_data\", [])\n",
    "            if not timeline:\n",
    "                print(f\"No timeline data for batch: {keywords}\")\n",
    "                return pd.DataFrame()\n",
    "\n",
    "            records = []\n",
    "            for entry in timeline:\n",
    "                date = pd.to_datetime(entry[\"timestamp\"], unit='s')\n",
    "                for value in entry[\"values\"]:\n",
    "                    records.append({\n",
    "                        \"date\": date,\n",
    "                        \"keyword\": value[\"query\"],\n",
    "                        \"value\": int(value[\"extracted_value\"])\n",
    "                    })\n",
    "\n",
    "            df = pd.DataFrame(records)\n",
    "            wide_df = df.pivot(index=\"date\", columns=\"keyword\", values=\"value\").sort_index()\n",
    "            return wide_df\n",
    "\n",
    "        except Exception as e:\n",
    "            print(f\"Error fetching batch {keywords} (attempt {attempt}): {e}\")\n",
    "            time.sleep(2 ** attempt)\n",
    "\n",
    "    return pd.DataFrame()\n"
   ]
  },
  {
   "cell_type": "code",
   "execution_count": null,
   "id": "7d571c53-4eb6-499f-ab1f-3361a93c35fb",
   "metadata": {},
   "outputs": [],
   "source": [
    "#merge all data collected\n",
    "final_df = pd.DataFrame()"
   ]
  },
  {
   "cell_type": "code",
   "execution_count": null,
   "id": "8a4e320d-1acd-4a24-9339-572b37b8a0ce",
   "metadata": {},
   "outputs": [],
   "source": [
    "# Fetch data in batches\n",
    "all_keywords = df_keywords[\"Keywords\"].tolist()\n",
    "for i in range(0, len(all_keywords), BATCH_SIZE):\n",
    "    batch = all_keywords[i:i + BATCH_SIZE]\n",
    "    print(f\"Fetching batch: {batch}\")\n",
    "    batch_df = fetch_keywords_trend(batch)\n",
    "    final_df = pd.concat([final_df, batch_df], axis=1)"
   ]
  },
  {
   "cell_type": "code",
   "execution_count": null,
   "id": "48ccf8b7-7271-43a9-a5bd-98ec3dd11812",
   "metadata": {},
   "outputs": [],
   "source": [
    "#save keyword data\n",
    "final_df = final_df.loc[:, ~final_df.columns.duplicated()].sort_index()\n",
    "final_df.to_csv(\"carrefour_search_trends_keywords.csv\")"
   ]
  },
  {
   "cell_type": "code",
   "execution_count": null,
   "id": "3236e8a7-1589-40b4-b800-5576a948d919",
   "metadata": {},
   "outputs": [],
   "source": [
    "#aggregate data by category\n",
    "df_keywords.set_index(\"Keywords\", inplace=True)\n",
    "aggregated_df = pd.DataFrame(index=final_df.index)\n",
    "\n",
    "for category, keywords in df_keywords.groupby(\"Aggregate\"):\n",
    "    keyword_list = keywords.index.intersection(final_df.columns)\n",
    "    aggregated_df[category] = final_df[keyword_list].sum(axis=1)"
   ]
  },
  {
   "cell_type": "code",
   "execution_count": null,
   "id": "abcc013e-0789-4c9a-9569-c1b4e5f10017",
   "metadata": {},
   "outputs": [],
   "source": [
    "#save aggregated keyword data\n",
    "aggregated_df.to_csv(\"carrefour_search_trends_aggregated.csv\")"
   ]
  }
 ],
 "metadata": {
  "kernelspec": {
   "display_name": "Python [conda env:Orange]",
   "language": "python",
   "name": "conda-env-Orange-py"
  },
  "language_info": {
   "codemirror_mode": {
    "name": "ipython",
    "version": 3
   },
   "file_extension": ".py",
   "mimetype": "text/x-python",
   "name": "python",
   "nbconvert_exporter": "python",
   "pygments_lexer": "ipython3",
   "version": "3.9.12"
  }
 },
 "nbformat": 4,
 "nbformat_minor": 5
}
