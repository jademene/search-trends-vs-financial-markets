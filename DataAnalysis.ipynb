{
 "cells": [
  {
   "cell_type": "code",
   "execution_count": null,
   "id": "4ecd2a76-2bde-4996-b744-187f954b4135",
   "metadata": {
    "scrolled": true
   },
   "outputs": [],
   "source": [
    "#installing dependencies\n",
    "!pip install -q pyspark findspark \n",
    "#!pip install pandas\n",
    "#!pip install seaborn"
   ]
  },
  {
   "cell_type": "code",
   "execution_count": null,
   "id": "b3725997-77a7-4fe2-89a9-0e212f99bd91",
   "metadata": {},
   "outputs": [],
   "source": [
    "import findspark\n",
    "findspark.init()\n",
    "\n",
    "import pyspark\n",
    "from pyspark.sql import SparkSession #initialise spark\n",
    "from pyspark.sql.functions import col, sum as _sum\n",
    "\n",
    "import numpy as np\n",
    "import pandas as pd\n",
    "\n",
    "import matplotlib.pyplot as plt\n",
    "from matplotlib import colormaps\n",
    "import math\n",
    "\n",
    "import seaborn as sns"
   ]
  },
  {
   "cell_type": "markdown",
   "id": "8fbc19ff-5e6e-45d6-bf51-d9fe05018bcf",
   "metadata": {},
   "source": [
    "> **⚠️ Prerequisite Notice**  \r\n",
    "> This notebook uses Apache Spark via PySpark.  \r\n",
    "> Please ensure you have **Java (JDK 8 or 11)** installed and properly configured on your syste Make sure the `JAVA_HOME` environment variable is set correctly and that `java.exe` is accessible in your system PATH.H.\r\n",
    ">  \r\n",
    "> Without Java, the Spark session will fail to initiale.\r\n",
    "\n"
   ]
  },
  {
   "cell_type": "code",
   "execution_count": null,
   "id": "0ba3f42b-5553-4690-9184-5a1692359137",
   "metadata": {},
   "outputs": [],
   "source": [
    "# Create a SparkSession\n",
    "spark = SparkSession.builder \\\n",
    "    .appName(\"Search Trends Analysis\") \\\n",
    "    .getOrCreate()"
   ]
  },
  {
   "cell_type": "markdown",
   "id": "c6698e62-9e4d-4bff-ad9e-dad405c87e3a",
   "metadata": {},
   "source": [
    "While the dataset used in this thesis is relatively small and could have been handled entirely within Python's Pandas framework, PySpark was initially selected for its scalability and potential for distributed data processing."
   ]
  },
  {
   "cell_type": "markdown",
   "id": "b1de2316-19b3-4720-a60b-9e1ff057e584",
   "metadata": {},
   "source": [
    "# Google Trends keywords SVI data"
   ]
  },
  {
   "cell_type": "code",
   "execution_count": null,
   "id": "84074fc0-21b2-41e5-a4af-42d4afc9045c",
   "metadata": {},
   "outputs": [],
   "source": [
    "#read CSV using Spark\n",
    "df_kw = spark.read.csv('search-trends-vs-financial-markets/Collected Data/carrefour_search_trends_keywords.csv', header=True, inferSchema=True) #inferSchema added to automatically type inference for columns\n",
    "df_agg = spark.read.csv('search-trends-vs-financial-markets/Collected Data/carrefour_search_trends_aggregated.csv', header=True, inferSchema=True)"
   ]
  },
  {
   "cell_type": "markdown",
   "id": "2c10871a-9cd8-40ff-a7d9-ca6c9a2223ed",
   "metadata": {},
   "source": [
    "## Google Trends keywords"
   ]
  },
  {
   "cell_type": "code",
   "execution_count": null,
   "id": "41907f0e-6d42-42c8-bf24-5a916421bab8",
   "metadata": {},
   "outputs": [],
   "source": [
    "#show preview keywords\n",
    "df_kw.show(3)\n",
    "df_kw.printSchema()"
   ]
  },
  {
   "cell_type": "markdown",
   "id": "960b3ba3-c791-492a-b499-b1b019c76791",
   "metadata": {},
   "source": [
    "Several columns appear to have only zero values; let's drop them and keep a list of these."
   ]
  },
  {
   "cell_type": "code",
   "execution_count": null,
   "id": "47c7877b-17ef-480c-bd69-ef103b065251",
   "metadata": {},
   "outputs": [],
   "source": [
    "# Exclude 'date' from check\n",
    "columns_to_check = [c for c in df_kw.columns if c != 'date']"
   ]
  },
  {
   "cell_type": "code",
   "execution_count": null,
   "id": "fcdb5e38-9f46-4ece-a3fa-c27c4168aa10",
   "metadata": {},
   "outputs": [],
   "source": [
    "#Drop columns (keywords) with only zero values in their cells\n",
    "kept_cols = []\n",
    "dropped_cols = []\n",
    "\n",
    "# Loop through numeric columns only\n",
    "for c in columns_to_check:\n",
    "    try:\n",
    "        col_sum = df_kw.select(_sum(col(f\"`{c}`\"))).collect()[0][0]     #backticks in col() to safely reference columns like `E.Leclerc`\n",
    "        if col_sum == 0 or col_sum is None:\n",
    "            dropped_cols.append(c)\n",
    "        else:\n",
    "            kept_cols.append(c)\n",
    "    except Exception as e:\n",
    "        print(f\"Skipping column '{c}' due to error: {e}\")\n",
    "        dropped_cols.append(c)"
   ]
  },
  {
   "cell_type": "code",
   "execution_count": null,
   "id": "81116f72-5d18-4fa7-866c-2a99ad9e776b",
   "metadata": {},
   "outputs": [],
   "source": [
    "# Keep 'date' and valid keyword columns\n",
    "final_cols = ['date'] + kept_cols\n",
    "\n",
    "# Select cleaned/filtered DataFrame\n",
    "df_kw_cleaned = df_kw.select(*[col(c) if c == 'date' else col(f\"`{c}`\") for c in final_cols])"
   ]
  },
  {
   "cell_type": "code",
   "execution_count": null,
   "id": "bf10d564-9ecb-461b-b2eb-4ba4759a1a61",
   "metadata": {},
   "outputs": [],
   "source": [
    "# Show results\n",
    "print(\"Dropped columns (all values were 0 or null):\")\n",
    "print(dropped_cols)"
   ]
  },
  {
   "cell_type": "markdown",
   "id": "c3a6371d-17a1-49f9-9055-f3b7cfc74fc5",
   "metadata": {},
   "source": [
    "✅ Dropped columns (all values were 0 or null):\n",
    "\n",
    "`carfour`, `carrefour near me`, `IntermarchÃ©`, `carrefour bourse`."
   ]
  },
  {
   "cell_type": "code",
   "execution_count": null,
   "id": "142c7b54-f23a-4bb6-b6e4-4f1adf2cbc9e",
   "metadata": {},
   "outputs": [],
   "source": [
    "df_kw_cleaned.show(3)"
   ]
  },
  {
   "cell_type": "markdown",
   "id": "2b0e3358-f371-4cf8-a8b4-eb690e72ac88",
   "metadata": {},
   "source": [
    "### EDA"
   ]
  },
  {
   "cell_type": "code",
   "execution_count": null,
   "id": "4cbbcf2a-ebe1-40cf-bf96-ebf2ae6fd89f",
   "metadata": {},
   "outputs": [],
   "source": [
    "# Convert PySpark DataFrame to Pandas\n",
    "df_kw_pd = df_kw_cleaned.toPandas()"
   ]
  },
  {
   "cell_type": "code",
   "execution_count": null,
   "id": "9543c714-7bc0-47d7-96c6-ac76acaca23c",
   "metadata": {},
   "outputs": [],
   "source": [
    "df_kw_pd.shape"
   ]
  },
  {
   "cell_type": "markdown",
   "id": "9302914e-c40a-4130-a69a-5962a1965afd",
   "metadata": {},
   "source": [
    "#### 1. Date Handling & Time Index Setup\n",
    "\n",
    "The `date` is currently in ISO 8601 standard, `yyyy-mm-dd`, making it directly compatible with pandas and the libraries we will use.\n",
    "\n",
    "However, we will convert the date to a Datetime object to fully utilise the time series functionalities. Lastly, we will set it as the DataFrame index, which converts the DataFrame into a time series for slicing, plotting, and modelling."
   ]
  },
  {
   "cell_type": "code",
   "execution_count": null,
   "id": "b8a6c54d-025a-4dd8-ad2f-e89e93c7a646",
   "metadata": {},
   "outputs": [],
   "source": [
    "df_kw_pd['date'] = pd.to_datetime(df_kw_pd['date'])\n",
    "df_kw_pd.set_index('date', inplace=True)\n",
    "df_kw_pd.sort_index(inplace=True) #sorts data chronologically from earliest to latest data"
   ]
  },
  {
   "cell_type": "markdown",
   "id": "147029fe-cd75-4ac7-8c2c-f044a168f5e8",
   "metadata": {},
   "source": [
    "#### 2. Time Series Grid of Keywords"
   ]
  },
  {
   "cell_type": "code",
   "execution_count": null,
   "id": "8a352a34-678a-4e82-b76d-77c3941e7f61",
   "metadata": {},
   "outputs": [],
   "source": [
    "# Set up subplot grid\n",
    "n_keywords = len(df_kw_pd.columns)\n",
    "n_cols = 4\n",
    "n_rows = math.ceil(n_keywords / n_cols)"
   ]
  },
  {
   "cell_type": "code",
   "execution_count": null,
   "id": "61c5a8d6-e42f-4243-b8a2-4800849d3c48",
   "metadata": {},
   "outputs": [],
   "source": [
    "#plot grid\n",
    "plt.figure(figsize=(n_cols * 4, n_rows * 3))\n",
    "\n",
    "for i, keyword in enumerate(df_kw_pd.columns):\n",
    "    plt.subplot(n_rows, n_cols, i + 1)\n",
    "    plt.plot(df_kw_pd.index, df_kw_pd[keyword], color='teal')\n",
    "    plt.title(keyword, fontsize=10)\n",
    "    plt.xticks(rotation=45)\n",
    "    plt.tight_layout()\n",
    "\n",
    "plt.suptitle(\"SVI Trends by Keyword\", fontsize=16, y=1.02)\n",
    "plt.show()\n"
   ]
  },
  {
   "cell_type": "markdown",
   "id": "49456533-9df8-4570-b6b6-8dd5bee63a5e",
   "metadata": {},
   "source": [
    "As expected based on the literature review, we observe considerable variability in search popularity over time for most keywords, with episodic peaks in search interest. We can also see the sudden rise in popularity of some keywords over time and the decline of others."
   ]
  },
  {
   "cell_type": "markdown",
   "id": "1b6184f1-08cc-41f5-b1a2-a88aa1e8c2d6",
   "metadata": {},
   "source": [
    "#### 3. Distribution Plot of Interest Scores"
   ]
  },
  {
   "cell_type": "code",
   "execution_count": null,
   "id": "edca5caa-74f8-4d71-9c13-53943ce37f4e",
   "metadata": {},
   "outputs": [],
   "source": [
    "df_kw_pd.plot(kind='box', vert=False, figsize=(10, 12), title='SVI Distribution')\n",
    "plt.title('SVI Distribution', fontweight='bold')\n",
    "plt.tick_params(axis='x', which='both', labeltop=True)\n",
    "plt.grid(axis='x', linestyle=':', linewidth=0.7)\n",
    "plt.xticks(np.arange(0, 110, 10))\n",
    "plt.tight_layout()\n",
    "plt.show()"
   ]
  },
  {
   "cell_type": "markdown",
   "id": "4874cff8-353a-4df1-a98f-0ac03c489454",
   "metadata": {},
   "source": [
    "#### 4. Statistical Summary"
   ]
  },
  {
   "cell_type": "code",
   "execution_count": null,
   "id": "78e57d63-77ff-4879-aa20-2fe8709f6b19",
   "metadata": {},
   "outputs": [],
   "source": [
    "summary = df_kw_pd.describe().T"
   ]
  },
  {
   "cell_type": "code",
   "execution_count": null,
   "id": "b53dcf71-bb31-4293-a2f1-4e78fe6beb8c",
   "metadata": {},
   "outputs": [],
   "source": [
    "summary[\"range\"] = summary[\"max\"] - summary[\"min\"]\n",
    "summary[\"iqr\"] = summary[\"75%\"] - summary[\"25%\"] #interquartile range\n",
    "summary[\"skew\"] = df_kw_pd.skew()\n",
    "summary[\"kurtosis\"] = df_kw_pd.kurtosis()\n",
    "summary[\"volatility (std/mean)\"] = summary[\"std\"] / summary[\"mean\"]"
   ]
  },
  {
   "cell_type": "code",
   "execution_count": null,
   "id": "2c359b2d-5537-420f-ae27-e3df3a3a8173",
   "metadata": {},
   "outputs": [],
   "source": [
    "summary"
   ]
  },
  {
   "cell_type": "markdown",
   "id": "3ecddc7c-c8de-4959-8603-2f62f950ce2e",
   "metadata": {},
   "source": [
    "##### Mean\n",
    "A few keywords stand above the others with a mean above 60, indicating dominant and sustained search behaviour: \n",
    "\"carrefour banque\" ~73, \"lidl\" ~68, \"carrefour\" ~64, \"catalogue carrefour\"\t~62, \"carrefour catalogue\"\t~62, \"drive carrefour\"\t~61, \"carrefour drive\"\t~61\n",
    "\n",
    "##### Standard Deviation\n",
    "With a sigma above ~17, the following keywords showcase the highest volatility in search patterns: \"catalogue carrefour\", \"carrefour catalogue\", \"cora\", \"foire aux vins carrefour\".\n",
    "\n",
    "##### Range (max-min)\n",
    "Several FMCG-related and brand name keywords are acarcterised with wide fluctuations in attention (range above 50): \"foire aux vins carrefour\", \"pizza carrefour\", \"carrefour\", \"cora carrefour\", \"cora\", \"carrefour market\", \"leclerc\".\n",
    "\n",
    "##### Skewness and Kurtosis\n",
    "A few keywords have a negative skew, with only \"Auchan catalogue\" having a skewness above -1.0. Interestingly, \"carrefour livraison Ã domicile\", \"rappel produit carrefour\", \"E.Leclerc\" and \"carrefour recrutement\" have a significant positive skeweness (all above +5.0), indicating a low search interest with occasional spikes in interest. These same keywords are also the ones with the highest kurtosis, suggesting strong event-driven behaviour. Based on the meaning of the keywords, we can see that this is possibly related to news or exceptional occasions (\"rappel produit carrefour\" and \"E.Leclerc\") or seasonal events (\"carrefour recrutement\").\n",
    "\n",
    "##### Volatility (std/mean)\n",
    "Based on the data, we can set the volatility thresholds as follows:\n",
    "* below 0.20 Low: most of these keywords are brand equity\n",
    "* 0.20 – 0.50 Medium: keywords here seem to be related to FMCG sales cycles\n",
    "* 0.50 – 1.0 High: keywords in this group are possibly linked to events as they have high variance in consumer interest.\n",
    "* above 1.0 Very High: these keywords might be helpful for short-term forecasting or anomaly analysis."
   ]
  },
  {
   "cell_type": "markdown",
   "id": "6faca519-7dc5-4a99-b675-3c3b60107400",
   "metadata": {},
   "source": [
    "#### 5. Missing Values Analysis\n",
    "Check how much missing and flat data there is with visuals."
   ]
  },
  {
   "cell_type": "code",
   "execution_count": null,
   "id": "64c641c0-b2bf-438a-ae36-330fcd0e4ea7",
   "metadata": {},
   "outputs": [],
   "source": [
    "missing = df_kw_pd.isnull().sum()\n",
    "missing = missing[missing > 0]\n",
    "\n",
    "if not missing.empty:\n",
    "    print(\"Columns with missing values:\")\n",
    "    print(missing)\n",
    "else:\n",
    "    print(\"No missing values found.\")\n"
   ]
  },
  {
   "cell_type": "code",
   "execution_count": null,
   "id": "7720dd70-37e1-42e8-be5b-86749b934e45",
   "metadata": {
    "scrolled": true
   },
   "outputs": [],
   "source": [
    "zeros = (df_kw_pd == 0).sum()\n",
    "zeros = zeros[zeros > 0]\n",
    "\n",
    "if not zeros.empty:\n",
    "    print(\"Number of zeros in columns:\")\n",
    "    print(zeros)\n",
    "else:\n",
    "    print(\"No columns with zeros values found.\")\n"
   ]
  },
  {
   "cell_type": "markdown",
   "id": "0a4b8d2c-697b-47ea-9d99-7318dd4fa016",
   "metadata": {},
   "source": [
    "Keywords with many zero values might have episodic or accidental search interest; these will be monitored throughout the rest of the EDA."
   ]
  },
  {
   "cell_type": "markdown",
   "id": "6cd9e4cc-090b-40aa-9c9e-dbb8b1a850b5",
   "metadata": {},
   "source": [
    "#### 6. Keyword Correlation Matrix"
   ]
  },
  {
   "cell_type": "code",
   "execution_count": null,
   "id": "8127f98f-aa27-463b-bb0f-4583bed8fb23",
   "metadata": {},
   "outputs": [],
   "source": [
    "corr = df_kw_pd.corr()\n",
    "mask = np.triu(np.ones_like(corr, dtype=bool))\n",
    "plt.figure(figsize=(35, 20))\n",
    "sns.heatmap(corr, \n",
    "            mask=mask, \n",
    "            cmap='coolwarm', \n",
    "            center=0, \n",
    "            linewidths=0.5, \n",
    "            annot=True)\n",
    "plt.title(\"Keywords Correlation Matrix\")\n",
    "plt.tight_layout()\n",
    "plt.show()"
   ]
  },
  {
   "cell_type": "code",
   "execution_count": null,
   "id": "78517361-4e05-46f3-b1f7-0e990fa06ebd",
   "metadata": {},
   "outputs": [],
   "source": [
    "#categorise keyword pairs\n",
    "corr_pairs = corr.where(np.triu(np.ones(corr.shape), k=1).astype(bool))\n",
    "corr_pairs = corr_pairs.stack().reset_index()\n",
    "corr_pairs.columns = ['Keyword1', 'Keyword2', 'Correlation']\n",
    "\n",
    "def categorize_corr(value):\n",
    "    if value >= 0.8:\n",
    "        return 'High Positive'\n",
    "    elif value <= -0.8:\n",
    "        return 'High Negative'\n",
    "    elif value >= 0.4:\n",
    "        return 'Average Positive'\n",
    "    elif value <= -0.4:\n",
    "        return 'Average Negative'\n",
    "    elif value >= 0.0:\n",
    "        return 'Low Positive'\n",
    "    elif value > -0.4:\n",
    "        return 'Low Negative'\n",
    "    else:\n",
    "        value\n",
    "        return 'Negative'\n",
    "\n",
    "corr_pairs['Category'] = corr_pairs['Correlation'].apply(categorize_corr)"
   ]
  },
  {
   "cell_type": "markdown",
   "id": "717acc83-1d59-412c-93c3-8edec732e103",
   "metadata": {},
   "source": [
    "##### HIGH CORRELATION PAIRS"
   ]
  },
  {
   "cell_type": "code",
   "execution_count": null,
   "id": "575faa5b-59f7-4eea-9caa-db8cb07966bd",
   "metadata": {},
   "outputs": [],
   "source": [
    "high_corr = corr_pairs[corr_pairs['Category'].isin(['High Positive', 'High Negative'])]\n",
    "print(high_corr.to_string(index=False))"
   ]
  },
  {
   "cell_type": "markdown",
   "id": "66fe5d37-5756-4177-bce8-4648001ea229",
   "metadata": {},
   "source": [
    "Highly correlated keywords are all positive indicating a strong linear positive correlation.\n",
    "\n",
    "* Carrefour and its sub-brands/services show consistently high correlations, suggesting that interest in Carrefour as a brand is strongly tied to its different offerings.\n",
    "* Consumers frequently search promotions or catalogues in conjunction with drive-related services.\n",
    "* Strong correlation between Carrefour and competitors, suggesting that users often compare multiple grocery retailers in the same session or buying cycle.\n",
    "* High correlation between localised formats, confirming the literature as of France's interest in urban and convenience-oriented store formats"
   ]
  },
  {
   "cell_type": "markdown",
   "id": "e65e50ad-86f2-4a6f-9121-d87bf146f43f",
   "metadata": {},
   "source": [
    "##### AVERAGE CORRELATION PAIRS\n",
    "\n",
    "Reflect moderately aligned but differentiated consumer behaviours."
   ]
  },
  {
   "cell_type": "code",
   "execution_count": null,
   "id": "10921a91-fd6d-41c7-8e17-3ba1ba59f378",
   "metadata": {},
   "outputs": [],
   "source": [
    "avg_corr = corr_pairs[corr_pairs['Category'].isin(['Average Positive', 'Average Negative'])]\n",
    "print(avg_corr.to_string(index=False))"
   ]
  },
  {
   "cell_type": "markdown",
   "id": "cbc9287a-f756-459c-9574-8b69bff08bea",
   "metadata": {},
   "source": [
    "##### LOW CORRELATION PAIRS"
   ]
  },
  {
   "cell_type": "code",
   "execution_count": null,
   "id": "1897955e-16e8-461e-b88b-a61cb62b27ac",
   "metadata": {
    "scrolled": true
   },
   "outputs": [],
   "source": [
    "low_corr = corr_pairs[corr_pairs['Category'].isin(['Low Positive', 'Low Negative'])]\n",
    "print(low_corr.to_string(index=False))"
   ]
  },
  {
   "cell_type": "markdown",
   "id": "992e8fca-7885-4cab-8083-ae9667c67e60",
   "metadata": {},
   "source": [
    "**Positive Low Correlations**\n",
    "* Product-specific keywords (aloe vera, pizza, ongle carrefour) often exhibit isolated behaviours, hinting at niche shopping intent or product-specific campaigns.\n",
    "\n",
    "**Negative Correlations**\n",
    "* These pairs indicate weak or diverging search behaviour, which may suggest: niche interest, separate consumer journeys, misalignment in search intent or timing.\n",
    "* `carefour` (misspelt) has several negative correlations (`carrefour drive` (-0.35), `carrefour promo` (-0.20), `carrefour catalogue` (-0.36)), suggesting noise or irrelevant intent behind this keyword."
   ]
  },
  {
   "cell_type": "markdown",
   "id": "7a42ee19-45cf-4270-949d-c3bd824502b5",
   "metadata": {},
   "source": [
    "##### Conclusions\n",
    "Based on the descriptive analysis, count of zeros in the columns, and correlation matrix, we can state the following for our analysis:\n",
    "\n",
    "* `carefour`: Highly noisy and negatively correlated with most Carrefour terms, it will be removed as it may not be relevant. \n",
    "* `carrefour livraison à domicile`: Sparse and episodic search behaviour, will be aggregated with `carrefour livraison domicile`.\n",
    "* `aloe vera carrefour`: Niche product search, best to aggregate it with other FMCG keywords.\n",
    "* `E.Leclerc`: inconsistent sample, best to remove as there is already the `lecerc` keyword fulfilling the same search intent.\n",
    "* `carrefour recrutement`: Episodic search, while it possibly follows a seasonal recruitment pattern, it has too little data to provide insight fully.\n",
    "* `rappel produit carrefour`: Event-driven; behaves independently from regular consumer patterns."
   ]
  },
  {
   "cell_type": "code",
   "execution_count": null,
   "id": "c08cc36f-462b-4304-be5f-6efff31549ba",
   "metadata": {
    "scrolled": true
   },
   "outputs": [],
   "source": [
    "#drop desired keywords\n",
    "df_kw_pd = df_kw_pd.drop(columns=[\"carefour\", \"E.Leclerc\", \"carrefour recrutement\"])"
   ]
  },
  {
   "cell_type": "code",
   "execution_count": null,
   "id": "c42a7897-8bce-4d92-ac94-bd03adfd310c",
   "metadata": {},
   "outputs": [],
   "source": [
    "df_kw_pd.shape"
   ]
  },
  {
   "cell_type": "markdown",
   "id": "a34f6b07-0a9f-4b36-978b-d8d3c6cedace",
   "metadata": {},
   "source": [
    "## Google Trends keywords aggregated"
   ]
  },
  {
   "cell_type": "markdown",
   "id": "7abb4ff0-e40c-4ff4-8b6a-86324295e00e",
   "metadata": {},
   "source": [
    "Based on search intent, keywords can be aggregated as follows:\n",
    "\n",
    "> ⚠️ keywords marked as ~~keywords~~ are those dropped after the initial EDA\n",
    "\n",
    "| Aggregate | Keywords | Justification |\n",
    "|---|---|---|\n",
    "| Brand | carrefour, carrefour autour de moi, ~~carrefour near me~~, ~~carfour~~, ~~carefour~~ | Serves as an anchor term to capture general brand interest and visibility. |\n",
    "| Service and logistics | carrefour drive, drive carrefour, carrefour livraison, carrefour livraison domicile, carrefour livraison Ã domicile | Reflects consumer demand for fulfillment services such as click-and-collect and home delivery, indicating operational engagement. |\n",
    "| Sub-brand | carrefour market, carrefour city, carrefour express, cora | Provides more granular insight into Carrefour’s diversified retail formats and regional presence. |\n",
    "| Promo and engagement | carrefour promo, carrefour code promo drive, carrefour catalogue, catalogue carrefour, carrefour fidelite, bon d'achat carrefour | Captures interest in promotions, loyalty programs, and catalogues—key drivers of footfall and conversion in price-sensitive FMCG segments. |\n",
    "| FMCG products | carrefour produits, carrefour alimentaire, carrefour epicerie, carrefour bio, pizza carrefour, foire aux vins carrefour, ongle carrefour, franck provost carrefour, parfumerie carrefour, aloe vera carrefour | Reflects consumer preferences for specific product categories; interest in organic and beauty items may indicate evolving lifestyle and sustainability trends. |\n",
    "| Competitors | Auchan, Auchan catalogue, ~~E.Leclerc~~, leclerc, ~~IntermarchÃ©~~, lidl, super u  | Rising interest in competing retailers may signal market share shifts or influence investor sentiment regarding Carrefour. |\n",
    "| Finance | ~~carrefour bourse~~, ~~carrefour recrutement~~, carrefour credit, carrefour assurance, action carrefour, carrefour banque, carrefour anti crise | Indicates public engagement with Carrefour’s financial operations, job market relevance, and economic resilience. |\n",
    "| News  | fermeture carrefour, rappel produit carrefour, cora carrefour | Tracks external news-driven factors, including store closures and product recalls, which may impact consumer trust or financial outlook. |"
   ]
  },
  {
   "cell_type": "code",
   "execution_count": null,
   "id": "65d20923-7c38-4efe-ad96-4536c2ce55fc",
   "metadata": {},
   "outputs": [],
   "source": [
    "#show preview keywords\n",
    "df_agg.show(5)\n",
    "df_agg.printSchema()"
   ]
  },
  {
   "cell_type": "code",
   "execution_count": null,
   "id": "999042d1-d249-43ba-bbae-aee2d60762e5",
   "metadata": {},
   "outputs": [],
   "source": [
    "# Convert PySpark DataFrame to Pandas\n",
    "df_agg_pd_ = df_agg.toPandas()"
   ]
  },
  {
   "cell_type": "code",
   "execution_count": null,
   "id": "2df79fdf-c5e0-4215-a4c9-a972806e71a0",
   "metadata": {},
   "outputs": [],
   "source": [
    "# Ensure 'date' column is datetime and set it as the index\n",
    "df_agg_pd_['date'] = pd.to_datetime(df_agg_pd_['date'], dayfirst=True)\n",
    "df_agg_pd_.set_index('date', inplace=True)"
   ]
  },
  {
   "cell_type": "code",
   "execution_count": null,
   "id": "cdb5772c-94c8-4747-8eae-9057f7fc3412",
   "metadata": {},
   "outputs": [],
   "source": [
    "# Plotting all keywords \n",
    "plt.figure(figsize=(16, 8))\n",
    "\n",
    "for keyword in df_agg_pd_.columns:\n",
    "    plt.plot(df_agg_pd_.index, df_agg_pd_[keyword], label=keyword, linewidth=2)\n",
    "\n",
    "plt.title(\"Search Interest Over Time by Aggregated Keywords\", fontsize=14)\n",
    "plt.xlabel(\"Date\")\n",
    "plt.ylabel(\"Google SVI (0–100)\")\n",
    "plt.legend(bbox_to_anchor=(1.05, 1), loc=\"upper left\", fontsize=8)\n",
    "plt.tight_layout()\n",
    "plt.grid(True)\n",
    "plt.show()"
   ]
  },
  {
   "cell_type": "markdown",
   "id": "8c84614c-334a-47fc-a9eb-e917659561d6",
   "metadata": {},
   "source": [
    "The aggregation of the SVI data in the `carrefour_search_trends_aggregated.csv` was initially performed at the data collection stage in the following manner: \n",
    "- one column for each aggregated category (as defined in the table above);\n",
    "- each row represents a time period with weekly frequency;\n",
    "- each value is the sum of the SVI values for all keywords belonging to that category at that point in time.\n",
    "\n",
    "However, this initial aggregation method is methodologically unsatisfactory. In Google Trends each keyword's SVI is scaled individually (where 0 represent the lowest relative search interest and 100 the peak relative interest within the time range selected), therefore, summing across keywords combines values on different scales. As such we risk overemphasising categories with more keywords and introduce bias if some keywords exhibit greater volatility than others.\n",
    "\n",
    "To enhance the interpretability and methodological robustness of the analysis, alternative aggregation techniques should be considered:\n",
    "\n",
    "| Aggregation Method   | Analysis   | \n",
    "|:---|:---|\n",
    "| Simple mean | Assigns equal weight to all keywords, avoids keyword-count bias, and is easy to interpret. |\n",
    "| Weighted mean | Offers higher accuracy if reliable weights (e.g., based on historical correlation or relevance) are available. |\n",
    "| Z-score normalised mean | Standardises keyword volatility and expresses interest relative to each keyword’s historical mean. |\n",
    "| Median | More robust to outliers and episodic spikes, especially useful with erratic or sparse search data. |\n",
    "| Principal component aggregation (PCA) | Extracts the dominant shared pattern across keywords, ideal when a common driver is expected. |\n",
    "| Maximum value (peak interest) | Highlights the most significant surge in attention per period, suitable for tracking event-driven spikes. |\n",
    "| Frequency-based binary aggregation | Converts SVIs into binary indicators (e.g., 1 if above threshold), capturing the breadth of search interest per category. |\n",
    "\n",
    "Using the mean as the aggregation method is likely the most appropriate option, as it mitigates the bias of differing keyword counts while also offering an intuitive measure of category-level search interest. However, to avoid weight bias, keywords with almost equal search intent will be aggregated separately first; these are:\n",
    "* \"carrefour drive\", \"drive carrefour\"\n",
    "* \"carrefour livraison\", \"carrefour livraison domicile\", \"carrefour livraison Ã domicile\"\n",
    "* \"carrefour promo\", \"carrefour code promo drive\"\n",
    "* \"carrefour catalogue\", \"catalogue carrefour\"\n",
    "* \"Auchan\", \"Auchan catalogue\""
   ]
  },
  {
   "cell_type": "code",
   "execution_count": null,
   "id": "a79a6bea-bfbb-4e96-a74f-b8b6f20dc20f",
   "metadata": {},
   "outputs": [],
   "source": [
    "# Averaging specified keywords and creating new merged columns using df_kw_pd\n",
    "df_kw_pd[\"c_drive\"] = df_kw_pd[[\"carrefour drive\", \"drive carrefour\"]].mean(axis=1)\n",
    "df_kw_pd[\"c_livraison\"] = df_kw_pd[[\"carrefour livraison\", \"carrefour livraison domicile\", \"carrefour livraison Ã domicile\"]].mean(axis=1)\n",
    "df_kw_pd[\"promo\"] = df_kw_pd[[\"carrefour promo\", \"carrefour code promo drive\"]].mean(axis=1)\n",
    "df_kw_pd[\"catalogue\"] = df_kw_pd[[\"carrefour catalogue\", \"catalogue carrefour\"]].mean(axis=1)\n",
    "df_kw_pd[\"auchan\"] = df_kw_pd[[\"Auchan\", \"Auchan catalogue\"]].mean(axis=1)"
   ]
  },
  {
   "cell_type": "code",
   "execution_count": null,
   "id": "d304bb41-0f21-41b4-8337-bde836a78344",
   "metadata": {},
   "outputs": [],
   "source": [
    "#dropping old keywords now merged\n",
    "df_agg_pd = df_kw_pd.drop(columns=[\n",
    "    \"carrefour drive\", \"drive carrefour\",\n",
    "    \"carrefour livraison\", \"carrefour livraison domicile\", \"carrefour livraison Ã domicile\",\n",
    "    \"carrefour promo\", \"carrefour code promo drive\",\n",
    "    \"carrefour catalogue\", \"catalogue carrefour\",\n",
    "    \"Auchan\", \"Auchan catalogue\"\n",
    "])"
   ]
  },
  {
   "cell_type": "code",
   "execution_count": null,
   "id": "c8fb0ea0-0389-4d0e-8770-ed7bddc2c040",
   "metadata": {},
   "outputs": [],
   "source": [
    "df_agg_pd.shape"
   ]
  },
  {
   "cell_type": "code",
   "execution_count": null,
   "id": "a0db13dc-6d95-49e3-97fc-12a6a24bec27",
   "metadata": {},
   "outputs": [],
   "source": [
    "df_agg_pd.columns "
   ]
  },
  {
   "cell_type": "code",
   "execution_count": null,
   "id": "b264c2ec-8c13-4c4b-910f-3acec4289714",
   "metadata": {},
   "outputs": [],
   "source": [
    "#aggregating variables based on category\n",
    "df_agg_pd[\"brand\"] = df_kw_pd[[\"carrefour\", \"carrefour autour de moi\"]].mean(axis=1)\n",
    "df_agg_pd[\"service\"] = df_kw_pd[[\"c_drive\", \"c_livraison\"]].mean(axis=1)\n",
    "df_agg_pd[\"sub-brand\"] = df_kw_pd[[\"carrefour market\", \"carrefour city\", \"carrefour express\", \"cora\"]].mean(axis=1)\n",
    "df_agg_pd[\"promo\"] = df_kw_pd[[\"promo\", \"catalogue\", \"carrefour fidelite\", \"bon d'achat carrefour\"]].mean(axis=1)\n",
    "df_agg_pd[\"fmcg\"] = df_kw_pd[[\"carrefour produits\", \"carrefour alimentaire\", \"carrefour epicerie\", \"carrefour bio\", \"pizza carrefour\", \"foire aux vins carrefour\", \"ongle carrefour\", \"franck provost carrefour\", \"parfumerie carrefour\", \"aloe vera carrefour\"]].mean(axis=1)\n",
    "df_agg_pd[\"competitors\"] = df_kw_pd[[\"auchan\", \"leclerc\", \"lidl\", \"super u\"]].mean(axis=1)\n",
    "df_agg_pd[\"finance\"] = df_kw_pd[[\"carrefour credit\", \"carrefour assurance\", \"action carrefour\", \"carrefour banque\", \"carrefour anti crise\"]].mean(axis=1)\n",
    "df_agg_pd[\"news\"] = df_kw_pd[[\"fermeture carrefour\", \"rappel produit carrefour\", \"cora carrefour\"]].mean(axis=1)"
   ]
  },
  {
   "cell_type": "code",
   "execution_count": null,
   "id": "d847e954-1447-4b50-b665-de75483a8934",
   "metadata": {},
   "outputs": [],
   "source": [
    "#dropping old keywords now merged\n",
    "df_agg_final = df_agg_pd.drop(columns=[\n",
    "    \"carrefour\", \"carrefour autour de moi\", \"carrefour city\",\n",
    "    \"carrefour express\", \"carrefour market\", \"cora\", \"bon d'achat carrefour\",\n",
    "    \"carrefour fidelite\", \"carrefour alimentaire\", \"carrefour bio\", \"carrefour epicerie\", \"carrefour produits\",\n",
    "    \"pizza carrefour\", \"aloe vera carrefour\", \"foire aux vins carrefour\",\n",
    "    \"franck provost carrefour\", \"ongle carrefour\", \"parfumerie carrefour\",\n",
    "    \"leclerc\", \"carrefour credit\", \"lidl\", \"super u\", \"action carrefour\",\n",
    "    \"carrefour anti crise\", \"carrefour assurance\", \"carrefour banque\",\n",
    "    \"fermeture carrefour\", \"cora carrefour\", \"rappel produit carrefour\",\n",
    "    \"c_drive\", \"c_livraison\", \"promo\", \"catalogue\", \"auchan\"  # fixed here\n",
    "])\n"
   ]
  },
  {
   "cell_type": "code",
   "execution_count": null,
   "id": "6d6d84c4-853d-47a1-863e-8beb0be0496d",
   "metadata": {},
   "outputs": [],
   "source": [
    "df_agg_final.shape"
   ]
  },
  {
   "cell_type": "code",
   "execution_count": null,
   "id": "675855cc-47d0-4079-8be7-e3d1227a46ab",
   "metadata": {},
   "outputs": [],
   "source": [
    "df_agg_final.columns "
   ]
  },
  {
   "cell_type": "markdown",
   "id": "87164fd0-0b7c-42bc-98c2-c345346c569d",
   "metadata": {},
   "source": [
    "### EDA Aggregated DataFrame df_agg_final"
   ]
  },
  {
   "cell_type": "markdown",
   "id": "87c3caff-6d39-475f-accf-03381805deda",
   "metadata": {},
   "source": [
    "##### 1. Statistical Summary"
   ]
  },
  {
   "cell_type": "code",
   "execution_count": null,
   "id": "281a141e-e70d-4086-b5eb-07a761f2b0bc",
   "metadata": {},
   "outputs": [],
   "source": [
    "df_agg_final.describe().T"
   ]
  },
  {
   "cell_type": "markdown",
   "id": "f641c0f6-493b-4c42-a232-4974ea5b6965",
   "metadata": {},
   "source": [
    "##### 2. Correlation Matrix "
   ]
  },
  {
   "cell_type": "code",
   "execution_count": null,
   "id": "2510e162-5cb6-43a4-90b5-9ba5362e87b1",
   "metadata": {},
   "outputs": [],
   "source": [
    "corr = df_agg_final.corr()\n",
    "mask = np.triu(np.ones_like(corr, dtype=bool))\n",
    "plt.figure(figsize=(5, 3))\n",
    "sns.heatmap(corr, \n",
    "            mask=mask, \n",
    "            cmap='coolwarm', \n",
    "            center=0, \n",
    "            linewidths=0.5, \n",
    "            annot=True)\n",
    "plt.title(\"Aggregated Keywords Correlation Matrix\")\n",
    "plt.tight_layout()\n",
    "plt.show()"
   ]
  },
  {
   "cell_type": "markdown",
   "id": "fced6109-4cef-41a1-ae0a-9fbe19a43216",
   "metadata": {},
   "source": [
    "##### 3. Boxplots"
   ]
  },
  {
   "cell_type": "code",
   "execution_count": null,
   "id": "08aed35f-ca86-4e45-a979-2eed040885a6",
   "metadata": {},
   "outputs": [],
   "source": [
    "df_agg_final.plot(kind='box', vert=False, figsize=(6, 3), title='SVI Aggregated Distribution')\n",
    "plt.tick_params(axis='x', which='both', labeltop=True)\n",
    "plt.grid(axis='x', linestyle=':', linewidth=0.7)\n",
    "plt.xticks(np.arange(0, 70, 5))\n",
    "plt.tight_layout()\n",
    "plt.show()"
   ]
  },
  {
   "cell_type": "markdown",
   "id": "d9ceb44d-efa1-4198-9cec-bfad2afcaa15",
   "metadata": {},
   "source": [
    "##### 4. Time Series Trends"
   ]
  },
  {
   "cell_type": "code",
   "execution_count": null,
   "id": "c383a4ca-60b4-4970-8b54-286923863510",
   "metadata": {},
   "outputs": [],
   "source": [
    "# Plotting all keywords \n",
    "plt.figure(figsize=(12, 4))\n",
    "\n",
    "for idx, keyword in enumerate(df_agg_final.columns):\n",
    "    plt.plot(df_agg_final.index, df_agg_final[keyword], label=keyword)\n",
    "\n",
    "plt.title(\"Search Interest Over Time by Aggregated Keyword\", fontsize=11)\n",
    "plt.xlabel(\"Date\")\n",
    "plt.ylabel(\"Google SVI (0–100)\")\n",
    "plt.legend(bbox_to_anchor=(1.05, 1), loc=\"upper left\", fontsize=8)\n",
    "plt.tight_layout()\n",
    "plt.grid(True)\n",
    "plt.show()"
   ]
  },
  {
   "cell_type": "markdown",
   "id": "9c52ffc5-a023-434b-b96d-92d66d208dcc",
   "metadata": {},
   "source": [
    "# Carrefour France stock data\r\n",
    "This data was collectedat daily and weekly frequenciesy."
   ]
  },
  {
   "cell_type": "code",
   "execution_count": null,
   "id": "8e509988-e663-4bfc-bf63-fb695b16f291",
   "metadata": {},
   "outputs": [],
   "source": [
    "#read CSV using Spark\n",
    "df_fin = spark.read.csv('search-trends-vs-financial-markets/Collected Data/carrefour_stock_data.csv', header=True, inferSchema=True)\n",
    "df_wfin = spark.read.csv('search-trends-vs-financial-markets/Collected Data/carrefour_stock_weekly.csv', header=True, inferSchema=True)"
   ]
  },
  {
   "cell_type": "markdown",
   "id": "798496ee-7044-49bf-9f41-36dfe3f24a16",
   "metadata": {},
   "source": [
    "#### Daily stocks"
   ]
  },
  {
   "cell_type": "code",
   "execution_count": null,
   "id": "9b51b9df-661e-4160-8695-dc7d50f585e0",
   "metadata": {},
   "outputs": [],
   "source": [
    "#show preview daily stocks\n",
    "df_fin.show(5)\n",
    "df_fin.printSchema()"
   ]
  },
  {
   "cell_type": "markdown",
   "id": "f1bef5db-795c-4cad-9383-48036b9a54b8",
   "metadata": {},
   "source": [
    "#### Weekly stocks"
   ]
  },
  {
   "cell_type": "code",
   "execution_count": null,
   "id": "61e93c36-4bc9-478d-946f-264c0357d255",
   "metadata": {
    "scrolled": true
   },
   "outputs": [],
   "source": [
    "#show preview stocks\n",
    "df_wfin.show(5)\n",
    "df_wfin.printSchema()"
   ]
  },
  {
   "cell_type": "markdown",
   "id": "6d8c71ec-2aa1-483e-a02b-6008e5e47a66",
   "metadata": {},
   "source": [
    "##### Convert PySpark DataFrame to Pandas to analyse "
   ]
  },
  {
   "cell_type": "code",
   "execution_count": null,
   "id": "ad8c42d9-0605-4d8e-8ed0-ea9821e81421",
   "metadata": {},
   "outputs": [],
   "source": [
    "df_wfin = df_wfin.toPandas()"
   ]
  },
  {
   "cell_type": "code",
   "execution_count": null,
   "id": "6d51c552-c279-44e3-9afe-8d6cac0bd992",
   "metadata": {},
   "outputs": [],
   "source": [
    "df_wfin.shape"
   ]
  },
  {
   "cell_type": "markdown",
   "id": "9d8f14d6-eadb-4e5c-9a37-7d09a2808b3a",
   "metadata": {},
   "source": [
    "### The time issue. \n",
    "Upon reviewing the collected datasets, a discrepancy in date labelling was identified between the weekly stock data from `yfinance` and the Google Trends keyword data. To facilitate data comparison and accurate time-series modelling, all datasets must share a standard, synchronised timeframe.\n",
    "\n",
    "1. *Stock Market Data*\n",
    "\n",
    "The weekly stock data from `yfinance` uses Monday as the label for each weekly observation. However, each row in the dataset represents the week ending Friday, but is indexed by the preceding Monday.\n",
    "\n",
    "2. *Google Trends Data*\n",
    "\n",
    "Google Trends aggregates search interest weekly, with each week's data point labelled by Sunday, the end of the search week.\n",
    "\n",
    "\n",
    "This results in a misalignment between:\n",
    "* Stock closing prices (on Friday, labelled as Monday),\n",
    "* Search volume data (ending Sunday).\n",
    "\n",
    "The solution to align both datasets:\n",
    "* Google Trends dates will be shifted −2 days (from Sunday → Friday) to represent the end of the same week as the stock market.\n",
    "* Stock data dates will be shifted +4 days (from Monday → Friday) to reflect the actual trading day.\n",
    "\n",
    "This ensures that both data sources are indexed by the same Friday date, making them directly comparable for all subsequent analysis."
   ]
  },
  {
   "cell_type": "markdown",
   "id": "a93d5f2d-27ea-4394-80c5-fc9579d71a8b",
   "metadata": {},
   "source": [
    "##### Adjust Google Trends dates (from Sunday to Friday)"
   ]
  },
  {
   "cell_type": "code",
   "execution_count": null,
   "id": "72af1026-aa4b-446a-8f98-f67f4e020c7d",
   "metadata": {},
   "outputs": [],
   "source": [
    "df_agg_final.index = df_agg_final.index - pd.Timedelta(days=2)"
   ]
  },
  {
   "cell_type": "markdown",
   "id": "cfccf656-9f29-43fa-8cfe-604c884a44d8",
   "metadata": {},
   "source": [
    "##### Adjust Stock Data dates (from Monday to Friday)"
   ]
  },
  {
   "cell_type": "code",
   "execution_count": null,
   "id": "a618ef6f-e263-4a0b-9b73-e74d2df2f16f",
   "metadata": {},
   "outputs": [],
   "source": [
    "df_wfin['Date'] = pd.to_datetime(df_wfin['Date']) + pd.Timedelta(days=4)"
   ]
  },
  {
   "cell_type": "code",
   "execution_count": null,
   "id": "d0c144ee-6541-4815-8ec1-ce9600ea155f",
   "metadata": {},
   "outputs": [],
   "source": [
    "#set date as index\n",
    "df_wfin.set_index('Date', inplace=True)"
   ]
  },
  {
   "cell_type": "code",
   "execution_count": null,
   "id": "16ac1a28-4ae3-4a25-ac3b-43d550a87e49",
   "metadata": {},
   "outputs": [],
   "source": [
    "print('Google Trends')\n",
    "print(df_agg_final.index.min(), df_agg_final.index.max())\n",
    "print('yFinance')\n",
    "print(df_wfin.index.min(), df_wfin.index.max())"
   ]
  },
  {
   "cell_type": "markdown",
   "id": "a7e3546e-3b6b-4a76-8656-a2e935b8aa27",
   "metadata": {},
   "source": [
    "There is a date range difference between the two datasets; the `df_agg_final` starts 2 weeks earlier and finishes one week earlier than `df_wfin`."
   ]
  },
  {
   "cell_type": "code",
   "execution_count": null,
   "id": "2830d6b7-ead9-4ddb-9d74-f65d41f359a3",
   "metadata": {},
   "outputs": [],
   "source": [
    "# Drop the first two weeks from Google Trends\n",
    "df_agg_final = df_agg_final.iloc[2:]\n",
    "\n",
    "# Drop the last week from stock data\n",
    "df_wfin = df_wfin.iloc[:-1]"
   ]
  },
  {
   "cell_type": "code",
   "execution_count": null,
   "id": "93ad6f53-5a1a-4b15-a598-c22f2824d138",
   "metadata": {},
   "outputs": [],
   "source": [
    "print('Google Trends')\n",
    "print(df_agg_final.index.min(), df_agg_final.index.max())\n",
    "print('yFinance')\n",
    "print(df_wfin.index.min(), df_wfin.index.max())"
   ]
  },
  {
   "cell_type": "markdown",
   "id": "4802e852-424f-4297-afe1-1ada42fa29ef",
   "metadata": {},
   "source": [
    "##### 1. Statistical Summary"
   ]
  },
  {
   "cell_type": "code",
   "execution_count": null,
   "id": "a9d3a8ff-e3b2-441c-a4d6-4f91229d9d7e",
   "metadata": {},
   "outputs": [],
   "source": [
    "df_wfin.info()"
   ]
  },
  {
   "cell_type": "code",
   "execution_count": null,
   "id": "68ca3f10-5952-4ad5-bc2b-6b5736afa174",
   "metadata": {},
   "outputs": [],
   "source": [
    "df_wfin.describe().T"
   ]
  },
  {
   "cell_type": "markdown",
   "id": "5603f2da-9e34-4df7-b3e6-65d50018f429",
   "metadata": {},
   "source": [
    "##### 2. Close price over time"
   ]
  },
  {
   "cell_type": "code",
   "execution_count": null,
   "id": "052f23c9-8734-469d-aed8-43443d2cfe4b",
   "metadata": {},
   "outputs": [],
   "source": [
    "plt.figure(figsize=(10, 4))\n",
    "plt.plot(df_wfin.index, df_wfin['Close'], label='Close Price', color='violet')\n",
    "plt.title(\"Weekly Close Price Over Time\")\n",
    "plt.xlabel(\"Date\")\n",
    "plt.ylabel(\"Price (€)\")\n",
    "plt.grid(True)\n",
    "plt.tight_layout()\n",
    "plt.show()"
   ]
  },
  {
   "cell_type": "markdown",
   "id": "ba6e865e-2257-4a39-8e7c-8f142988c976",
   "metadata": {},
   "source": [
    "##### 3. Volume over time"
   ]
  },
  {
   "cell_type": "code",
   "execution_count": null,
   "id": "4774bf15-cce0-46da-ae6e-0cf54929ca50",
   "metadata": {},
   "outputs": [],
   "source": [
    "plt.figure(figsize=(10, 4))\n",
    "plt.plot(df_wfin.index, df_wfin['Volume'], label='Volume', color='orange')\n",
    "plt.title(\"Weekly Trading Volume\")\n",
    "plt.xlabel(\"Date\")\n",
    "plt.ylabel(\"Volume\")\n",
    "plt.grid(True)\n",
    "plt.tight_layout()\n",
    "plt.show()"
   ]
  },
  {
   "cell_type": "markdown",
   "id": "856f960f-ce34-4768-893e-035c203decaa",
   "metadata": {},
   "source": [
    "##### 4. Rolling mean"
   ]
  },
  {
   "cell_type": "code",
   "execution_count": null,
   "id": "939f6b43-905f-494a-97cc-db02a304fb03",
   "metadata": {},
   "outputs": [],
   "source": [
    "df_wfin['rolling_mean'] = df_wfin['Close'].rolling(window=4).mean()\n",
    "df_wfin['rolling_std'] = df_wfin['Close'].rolling(window=4).std()\n",
    "\n",
    "df_wfin[['Close', 'rolling_mean']].plot(figsize=(10,4), title='Close Price with Rolling Mean (4 weeks)')\n",
    "plt.grid(True)\n",
    "plt.tight_layout()\n",
    "plt.show()"
   ]
  },
  {
   "cell_type": "code",
   "execution_count": null,
   "id": "95ff6cf7-9b8f-418d-8879-cdf187161074",
   "metadata": {},
   "outputs": [],
   "source": []
  }
 ],
 "metadata": {
  "kernelspec": {
   "display_name": "Python [conda env:Orange]",
   "language": "python",
   "name": "conda-env-Orange-py"
  },
  "language_info": {
   "codemirror_mode": {
    "name": "ipython",
    "version": 3
   },
   "file_extension": ".py",
   "mimetype": "text/x-python",
   "name": "python",
   "nbconvert_exporter": "python",
   "pygments_lexer": "ipython3",
   "version": "3.9.12"
  }
 },
 "nbformat": 4,
 "nbformat_minor": 5
}
