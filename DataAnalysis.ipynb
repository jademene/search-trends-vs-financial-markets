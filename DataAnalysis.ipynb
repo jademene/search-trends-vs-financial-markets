{
 "cells": [
  {
   "cell_type": "code",
   "execution_count": null,
   "id": "4ecd2a76-2bde-4996-b744-187f954b4135",
   "metadata": {
    "editable": true,
    "scrolled": true,
    "slideshow": {
     "slide_type": ""
    },
    "tags": []
   },
   "outputs": [],
   "source": [
    "#installing dependencies\n",
    "!pip install -q pyspark findspark"
   ]
  },
  {
   "cell_type": "code",
   "execution_count": null,
   "id": "b3725997-77a7-4fe2-89a9-0e212f99bd91",
   "metadata": {},
   "outputs": [],
   "source": [
    "# Initialise Spark to locate Java dependencies\n",
    "import findspark\n",
    "findspark.init()\n",
    "\n",
    "#Pyspark for distributed data processing\n",
    "import pyspark\n",
    "from pyspark.sql import SparkSession #initialise spark\n",
    "from pyspark.sql.functions import col, sum as _sum\n",
    "\n",
    "#import standard Python libraries for data analysis and visualization\n",
    "import numpy as np # Numerical operations\n",
    "import pandas as pd # Data manipulation\n",
    "import matplotlib.pyplot as plt # Plotting\n",
    "from matplotlib import colormaps # Access to color maps for plotting\n",
    "import math # Mathematical utilities\n",
    "\n",
    "import seaborn as sns # Statistical data visualization"
   ]
  },
  {
   "cell_type": "code",
   "execution_count": null,
   "id": "7ae1ab43-f436-47fd-9cff-959d6998c3ae",
   "metadata": {},
   "outputs": [],
   "source": [
    "from statsmodels.tsa.stattools import adfuller, kpss"
   ]
  },
  {
   "cell_type": "markdown",
   "id": "8fbc19ff-5e6e-45d6-bf51-d9fe05018bcf",
   "metadata": {},
   "source": [
    "> **⚠️ Prerequisite Notice**  \r\n",
    "> This notebook uses Apache Spark via PySpark.  \r\n",
    "> Please ensure you have **Java (JDK 8 or 11)** installed and properly configured on your syste Make sure the `JAVA_HOME` environment variable is set correctly and that `java.exe` is accessible in your system PATH.H.\r\n",
    ">  \r\n",
    "> Without Java, the Spark session will fail to initiale.\r\n",
    "\n"
   ]
  },
  {
   "cell_type": "code",
   "execution_count": null,
   "id": "0ba3f42b-5553-4690-9184-5a1692359137",
   "metadata": {},
   "outputs": [],
   "source": [
    "# Create a Spark session for distributed processing\n",
    "spark = SparkSession.builder \\\n",
    "    .appName(\"Search Trends Analysis\") \\\n",
    "    .getOrCreate()"
   ]
  },
  {
   "cell_type": "markdown",
   "id": "c6698e62-9e4d-4bff-ad9e-dad405c87e3a",
   "metadata": {},
   "source": [
    "While the dataset used in this thesis is relatively small and could have been handled entirely within Python's Pandas framework, PySpark was initially selected for its scalability and potential for distributed data processing."
   ]
  },
  {
   "cell_type": "markdown",
   "id": "b1de2316-19b3-4720-a60b-9e1ff057e584",
   "metadata": {
    "jp-MarkdownHeadingCollapsed": true
   },
   "source": [
    "# Google Trends keywords SVI data"
   ]
  },
  {
   "cell_type": "code",
   "execution_count": null,
   "id": "84074fc0-21b2-41e5-a4af-42d4afc9045c",
   "metadata": {},
   "outputs": [],
   "source": [
    "#read CSV using Spark\n",
    "df_kw = spark.read.csv('search-trends-vs-financial-markets/Collected Data/carrefour_search_trends_keywords.csv', header=True, inferSchema=True) #inferSchema added to automatically type inference for columns\n",
    "df_agg = spark.read.csv('search-trends-vs-financial-markets/Collected Data/carrefour_search_trends_aggregated.csv', header=True, inferSchema=True)"
   ]
  },
  {
   "cell_type": "markdown",
   "id": "2c10871a-9cd8-40ff-a7d9-ca6c9a2223ed",
   "metadata": {},
   "source": [
    "## Google Trends keywords"
   ]
  },
  {
   "cell_type": "code",
   "execution_count": null,
   "id": "41907f0e-6d42-42c8-bf24-5a916421bab8",
   "metadata": {},
   "outputs": [],
   "source": [
    "#show preview keywords\n",
    "df_kw.show(3)\n",
    "df_kw.printSchema()"
   ]
  },
  {
   "cell_type": "markdown",
   "id": "960b3ba3-c791-492a-b499-b1b019c76791",
   "metadata": {},
   "source": [
    "Several columns appear to have only zero values; let's drop them and keep a list of these."
   ]
  },
  {
   "cell_type": "code",
   "execution_count": null,
   "id": "47c7877b-17ef-480c-bd69-ef103b065251",
   "metadata": {},
   "outputs": [],
   "source": [
    "# Exclude 'date' column from processing\n",
    "columns_to_check = [c for c in df_kw.columns if c != 'date']"
   ]
  },
  {
   "cell_type": "code",
   "execution_count": null,
   "id": "fcdb5e38-9f46-4ece-a3fa-c27c4168aa10",
   "metadata": {},
   "outputs": [],
   "source": [
    "#Drop columns (keywords) with only zero values in their cells\n",
    "kept_cols = []\n",
    "dropped_cols = []\n",
    "\n",
    "# Loop through numeric columns only\n",
    "for c in columns_to_check:\n",
    "    try:\n",
    "        col_sum = df_kw.select(_sum(col(f\"`{c}`\"))).collect()[0][0]     # Calculate sum of each keyword column, backticks in col() to safely reference columns like `E.Leclerc`\n",
    "        if col_sum == 0 or col_sum is None:\n",
    "            dropped_cols.append(c)  # Drop if column has no valid data\n",
    "        else:\n",
    "            kept_cols.append(c)\n",
    "    except Exception as e:\n",
    "        print(f\"Skipping column '{c}' due to error: {e}\")\n",
    "        dropped_cols.append(c)"
   ]
  },
  {
   "cell_type": "code",
   "execution_count": null,
   "id": "81116f72-5d18-4fa7-866c-2a99ad9e776b",
   "metadata": {},
   "outputs": [],
   "source": [
    "#Construct final list of columns to retain, keep 'date' and valid keyword columns\n",
    "final_cols = ['date'] + kept_cols\n",
    "\n",
    "# Select cleaned/filtered DataFrame\n",
    "df_kw = df_kw.select(*[col(c) if c == 'date' else col(f\"`{c}`\") for c in final_cols])"
   ]
  },
  {
   "cell_type": "code",
   "execution_count": null,
   "id": "bf10d564-9ecb-461b-b2eb-4ba4759a1a61",
   "metadata": {
    "scrolled": true
   },
   "outputs": [],
   "source": [
    "# Show results\n",
    "print(\"Dropped columns (all values were 0 or null):\")\n",
    "print(dropped_cols)"
   ]
  },
  {
   "cell_type": "markdown",
   "id": "c3a6371d-17a1-49f9-9055-f3b7cfc74fc5",
   "metadata": {},
   "source": [
    "✅ Dropped columns (all values were 0 or null):\n",
    "\n",
    "`carfour`, `carrefour near me`, `IntermarchÃ©`, `carrefour bourse`."
   ]
  },
  {
   "cell_type": "code",
   "execution_count": null,
   "id": "142c7b54-f23a-4bb6-b6e4-4f1adf2cbc9e",
   "metadata": {},
   "outputs": [],
   "source": [
    "# Preview the first 3 rows of the cleaned dataset\n",
    "df_kw.show(3)"
   ]
  },
  {
   "cell_type": "markdown",
   "id": "2b0e3358-f371-4cf8-a8b4-eb690e72ac88",
   "metadata": {},
   "source": [
    "### EDA"
   ]
  },
  {
   "cell_type": "code",
   "execution_count": null,
   "id": "4cbbcf2a-ebe1-40cf-bf96-ebf2ae6fd89f",
   "metadata": {},
   "outputs": [],
   "source": [
    "# Convert PySpark DataFrame to Pandas\n",
    "df_kw = df_kw.toPandas()"
   ]
  },
  {
   "cell_type": "code",
   "execution_count": null,
   "id": "9543c714-7bc0-47d7-96c6-ac76acaca23c",
   "metadata": {},
   "outputs": [],
   "source": [
    "# Check the dimensions of the DataFrame\n",
    "df_kw.shape"
   ]
  },
  {
   "cell_type": "markdown",
   "id": "9302914e-c40a-4130-a69a-5962a1965afd",
   "metadata": {},
   "source": [
    "#### 1. Date Handling & Time Index Setup\n",
    "\n",
    "The `date` is currently in ISO 8601 standard, `yyyy-mm-dd`, making it directly compatible with pandas and the libraries we will use.\n",
    "\n",
    "However, we will convert the date to a Datetime object to fully utilise the time series functionalities. Lastly, we will set it as the DataFrame index, which converts the DataFrame into a time series for slicing, plotting, and modelling."
   ]
  },
  {
   "cell_type": "code",
   "execution_count": null,
   "id": "b8a6c54d-025a-4dd8-ad2f-e89e93c7a646",
   "metadata": {},
   "outputs": [],
   "source": [
    "# Convert 'date' column to datetime and set as index\n",
    "df_kw['date'] = pd.to_datetime(df_kw['date'])\n",
    "df_kw.set_index('date', inplace=True)\n",
    "df_kw.sort_index(inplace=True) #sorts data chronologically from earliest to latest data"
   ]
  },
  {
   "cell_type": "markdown",
   "id": "147029fe-cd75-4ac7-8c2c-f044a168f5e8",
   "metadata": {},
   "source": [
    "#### 2. Time Series Grid of Keywords"
   ]
  },
  {
   "cell_type": "code",
   "execution_count": null,
   "id": "8a352a34-678a-4e82-b76d-77c3941e7f61",
   "metadata": {},
   "outputs": [],
   "source": [
    "# Set up subplot grid\n",
    "n_keywords = len(df_kw.columns)\n",
    "n_cols = 4\n",
    "n_rows = math.ceil(n_keywords / n_cols)"
   ]
  },
  {
   "cell_type": "code",
   "execution_count": null,
   "id": "61c5a8d6-e42f-4243-b8a2-4800849d3c48",
   "metadata": {},
   "outputs": [],
   "source": [
    "#plot grid\n",
    "plt.figure(figsize=(n_cols * 4, n_rows * 3))\n",
    "\n",
    "for i, keyword in enumerate(df_kw.columns):\n",
    "    plt.subplot(n_rows, n_cols, i + 1)\n",
    "    plt.plot(df_kw.index, df_kw[keyword], color='teal')\n",
    "    plt.title(keyword, fontsize=10)\n",
    "    plt.xticks(rotation=45)\n",
    "    plt.tight_layout()\n",
    "\n",
    "plt.suptitle(\"SVI Trends by Keyword\", fontsize=16, y=1.02)\n",
    "\n",
    "#save figure as png\n",
    "plt.savefig('svi_keyword_trends.png', bbox_inches='tight', dpi=300)\n",
    "\n",
    "plt.show()"
   ]
  },
  {
   "cell_type": "markdown",
   "id": "49456533-9df8-4570-b6b6-8dd5bee63a5e",
   "metadata": {},
   "source": [
    "As expected based on the literature review, we observe considerable variability in search popularity over time for most keywords, with episodic peaks in search interest. We can also see the sudden rise in popularity of some keywords over time and the decline of others."
   ]
  },
  {
   "cell_type": "markdown",
   "id": "1b6184f1-08cc-41f5-b1a2-a88aa1e8c2d6",
   "metadata": {},
   "source": [
    "#### 3. Distribution Plot of Interest Scores"
   ]
  },
  {
   "cell_type": "code",
   "execution_count": null,
   "id": "edca5caa-74f8-4d71-9c13-53943ce37f4e",
   "metadata": {},
   "outputs": [],
   "source": [
    "# Create horizontal boxplots for each keyword's SVI distribution\n",
    "df_kw.plot(kind='box', vert=False, figsize=(10, 12), title='SVI Distribution')\n",
    "plt.title('SVI Distribution', fontweight='bold')\n",
    "plt.tick_params(axis='x', which='both', labeltop=True)\n",
    "plt.grid(axis='x', linestyle=':', linewidth=0.7)\n",
    "plt.xticks(np.arange(0, 110, 10))\n",
    "plt.tight_layout()\n",
    "\n",
    "#save figure as png\n",
    "plt.savefig('svi_distribution_boxplot.png', bbox_inches='tight', dpi=300)\n",
    "\n",
    "plt.show()"
   ]
  },
  {
   "cell_type": "markdown",
   "id": "4874cff8-353a-4df1-a98f-0ac03c489454",
   "metadata": {},
   "source": [
    "#### 4. Statistical Summary"
   ]
  },
  {
   "cell_type": "code",
   "execution_count": null,
   "id": "78e57d63-77ff-4879-aa20-2fe8709f6b19",
   "metadata": {},
   "outputs": [],
   "source": [
    "# Generate summary statistics for all keywords\n",
    "summary = df_kw.describe().T"
   ]
  },
  {
   "cell_type": "code",
   "execution_count": null,
   "id": "b53dcf71-bb31-4293-a2f1-4e78fe6beb8c",
   "metadata": {},
   "outputs": [],
   "source": [
    "# Compute additional statistics: range, IQR, skew, kurtosis, volatility\n",
    "summary[\"range\"] = summary[\"max\"] - summary[\"min\"]\n",
    "summary[\"iqr\"] = summary[\"75%\"] - summary[\"25%\"] #interquartile range\n",
    "summary[\"skew\"] = df_kw.skew()\n",
    "summary[\"kurtosis\"] = df_kw.kurtosis()\n",
    "summary[\"volatility (std/mean)\"] = summary[\"std\"] / summary[\"mean\"]"
   ]
  },
  {
   "cell_type": "code",
   "execution_count": null,
   "id": "2c359b2d-5537-420f-ae27-e3df3a3a8173",
   "metadata": {},
   "outputs": [],
   "source": [
    "# Display the updated summary statistics\n",
    "summary"
   ]
  },
  {
   "cell_type": "markdown",
   "id": "3ecddc7c-c8de-4959-8603-2f62f950ce2e",
   "metadata": {},
   "source": [
    "##### Mean\n",
    "A few keywords stand above the others with a mean above 60, indicating dominant and sustained search behaviour: \n",
    "\"carrefour banque\" ~73, \"lidl\" ~68, \"carrefour\" ~64, \"catalogue carrefour\"\t~62, \"carrefour catalogue\"\t~62, \"drive carrefour\"\t~61, \"carrefour drive\"\t~61\n",
    "\n",
    "##### Standard Deviation\n",
    "With a sigma above ~17, the following keywords showcase the highest volatility in search patterns: \"catalogue carrefour\", \"carrefour catalogue\", \"cora\", \"foire aux vins carrefour\".\n",
    "\n",
    "##### Range (max-min)\n",
    "Several FMCG-related and brand name keywords are acarcterised with wide fluctuations in attention (range above 50): \"foire aux vins carrefour\", \"pizza carrefour\", \"carrefour\", \"cora carrefour\", \"cora\", \"carrefour market\", \"leclerc\".\n",
    "\n",
    "##### Skewness and Kurtosis\n",
    "A few keywords have a negative skew, with only \"Auchan catalogue\" having a skewness above -1.0. Interestingly, \"carrefour livraison Ã domicile\", \"rappel produit carrefour\", \"E.Leclerc\" and \"carrefour recrutement\" have a significant positive skeweness (all above +5.0), indicating a low search interest with occasional spikes in interest. These same keywords are also the ones with the highest kurtosis, suggesting strong event-driven behaviour. Based on the meaning of the keywords, we can see that this is possibly related to news or exceptional occasions (\"rappel produit carrefour\" and \"E.Leclerc\") or seasonal events (\"carrefour recrutement\").\n",
    "\n",
    "##### Volatility (std/mean)\n",
    "Based on the data, we can set the volatility thresholds as follows:\n",
    "* below 0.20 Low: most of these keywords are brand equity\n",
    "* 0.20 – 0.50 Medium: keywords here seem to be related to FMCG sales cycles\n",
    "* 0.50 – 1.0 High: keywords in this group are possibly linked to events as they have high variance in consumer interest.\n",
    "* above 1.0 Very High: these keywords might be helpful for short-term forecasting or anomaly analysis."
   ]
  },
  {
   "cell_type": "markdown",
   "id": "6faca519-7dc5-4a99-b675-3c3b60107400",
   "metadata": {},
   "source": [
    "#### 5. Missing Values Analysis\n",
    "Check how much missing and flat data there is with visuals."
   ]
  },
  {
   "cell_type": "code",
   "execution_count": null,
   "id": "64c641c0-b2bf-438a-ae36-330fcd0e4ea7",
   "metadata": {},
   "outputs": [],
   "source": [
    "# Check for any columns with missing values\n",
    "missing = df_kw.isnull().sum()\n",
    "missing = missing[missing > 0]\n",
    "\n",
    "if not missing.empty:\n",
    "    print(\"Columns with missing values:\")\n",
    "    print(missing)\n",
    "else:\n",
    "    print(\"No missing values found.\")\n"
   ]
  },
  {
   "cell_type": "code",
   "execution_count": null,
   "id": "7720dd70-37e1-42e8-be5b-86749b934e45",
   "metadata": {
    "scrolled": true
   },
   "outputs": [],
   "source": [
    "# Check how many zero values exist per column\n",
    "zeros = (df_kw == 0).sum()\n",
    "zeros = zeros[zeros > 0]\n",
    "\n",
    "if not zeros.empty:\n",
    "    print(\"Number of zeros in columns:\")\n",
    "    print(zeros)\n",
    "else:\n",
    "    print(\"No columns with zeros values found.\")\n"
   ]
  },
  {
   "cell_type": "markdown",
   "id": "0a4b8d2c-697b-47ea-9d99-7318dd4fa016",
   "metadata": {},
   "source": [
    "Keywords with many zero values might have episodic or accidental search interest; these will be monitored throughout the rest of the EDA."
   ]
  },
  {
   "cell_type": "markdown",
   "id": "6cd9e4cc-090b-40aa-9c9e-dbb8b1a850b5",
   "metadata": {},
   "source": [
    "#### 6. Keyword Correlation Matrix"
   ]
  },
  {
   "cell_type": "code",
   "execution_count": null,
   "id": "8127f98f-aa27-463b-bb0f-4583bed8fb23",
   "metadata": {},
   "outputs": [],
   "source": [
    "# Plot heatmap of correlation matrix for keyword search trends\n",
    "corr = df_kw.corr()\n",
    "mask = np.triu(np.ones_like(corr, dtype=bool))\n",
    "plt.figure(figsize=(35, 20))\n",
    "sns.heatmap(corr, \n",
    "            mask=mask, \n",
    "            cmap='coolwarm', \n",
    "            center=0, \n",
    "            linewidths=0.5, \n",
    "            annot=True)\n",
    "plt.title(\"Keywords Correlation Matrix\")\n",
    "plt.tight_layout()\n",
    "\n",
    "#save figure as png\n",
    "plt.savefig('svi_correlation_matrix.png', bbox_inches='tight', dpi=300)\n",
    "\n",
    "plt.show()"
   ]
  },
  {
   "cell_type": "code",
   "execution_count": null,
   "id": "78517361-4e05-46f3-b1f7-0e990fa06ebd",
   "metadata": {},
   "outputs": [],
   "source": [
    "# Transform correlation matrix into list and categorise correlation strength\n",
    "corr_pairs = corr.where(np.triu(np.ones(corr.shape), k=1).astype(bool))\n",
    "corr_pairs = corr_pairs.stack().reset_index()\n",
    "corr_pairs.columns = ['Keyword1', 'Keyword2', 'Correlation']\n",
    "\n",
    "def categorize_corr(value):\n",
    "    if value >= 0.8:\n",
    "        return 'High Positive'\n",
    "    elif value <= -0.8:\n",
    "        return 'High Negative'\n",
    "    elif value >= 0.4:\n",
    "        return 'Average Positive'\n",
    "    elif value <= -0.4:\n",
    "        return 'Average Negative'\n",
    "    elif value >= 0.0:\n",
    "        return 'Low Positive'\n",
    "    elif value > -0.4:\n",
    "        return 'Low Negative'\n",
    "    else:\n",
    "        value\n",
    "        return 'Negative'\n",
    "\n",
    "corr_pairs['Category'] = corr_pairs['Correlation'].apply(categorize_corr)"
   ]
  },
  {
   "cell_type": "markdown",
   "id": "717acc83-1d59-412c-93c3-8edec732e103",
   "metadata": {},
   "source": [
    "##### HIGH CORRELATION PAIRS"
   ]
  },
  {
   "cell_type": "code",
   "execution_count": null,
   "id": "575faa5b-59f7-4eea-9caa-db8cb07966bd",
   "metadata": {},
   "outputs": [],
   "source": [
    "# Display keyword pairs with high correlations\n",
    "high_corr = corr_pairs[corr_pairs['Category'].isin(['High Positive', 'High Negative'])]\n",
    "print(high_corr.to_string(index=False))"
   ]
  },
  {
   "cell_type": "markdown",
   "id": "66fe5d37-5756-4177-bce8-4648001ea229",
   "metadata": {},
   "source": [
    "Highly correlated keywords are all positive indicating a strong linear positive correlation.\n",
    "\n",
    "* Carrefour and its sub-brands/services show consistently high correlations, suggesting that interest in Carrefour as a brand is strongly tied to its different offerings.\n",
    "* Consumers frequently search promotions or catalogues in conjunction with drive-related services.\n",
    "* Strong correlation between Carrefour and competitors, suggesting that users often compare multiple grocery retailers in the same session or buying cycle.\n",
    "* High correlation between localised formats, confirming the literature as of France's interest in urban and convenience-oriented store formats"
   ]
  },
  {
   "cell_type": "markdown",
   "id": "e65e50ad-86f2-4a6f-9121-d87bf146f43f",
   "metadata": {},
   "source": [
    "##### AVERAGE CORRELATION PAIRS\n",
    "\n",
    "Reflect moderately aligned but differentiated consumer behaviours."
   ]
  },
  {
   "cell_type": "code",
   "execution_count": null,
   "id": "10921a91-fd6d-41c7-8e17-3ba1ba59f378",
   "metadata": {},
   "outputs": [],
   "source": [
    "# Display keyword pairs with average correlations\n",
    "avg_corr = corr_pairs[corr_pairs['Category'].isin(['Average Positive', 'Average Negative'])]\n",
    "print(avg_corr.to_string(index=False))"
   ]
  },
  {
   "cell_type": "markdown",
   "id": "cbc9287a-f756-459c-9574-8b69bff08bea",
   "metadata": {},
   "source": [
    "##### LOW CORRELATION PAIRS"
   ]
  },
  {
   "cell_type": "code",
   "execution_count": null,
   "id": "1897955e-16e8-461e-b88b-a61cb62b27ac",
   "metadata": {
    "scrolled": true
   },
   "outputs": [],
   "source": [
    "# Display keyword pairs with low correlations\n",
    "low_corr = corr_pairs[corr_pairs['Category'].isin(['Low Positive', 'Low Negative'])]\n",
    "print(low_corr.to_string(index=False))"
   ]
  },
  {
   "cell_type": "markdown",
   "id": "992e8fca-7885-4cab-8083-ae9667c67e60",
   "metadata": {},
   "source": [
    "**Positive Low Correlations**\n",
    "* Product-specific keywords (aloe vera, pizza, ongle carrefour) often exhibit isolated behaviours, hinting at niche shopping intent or product-specific campaigns.\n",
    "\n",
    "**Negative Correlations**\n",
    "* These pairs indicate weak or diverging search behaviour, which may suggest: niche interest, separate consumer journeys, misalignment in search intent or timing.\n",
    "* `carefour` (misspelt) has several negative correlations (`carrefour drive` (-0.35), `carrefour promo` (-0.20), `carrefour catalogue` (-0.36)), suggesting noise or irrelevant intent behind this keyword."
   ]
  },
  {
   "cell_type": "markdown",
   "id": "7a42ee19-45cf-4270-949d-c3bd824502b5",
   "metadata": {},
   "source": [
    "##### Conclusions\n",
    "Based on the descriptive analysis, count of zeros in the columns, and correlation matrix, we can state the following for our analysis:\n",
    "\n",
    "* `carefour`: Highly noisy and negatively correlated with most Carrefour terms, it will be removed as it may not be relevant. \n",
    "* `carrefour livraison à domicile`: Sparse and episodic search behaviour, will be aggregated with `carrefour livraison domicile`.\n",
    "* `aloe vera carrefour`: Niche product search, best to aggregate it with other FMCG keywords.\n",
    "* `E.Leclerc`: inconsistent sample, best to remove as there is already the `lecerc` keyword fulfilling the same search intent.\n",
    "* `carrefour recrutement`: Episodic search, while it possibly follows a seasonal recruitment pattern, it has too little data to provide insight fully.\n",
    "* `rappel produit carrefour`: Event-driven; behaves independently from regular consumer patterns."
   ]
  },
  {
   "cell_type": "code",
   "execution_count": null,
   "id": "c08cc36f-462b-4304-be5f-6efff31549ba",
   "metadata": {
    "editable": true,
    "scrolled": true,
    "slideshow": {
     "slide_type": ""
    },
    "tags": []
   },
   "outputs": [],
   "source": [
    "#drop desired keywords\n",
    "df_svi = df_kw.drop(columns=[\"carefour\", \"E.Leclerc\", \"carrefour recrutement\"])"
   ]
  },
  {
   "cell_type": "code",
   "execution_count": null,
   "id": "c42a7897-8bce-4d92-ac94-bd03adfd310c",
   "metadata": {},
   "outputs": [],
   "source": [
    "# Check the dimensions of the DataFrame\n",
    "df_svi.shape"
   ]
  },
  {
   "cell_type": "markdown",
   "id": "a34f6b07-0a9f-4b36-978b-d8d3c6cedace",
   "metadata": {},
   "source": [
    "## Google Trends keywords aggregated"
   ]
  },
  {
   "cell_type": "markdown",
   "id": "7abb4ff0-e40c-4ff4-8b6a-86324295e00e",
   "metadata": {},
   "source": [
    "Based on search intent, keywords can be aggregated as follows:\n",
    "\n",
    "> ⚠️ keywords marked as ~~keywords~~ are those dropped after the initial EDA\n",
    "\n",
    "| Aggregate | Keywords | Justification |\n",
    "|---|---|---|\n",
    "| Brand | carrefour, carrefour autour de moi, ~~carrefour near me~~, ~~carfour~~, ~~carefour~~ | Serves as an anchor term to capture general brand interest and visibility. |\n",
    "| Service and logistics | carrefour drive, drive carrefour, carrefour livraison, carrefour livraison domicile, carrefour livraison Ã domicile | Reflects consumer demand for fulfilment services such as click-and-collect and home delivery, indicating operational engagement. |\n",
    "| Sub-brand | carrefour market, carrefour city, carrefour express, cora | Provides more granular insight into Carrefour’s diversified retail formats and regional presence. |\n",
    "| Promo and engagement | carrefour promo, carrefour code promo drive, carrefour catalogue, catalogue carrefour, carrefour fidelite, bon d'achat carrefour | Captures interest in promotions, loyalty programs, and catalogues; key drivers of footfall and conversion in price-sensitive FMCG segments. |\n",
    "| FMCG products | carrefour produits, carrefour alimentaire, carrefour epicerie, carrefour bio, pizza carrefour, foire aux vins carrefour, ongle carrefour, franck provost carrefour, parfumerie carrefour, aloe vera carrefour | Reflects consumer preferences for specific product categories; interest in organic and beauty items may indicate evolving lifestyle and sustainability trends. |\n",
    "| Competitors | Auchan, Auchan catalogue, ~~E.Leclerc~~, leclerc, ~~IntermarchÃ©~~, lidl, super u  | Rising interest in competing retailers may signal market share shifts or influence investor sentiment regarding Carrefour. |\n",
    "| Finance | ~~carrefour bourse~~, ~~carrefour recrutement~~, carrefour credit, carrefour assurance, action carrefour, carrefour banque, carrefour anti crise | Indicates public engagement with Carrefour’s financial operations, job market relevance, and economic resilience. |\n",
    "| News  | fermeture carrefour, rappel produit carrefour, cora carrefour | Tracks external news-driven factors, including store closures and product recalls, which may impact consumer trust or financial outlook. |"
   ]
  },
  {
   "cell_type": "code",
   "execution_count": null,
   "id": "0ce96240-d624-4c37-be0b-23984afadaa4",
   "metadata": {},
   "outputs": [],
   "source": [
    "#free up memory by deleting no longer used variables\n",
    "del avg_corr, c, col_sum, columns_to_check, corr, corr_pairs, df_kw, dropped_cols, final_cols, high_corr, i, keyword, low_corr, missing, n_cols, n_keywords, n_rows, summary, zeros"
   ]
  },
  {
   "cell_type": "code",
   "execution_count": null,
   "id": "65d20923-7c38-4efe-ad96-4536c2ce55fc",
   "metadata": {},
   "outputs": [],
   "source": [
    "#show preview keywords\n",
    "df_agg.show(5)\n",
    "df_agg.printSchema()"
   ]
  },
  {
   "cell_type": "code",
   "execution_count": null,
   "id": "999042d1-d249-43ba-bbae-aee2d60762e5",
   "metadata": {},
   "outputs": [],
   "source": [
    "# Convert PySpark DataFrame to Pandas\n",
    "df_agg = df_agg.toPandas()"
   ]
  },
  {
   "cell_type": "code",
   "execution_count": null,
   "id": "2df79fdf-c5e0-4215-a4c9-a972806e71a0",
   "metadata": {},
   "outputs": [],
   "source": [
    "# Ensure 'date' column is datetime and set it as the index\n",
    "df_agg['date'] = pd.to_datetime(df_agg['date'], dayfirst=True)\n",
    "df_agg.set_index('date', inplace=True)"
   ]
  },
  {
   "cell_type": "code",
   "execution_count": null,
   "id": "cdb5772c-94c8-4747-8eae-9057f7fc3412",
   "metadata": {},
   "outputs": [],
   "source": [
    "# Plotting all keywords \n",
    "plt.figure(figsize=(16, 8))\n",
    "\n",
    "for keyword in df_agg.columns:\n",
    "    plt.plot(df_agg.index, df_agg[keyword], label=keyword, linewidth=2)\n",
    "\n",
    "plt.title(\"Search Interest Over Time by Aggregated Keywords\", fontsize=14)\n",
    "plt.xlabel(\"Date\")\n",
    "plt.ylabel(\"Google SVI (0–100)\")\n",
    "plt.legend(bbox_to_anchor=(1.05, 1), loc=\"upper left\", fontsize=8)\n",
    "plt.tight_layout()\n",
    "plt.grid(True)\n",
    "plt.show()"
   ]
  },
  {
   "cell_type": "markdown",
   "id": "8c84614c-334a-47fc-a9eb-e917659561d6",
   "metadata": {},
   "source": [
    "The aggregation of the SVI data in the `carrefour_search_trends_aggregated.csv` was initially performed at the data collection stage in the following manner: \n",
    "- one column for each aggregated category (as defined in the table above);\n",
    "- each row represents a time period with weekly frequency;\n",
    "- each value is the sum of the SVI values for all keywords belonging to that category at that point in time.\n",
    "\n",
    "However, this initial aggregation method is methodologically unsatisfactory. In Google Trends each keyword's SVI is scaled individually (where 0 represent the lowest relative search interest and 100 the peak relative interest within the time range selected), therefore, summing across keywords combines values on different scales. As such we risk overemphasising categories with more keywords and introduce bias if some keywords exhibit greater volatility than others.\n",
    "\n",
    "To enhance the interpretability and methodological robustness of the analysis, alternative aggregation techniques should be considered:\n",
    "\n",
    "| Aggregation Method   | Analysis   | \n",
    "|:---|:---|\n",
    "| Simple mean | Assigns equal weight to all keywords, avoids keyword-count bias, and is easy to interpret. |\n",
    "| Weighted mean | Offers higher accuracy if reliable weights (e.g., based on historical correlation or relevance) are available. |\n",
    "| Z-score normalised mean | Standardises keyword volatility and expresses interest relative to each keyword’s historical mean. |\n",
    "| Median | More robust to outliers and episodic spikes, especially useful with erratic or sparse search data. |\n",
    "| Principal component aggregation (PCA) | Extracts the dominant shared pattern across keywords, ideal when a common driver is expected. |\n",
    "| Maximum value (peak interest) | Highlights the most significant surge in attention per period, suitable for tracking event-driven spikes. |\n",
    "| Frequency-based binary aggregation | Converts SVIs into binary indicators (e.g., 1 if above threshold), capturing the breadth of search interest per category. |\n",
    "\n",
    "Using the mean as the aggregation method is likely the most appropriate option, as it mitigates the bias of differing keyword counts while also offering an intuitive measure of category-level search interest. However, to avoid weight bias, keywords with almost equal search intent will be aggregated separately first; these are:\n",
    "* \"carrefour drive\", \"drive carrefour\"\n",
    "* \"carrefour livraison\", \"carrefour livraison domicile\", \"carrefour livraison Ã domicile\"\n",
    "* \"carrefour promo\", \"carrefour code promo drive\"\n",
    "* \"carrefour catalogue\", \"catalogue carrefour\"\n",
    "* \"Auchan\", \"Auchan catalogue\""
   ]
  },
  {
   "cell_type": "code",
   "execution_count": null,
   "id": "a79a6bea-bfbb-4e96-a74f-b8b6f20dc20f",
   "metadata": {},
   "outputs": [],
   "source": [
    "# Averaging specified keywords and creating new merged columns using df_kw_pd\n",
    "df_svi[\"c_drive\"] = df_svi[[\"carrefour drive\", \"drive carrefour\"]].mean(axis=1)\n",
    "df_svi[\"c_livraison\"] = df_svi[[\"carrefour livraison\", \"carrefour livraison domicile\", \"carrefour livraison Ã domicile\"]].mean(axis=1)\n",
    "df_svi[\"promo\"] = df_svi[[\"carrefour promo\", \"carrefour code promo drive\"]].mean(axis=1)\n",
    "df_svi[\"catalogue\"] = df_svi[[\"carrefour catalogue\", \"catalogue carrefour\"]].mean(axis=1)\n",
    "df_svi[\"auchan\"] = df_svi[[\"Auchan\", \"Auchan catalogue\"]].mean(axis=1)"
   ]
  },
  {
   "cell_type": "code",
   "execution_count": null,
   "id": "d304bb41-0f21-41b4-8337-bde836a78344",
   "metadata": {},
   "outputs": [],
   "source": [
    "#dropping old keywords now merged\n",
    "df_svi = df_svi.drop(columns=[\n",
    "    \"carrefour drive\", \"drive carrefour\",\n",
    "    \"carrefour livraison\", \"carrefour livraison domicile\", \"carrefour livraison Ã domicile\",\n",
    "    \"carrefour promo\", \"carrefour code promo drive\",\n",
    "    \"carrefour catalogue\", \"catalogue carrefour\",\n",
    "    \"Auchan\", \"Auchan catalogue\"\n",
    "])"
   ]
  },
  {
   "cell_type": "code",
   "execution_count": null,
   "id": "c8fb0ea0-0389-4d0e-8770-ed7bddc2c040",
   "metadata": {},
   "outputs": [],
   "source": [
    "# Check the dimensions of the DataFrame\n",
    "df_svi.shape"
   ]
  },
  {
   "cell_type": "code",
   "execution_count": null,
   "id": "a0db13dc-6d95-49e3-97fc-12a6a24bec27",
   "metadata": {},
   "outputs": [],
   "source": [
    "# Check the dimensions of the DataFrame\n",
    "df_svi.columns "
   ]
  },
  {
   "cell_type": "code",
   "execution_count": null,
   "id": "7538d559-5040-46ae-bf52-790e84dc9aaf",
   "metadata": {},
   "outputs": [],
   "source": [
    "df_svi_agg = df_svi.copy()"
   ]
  },
  {
   "cell_type": "code",
   "execution_count": null,
   "id": "b264c2ec-8c13-4c4b-910f-3acec4289714",
   "metadata": {},
   "outputs": [],
   "source": [
    "#aggregating variables based on category\n",
    "df_svi_agg[\"brand\"] = df_svi_agg[[\"carrefour\", \"carrefour autour de moi\"]].mean(axis=1)\n",
    "df_svi_agg[\"service\"] = df_svi_agg[[\"c_drive\", \"c_livraison\"]].mean(axis=1)\n",
    "df_svi_agg[\"sub-brand\"] = df_svi_agg[[\"carrefour market\", \"carrefour city\", \"carrefour express\", \"cora\"]].mean(axis=1)\n",
    "df_svi_agg[\"promo\"] = df_svi_agg[[\"promo\", \"catalogue\", \"carrefour fidelite\", \"bon d'achat carrefour\"]].mean(axis=1)\n",
    "df_svi_agg[\"fmcg\"] = df_svi_agg[[\"carrefour produits\", \"carrefour alimentaire\", \"carrefour epicerie\", \"carrefour bio\", \"pizza carrefour\", \"foire aux vins carrefour\", \"ongle carrefour\", \"franck provost carrefour\", \"parfumerie carrefour\", \"aloe vera carrefour\"]].mean(axis=1)\n",
    "df_svi_agg[\"competitors\"] = df_svi_agg[[\"auchan\", \"leclerc\", \"lidl\", \"super u\"]].mean(axis=1)\n",
    "df_svi_agg[\"finance\"] = df_svi_agg[[\"carrefour credit\", \"carrefour assurance\", \"action carrefour\", \"carrefour banque\", \"carrefour anti crise\"]].mean(axis=1)\n",
    "df_svi_agg[\"news\"] = df_svi_agg[[\"fermeture carrefour\", \"rappel produit carrefour\", \"cora carrefour\"]].mean(axis=1)"
   ]
  },
  {
   "cell_type": "code",
   "execution_count": null,
   "id": "d847e954-1447-4b50-b665-de75483a8934",
   "metadata": {},
   "outputs": [],
   "source": [
    "#dropping old keywords now merged\n",
    "df_svi_agg = df_svi_agg.drop(columns=[\n",
    "    \"carrefour\", \"carrefour autour de moi\", \"carrefour city\",\n",
    "    \"carrefour express\", \"carrefour market\", \"cora\", \"bon d'achat carrefour\",\n",
    "    \"carrefour fidelite\", \"carrefour alimentaire\", \"carrefour bio\", \"carrefour epicerie\", \"carrefour produits\",\n",
    "    \"pizza carrefour\", \"aloe vera carrefour\", \"foire aux vins carrefour\",\n",
    "    \"franck provost carrefour\", \"ongle carrefour\", \"parfumerie carrefour\",\n",
    "    \"leclerc\", \"carrefour credit\", \"lidl\", \"super u\", \"action carrefour\",\n",
    "    \"carrefour anti crise\", \"carrefour assurance\", \"carrefour banque\",\n",
    "    \"fermeture carrefour\", \"cora carrefour\", \"rappel produit carrefour\",\n",
    "    \"c_drive\", \"c_livraison\", \"promo\", \"catalogue\", \"auchan\"  # fixed here\n",
    "])"
   ]
  },
  {
   "cell_type": "code",
   "execution_count": null,
   "id": "6d6d84c4-853d-47a1-863e-8beb0be0496d",
   "metadata": {},
   "outputs": [],
   "source": [
    "# Check the dimensions of the DataFrame\n",
    "df_svi_agg.shape"
   ]
  },
  {
   "cell_type": "code",
   "execution_count": null,
   "id": "675855cc-47d0-4079-8be7-e3d1227a46ab",
   "metadata": {},
   "outputs": [],
   "source": [
    "# Check the dimensions of the DataFrame\n",
    "df_svi_agg.columns "
   ]
  },
  {
   "cell_type": "markdown",
   "id": "87164fd0-0b7c-42bc-98c2-c345346c569d",
   "metadata": {},
   "source": [
    "### EDA Aggregated DataFrame df_agg_final"
   ]
  },
  {
   "cell_type": "markdown",
   "id": "87c3caff-6d39-475f-accf-03381805deda",
   "metadata": {},
   "source": [
    "##### 1. Statistical Summary"
   ]
  },
  {
   "cell_type": "code",
   "execution_count": null,
   "id": "281a141e-e70d-4086-b5eb-07a761f2b0bc",
   "metadata": {},
   "outputs": [],
   "source": [
    "# Generate summary statistics for aggregated SVI data\n",
    "df_svi_agg.describe().T"
   ]
  },
  {
   "cell_type": "markdown",
   "id": "f641c0f6-493b-4c42-a232-4974ea5b6965",
   "metadata": {},
   "source": [
    "##### 2. Correlation Matrix "
   ]
  },
  {
   "cell_type": "code",
   "execution_count": null,
   "id": "2510e162-5cb6-43a4-90b5-9ba5362e87b1",
   "metadata": {},
   "outputs": [],
   "source": [
    "# Plot heatmap for correlations among aggregated keyword trends\n",
    "corr = df_svi_agg.corr()\n",
    "mask = np.triu(np.ones_like(corr, dtype=bool))\n",
    "plt.figure(figsize=(5, 3))\n",
    "sns.heatmap(corr, \n",
    "            mask=mask, \n",
    "            cmap='coolwarm', \n",
    "            center=0, \n",
    "            linewidths=0.5, \n",
    "            annot=True)\n",
    "plt.title(\"Aggregated Keywords Correlation Matrix\")\n",
    "plt.tight_layout()\n",
    "\n",
    "#save figure as png\n",
    "plt.savefig('svi_agg_corr_matrix.png', bbox_inches='tight', dpi=300)\n",
    "\n",
    "plt.show()"
   ]
  },
  {
   "cell_type": "markdown",
   "id": "fced6109-4cef-41a1-ae0a-9fbe19a43216",
   "metadata": {},
   "source": [
    "##### 3. Boxplots"
   ]
  },
  {
   "cell_type": "code",
   "execution_count": null,
   "id": "08aed35f-ca86-4e45-a979-2eed040885a6",
   "metadata": {},
   "outputs": [],
   "source": [
    "# Boxplot of aggregated keyword search volumes\n",
    "df_svi_agg.plot(kind='box', vert=False, figsize=(6, 3), title='SVI Aggregated Distribution')\n",
    "plt.tick_params(axis='x', which='both', labeltop=True)\n",
    "plt.grid(axis='x', linestyle=':', linewidth=0.7)\n",
    "plt.xticks(np.arange(0, 70, 5))\n",
    "plt.tight_layout()\n",
    "\n",
    "#save figure as png\n",
    "plt.savefig('svi_agg_distribution_boxplot.png', bbox_inches='tight', dpi=300)\n",
    "\n",
    "plt.show()"
   ]
  },
  {
   "cell_type": "markdown",
   "id": "d9ceb44d-efa1-4198-9cec-bfad2afcaa15",
   "metadata": {},
   "source": [
    "##### 4. Time Series Trends"
   ]
  },
  {
   "cell_type": "code",
   "execution_count": null,
   "id": "c383a4ca-60b4-4970-8b54-286923863510",
   "metadata": {},
   "outputs": [],
   "source": [
    "# Plotting all keywords in timeseries\n",
    "plt.figure(figsize=(12, 4))\n",
    "\n",
    "for idx, keyword in enumerate(df_svi_agg.columns):\n",
    "    plt.plot(df_svi_agg.index, df_svi_agg[keyword], label=keyword)\n",
    "\n",
    "plt.title(\"Search Interest Over Time by Aggregated Keyword\", fontsize=11)\n",
    "plt.xlabel(\"Date\")\n",
    "plt.ylabel(\"Google SVI (0–100)\")\n",
    "plt.legend(bbox_to_anchor=(1.05, 1), loc=\"upper left\", fontsize=8)\n",
    "plt.tight_layout()\n",
    "plt.grid(True)\n",
    "\n",
    "#save figure as png\n",
    "plt.savefig('svi_agg_keyword_trends.png', bbox_inches='tight', dpi=300)\n",
    "\n",
    "plt.show()"
   ]
  },
  {
   "cell_type": "markdown",
   "id": "9c52ffc5-a023-434b-b96d-92d66d208dcc",
   "metadata": {
    "jp-MarkdownHeadingCollapsed": true
   },
   "source": [
    "# Carrefour France stock data\r\n",
    "This data wascollected att daily and weekly frequenciey."
   ]
  },
  {
   "cell_type": "code",
   "execution_count": null,
   "id": "8e509988-e663-4bfc-bf63-fb695b16f291",
   "metadata": {},
   "outputs": [],
   "source": [
    "#read CSV using Spark\n",
    "df_fin = spark.read.csv('search-trends-vs-financial-markets/Collected Data/carrefour_stock_data.csv', header=True, inferSchema=True)\n",
    "df_wfin = spark.read.csv('search-trends-vs-financial-markets/Collected Data/carrefour_stock_weekly.csv', header=True, inferSchema=True)"
   ]
  },
  {
   "cell_type": "markdown",
   "id": "798496ee-7044-49bf-9f41-36dfe3f24a16",
   "metadata": {},
   "source": [
    "#### Daily stocks"
   ]
  },
  {
   "cell_type": "code",
   "execution_count": null,
   "id": "9b51b9df-661e-4160-8695-dc7d50f585e0",
   "metadata": {},
   "outputs": [],
   "source": [
    "#show preview daily stocks\n",
    "df_fin.show(5)\n",
    "df_fin.printSchema()"
   ]
  },
  {
   "cell_type": "markdown",
   "id": "f1bef5db-795c-4cad-9383-48036b9a54b8",
   "metadata": {},
   "source": [
    "#### Weekly stocks"
   ]
  },
  {
   "cell_type": "code",
   "execution_count": null,
   "id": "61e93c36-4bc9-478d-946f-264c0357d255",
   "metadata": {
    "scrolled": true
   },
   "outputs": [],
   "source": [
    "#show preview stocks\n",
    "df_wfin.show(5)\n",
    "df_wfin.printSchema()"
   ]
  },
  {
   "cell_type": "markdown",
   "id": "6d8c71ec-2aa1-483e-a02b-6008e5e47a66",
   "metadata": {},
   "source": [
    "##### Convert PySpark DataFrame to Pandas to analyse "
   ]
  },
  {
   "cell_type": "code",
   "execution_count": null,
   "id": "ad8c42d9-0605-4d8e-8ed0-ea9821e81421",
   "metadata": {},
   "outputs": [],
   "source": [
    "# Convert yFinance stock data to pandas\n",
    "df_stock = df_wfin.toPandas()"
   ]
  },
  {
   "cell_type": "code",
   "execution_count": null,
   "id": "6d51c552-c279-44e3-9afe-8d6cac0bd992",
   "metadata": {},
   "outputs": [],
   "source": [
    "# Check the dimensions of the DataFrame\n",
    "df_stock.shape"
   ]
  },
  {
   "cell_type": "markdown",
   "id": "9d8f14d6-eadb-4e5c-9a37-7d09a2808b3a",
   "metadata": {},
   "source": [
    "### The time issue. "
   ]
  },
  {
   "cell_type": "markdown",
   "id": "9e7c1b04-157e-4b08-80bf-b14939821145",
   "metadata": {},
   "source": [
    "Upon reviewing the collected datasets, a discrepancy in date labelling was identified between the weekly stock data from `yfinance` and the Google Trends keyword data. To facilitate data comparison and accurate time-series modelling, all datasets must share a standard, synchronised timeframe.\n",
    "\n",
    "1. *Stock Market Data*\n",
    "\n",
    "The weekly stock data from `yfinance` uses Monday as the label for each weekly observation. However, each row in the dataset represents the week ending Friday, but is indexed by the preceding Monday.\n",
    "\n",
    "2. *Google Trends Data*\n",
    "\n",
    "Google Trends aggregates search interest weekly, with each week's data point labelled by Sunday, the end of the search week.\n",
    "\n",
    "\n",
    "This results in a misalignment between:\n",
    "* Stock closing prices (on Friday, labelled as Monday),\n",
    "* Search volume data (ending Sunday).\n",
    "\n",
    "The solution to align both datasets:\n",
    "* Google Trends dates will be shifted −2 days (from Sunday → Friday) to represent the end of the same week as the stock market.\n",
    "* Stock data dates will be shifted +4 days (from Monday → Friday) to reflect the actual trading day.\n",
    "\n",
    "This ensures that both data sources are indexed by the same Friday date, making them directly comparable for all subsequent analysis."
   ]
  },
  {
   "cell_type": "markdown",
   "id": "a93d5f2d-27ea-4394-80c5-fc9579d71a8b",
   "metadata": {},
   "source": [
    "##### Adjust Google Trends dates (from Sunday to Friday)"
   ]
  },
  {
   "cell_type": "code",
   "execution_count": null,
   "id": "72af1026-aa4b-446a-8f98-f67f4e020c7d",
   "metadata": {},
   "outputs": [],
   "source": [
    "# Align weekly indexes of Google Trends\n",
    "df_svi.index = df_svi.index - pd.Timedelta(days=2)\n",
    "# Align weekly indexes of Aggregated Google Trends\n",
    "df_svi_agg.index = df_svi_agg.index - pd.Timedelta(days=2)"
   ]
  },
  {
   "cell_type": "markdown",
   "id": "cfccf656-9f29-43fa-8cfe-604c884a44d8",
   "metadata": {},
   "source": [
    "##### Adjust Stock Data dates (from Monday to Friday)"
   ]
  },
  {
   "cell_type": "code",
   "execution_count": null,
   "id": "a618ef6f-e263-4a0b-9b73-e74d2df2f16f",
   "metadata": {},
   "outputs": [],
   "source": [
    "# Align weekly indexes of yFinance\n",
    "df_stock['Date'] = pd.to_datetime(df_stock['Date']) + pd.Timedelta(days=4)"
   ]
  },
  {
   "cell_type": "code",
   "execution_count": null,
   "id": "d0c144ee-6541-4815-8ec1-ce9600ea155f",
   "metadata": {},
   "outputs": [],
   "source": [
    "#set date as index\n",
    "df_stock.set_index('Date', inplace=True)"
   ]
  },
  {
   "cell_type": "code",
   "execution_count": null,
   "id": "16ac1a28-4ae3-4a25-ac3b-43d550a87e49",
   "metadata": {},
   "outputs": [],
   "source": [
    "# Print date ranges of both datasets to ensure alignment\n",
    "print('Google Trends')\n",
    "print(df_svi.index.min(), df_svi.index.max())\n",
    "print('Aggregated Google Trends')\n",
    "print(df_svi_agg.index.min(), df_svi_agg.index.max())\n",
    "print('yFinance')\n",
    "print(df_stock.index.min(), df_stock.index.max())"
   ]
  },
  {
   "cell_type": "markdown",
   "id": "a7e3546e-3b6b-4a76-8656-a2e935b8aa27",
   "metadata": {},
   "source": [
    "There is a date range difference between the two datasets; the `df_svi` and `df_svi_agg` start 2 weeks earlier and finish one week earlier than `df_stock`."
   ]
  },
  {
   "cell_type": "code",
   "execution_count": null,
   "id": "2830d6b7-ead9-4ddb-9d74-f65d41f359a3",
   "metadata": {},
   "outputs": [],
   "source": [
    "# Drop the first two weeks from Google Trends\n",
    "df_svi = df_svi.iloc[2:]\n",
    "\n",
    "# Drop the first two weeks from Aggregated Google Trends\n",
    "df_svi_agg = df_svi_agg.iloc[2:]\n",
    "\n",
    "# Drop the last week from stock data\n",
    "df_stock = df_stock.iloc[:-1]"
   ]
  },
  {
   "cell_type": "code",
   "execution_count": null,
   "id": "93ad6f53-5a1a-4b15-a598-c22f2824d138",
   "metadata": {},
   "outputs": [],
   "source": [
    "# Print date ranges of both datasets to ensure alignment\n",
    "print('Google Trends')\n",
    "print(df_svi.index.min(), df_svi.index.max())\n",
    "print('Aggregated Google Trends')\n",
    "print(df_svi_agg.index.min(), df_svi_agg.index.max())\n",
    "print('yFinance')\n",
    "print(df_stock.index.min(), df_stock.index.max())"
   ]
  },
  {
   "cell_type": "markdown",
   "id": "5f66d284-c896-4791-b911-b5902886c078",
   "metadata": {},
   "source": [
    "Now the date has been trimmed to match for both dataset and it is ready to join."
   ]
  },
  {
   "cell_type": "code",
   "execution_count": null,
   "id": "a9d3a8ff-e3b2-441c-a4d6-4f91229d9d7e",
   "metadata": {},
   "outputs": [],
   "source": [
    "# Get structure of yFinance dataset\n",
    "df_stock.info()"
   ]
  },
  {
   "cell_type": "markdown",
   "id": "d46dc97a-bac2-4ba0-9e62-e3422b0c228c",
   "metadata": {},
   "source": [
    "For the aims and objectives set in the methodology, we will only retain the adjusted closing price from the stock market dataframe.\n",
    "\n",
    "**Why?**\n",
    "The adjusted closing price reflects the stock’s final trading price after accounting for dividends, splits, and other corporate actions. It provides the most accurate picture of a stock’s actual performance over time, it is especially good for:\n",
    "* Time-series analysis\n",
    "* Log-return calculations\n",
    "* Correlation with external signals (e.g., SVIs)"
   ]
  },
  {
   "cell_type": "code",
   "execution_count": null,
   "id": "997886e4-ab7c-4ffd-8d91-9472a4d2d1ba",
   "metadata": {},
   "outputs": [],
   "source": [
    "# Keep only the 'Close' column\n",
    "df_stock = df_stock[['Close']].copy()\n",
    "\n",
    "# Renaming column for clarity when merging later\n",
    "df_stock.rename(columns={'Close': 'Carrefour_Close'}, inplace=True)\n",
    "\n",
    "df_stock.head(5)"
   ]
  },
  {
   "cell_type": "markdown",
   "id": "9e408f83-a7b1-4e3e-b7a1-6b6bf378f3ec",
   "metadata": {},
   "source": [
    "**Missing Values Analysis**\n",
    "\n",
    "Check how much missing and flat data there is."
   ]
  },
  {
   "cell_type": "code",
   "execution_count": null,
   "id": "d65778eb-f5e0-4b86-88eb-cb0e46639ffc",
   "metadata": {},
   "outputs": [],
   "source": [
    "# Check for any columns with missing values\n",
    "missing = df_stock.isnull().sum()\n",
    "missing = missing[missing > 0]\n",
    "\n",
    "if not missing.empty:\n",
    "    print(\"Columns with missing values:\")\n",
    "    print(missing)\n",
    "else:\n",
    "    print(\"No missing values found.\")\n"
   ]
  },
  {
   "cell_type": "code",
   "execution_count": null,
   "id": "ecd310c0-1ac1-4d49-b8c1-57f52534badd",
   "metadata": {},
   "outputs": [],
   "source": [
    "# Check how many zero values exist per column\n",
    "zeros = (df_stock == 0).sum()\n",
    "zeros = zeros[zeros > 0]\n",
    "\n",
    "if not zeros.empty:\n",
    "    print(\"Number of zeros in columns:\")\n",
    "    print(zeros)\n",
    "else:\n",
    "    print(\"No columns with zeros values found.\")\n"
   ]
  },
  {
   "cell_type": "markdown",
   "id": "9094be2b-742e-42b7-b0e8-d4d37a45fba0",
   "metadata": {},
   "source": [
    "##### 1. Close price over time"
   ]
  },
  {
   "cell_type": "code",
   "execution_count": null,
   "id": "052f23c9-8734-469d-aed8-43443d2cfe4b",
   "metadata": {},
   "outputs": [],
   "source": [
    "# Plot closing price over time\n",
    "plt.figure(figsize=(10, 4))\n",
    "plt.plot(df_stock.index, df_stock['Carrefour_Close'], label='Close Price', color='violet')\n",
    "plt.title(\"Weekly Close Price Over Time\")\n",
    "plt.xlabel(\"Date\")\n",
    "plt.ylabel(\"Price (€)\")\n",
    "plt.grid(True)\n",
    "plt.tight_layout()\n",
    "\n",
    "#save figure as png\n",
    "plt.savefig('stock_price_close.png', bbox_inches='tight', dpi=300)\n",
    "\n",
    "plt.show()"
   ]
  },
  {
   "cell_type": "markdown",
   "id": "856f960f-ce34-4768-893e-035c203decaa",
   "metadata": {},
   "source": [
    "##### 2. Rolling mean"
   ]
  },
  {
   "cell_type": "code",
   "execution_count": null,
   "id": "939f6b43-905f-494a-97cc-db02a304fb03",
   "metadata": {},
   "outputs": [],
   "source": [
    "# Plot rolling mean and std deviation of stock price\n",
    "df_stock['rolling_mean'] = df_stock['Carrefour_Close'].rolling(window=4).mean()\n",
    "df_stock['rolling_std'] = df_stock['Carrefour_Close'].rolling(window=4).std()\n",
    "\n",
    "df_stock[['Carrefour_Close', 'rolling_mean']].plot(figsize=(10,4), title='Close Price with Rolling Mean (4 weeks)')\n",
    "plt.grid(True)\n",
    "plt.tight_layout()\n",
    "\n",
    "#save figure as png\n",
    "plt.savefig('stock_close_price_rolling_mean.png', bbox_inches='tight', dpi=300)\n",
    "\n",
    "plt.show()"
   ]
  },
  {
   "cell_type": "markdown",
   "id": "84fa3bf5-d45b-4d15-80a1-bd49e6ecdb6d",
   "metadata": {},
   "source": [
    "# Merging Datasets: SVIs and Price Close Data.\n",
    "\n",
    "Analysing individual keywords (rather than aggregated categories) can reveal granular signals that might be averaged out or lost in grouped data."
   ]
  },
  {
   "cell_type": "markdown",
   "id": "5031de97-fc14-47c6-bc8a-dea251ecc1df",
   "metadata": {
    "jp-MarkdownHeadingCollapsed": true
   },
   "source": [
    "### Merging Datasets: df_merged1"
   ]
  },
  {
   "cell_type": "code",
   "execution_count": null,
   "id": "ca377e74-4cea-46dd-9663-631d6fd7c35e",
   "metadata": {},
   "outputs": [],
   "source": [
    "df_merged1 = df_svi.join(df_stock, how='inner')"
   ]
  },
  {
   "cell_type": "code",
   "execution_count": null,
   "id": "cdfcb037-d21e-45ab-92a2-030c0de70344",
   "metadata": {},
   "outputs": [],
   "source": [
    "df_merged1.head()"
   ]
  },
  {
   "cell_type": "code",
   "execution_count": null,
   "id": "8addaf37-cdb7-48d6-bb0f-f846431f4cee",
   "metadata": {},
   "outputs": [],
   "source": [
    "df_merged1 = df_merged1.drop(columns=[ \"rolling_mean\", \"rolling_std\"])"
   ]
  },
  {
   "cell_type": "code",
   "execution_count": null,
   "id": "f497185d-8ba1-4533-8a5c-16dc0b49f7fa",
   "metadata": {
    "scrolled": true
   },
   "outputs": [],
   "source": [
    "df_merged1.info()"
   ]
  },
  {
   "cell_type": "markdown",
   "id": "528bf678-2b16-4eeb-a772-7ae3d11c961c",
   "metadata": {},
   "source": [
    "###  Stationarity Tests"
   ]
  },
  {
   "cell_type": "markdown",
   "id": "e734aaad-419d-412b-85a0-cf65a417f1a0",
   "metadata": {},
   "source": [
    "Stationarity tests ensure that:\n",
    "\n",
    "1. The input features (search trends) are stable and predictable over time.\n",
    "2. The models (e.g., correlation or regression) are not falsely attributing relationships based on trending behaviour or structural changes in data.\n",
    "\n",
    "To robustly assess stationarity and cross-validate findings, both the Augmented Dickey-Fuller (ADF) and the Kwiatkowski–Phillips–Schmidt–Shin (KPSS) tests will be carried out. Assessing simultaneously if the series is stationary (ADF) and is not stationary (KPSS)."
   ]
  },
  {
   "cell_type": "code",
   "execution_count": 157,
   "id": "3d5b8f73-3cc8-4ced-b3b5-0fe51d042ea2",
   "metadata": {},
   "outputs": [],
   "source": [
    "# Apply ADF test\n",
    "def adf_test(series):\n",
    "    try:\n",
    "        result = adfuller(series.dropna(), autolag='AIC')\n",
    "        return result[1]  # p-value\n",
    "    except:\n",
    "        return None"
   ]
  },
  {
   "cell_type": "code",
   "execution_count": 168,
   "id": "89257dcc-3357-44c9-a2b2-294b729fb6ef",
   "metadata": {},
   "outputs": [],
   "source": [
    "# Apply KPSS test\n",
    "def kpss_test(series):\n",
    "    try:\n",
    "        result = kpss(series.dropna(), regression='c', nlags='auto')\n",
    "        return result[1]  # p-value\n",
    "    except:\n",
    "        return None\n",
    "        "
   ]
  },
  {
   "cell_type": "code",
   "execution_count": 169,
   "id": "6cc3b64e-6225-4386-b3b5-943b207564db",
   "metadata": {},
   "outputs": [],
   "source": [
    "# Create a summary DataFrame\n",
    "stationarity_summary = pd.DataFrame(columns=[\"ADF_pvalue\", \"KPSS_pvalue\", \"ADF_Stationary\", \"KPSS_Stationary\"])"
   ]
  },
  {
   "cell_type": "code",
   "execution_count": 170,
   "id": "06eea7b7-7919-4fb4-8fd1-41403bcb088c",
   "metadata": {
    "scrolled": true
   },
   "outputs": [
    {
     "name": "stderr",
     "output_type": "stream",
     "text": [
      "C:\\Users\\jadem\\AppData\\Local\\Temp\\ipykernel_38944\\3381259987.py:4: InterpolationWarning: The test statistic is outside of the range of p-values available in the\n",
      "look-up table. The actual p-value is smaller than the p-value returned.\n",
      "\n",
      "  result = kpss(series.dropna(), regression='c', nlags='auto')\n",
      "C:\\Users\\jadem\\AppData\\Local\\Temp\\ipykernel_38944\\3381259987.py:4: InterpolationWarning: The test statistic is outside of the range of p-values available in the\n",
      "look-up table. The actual p-value is greater than the p-value returned.\n",
      "\n",
      "  result = kpss(series.dropna(), regression='c', nlags='auto')\n",
      "C:\\Users\\jadem\\AppData\\Local\\Temp\\ipykernel_38944\\3381259987.py:4: InterpolationWarning: The test statistic is outside of the range of p-values available in the\n",
      "look-up table. The actual p-value is greater than the p-value returned.\n",
      "\n",
      "  result = kpss(series.dropna(), regression='c', nlags='auto')\n",
      "C:\\Users\\jadem\\AppData\\Local\\Temp\\ipykernel_38944\\3381259987.py:4: InterpolationWarning: The test statistic is outside of the range of p-values available in the\n",
      "look-up table. The actual p-value is smaller than the p-value returned.\n",
      "\n",
      "  result = kpss(series.dropna(), regression='c', nlags='auto')\n",
      "C:\\Users\\jadem\\AppData\\Local\\Temp\\ipykernel_38944\\3381259987.py:4: InterpolationWarning: The test statistic is outside of the range of p-values available in the\n",
      "look-up table. The actual p-value is smaller than the p-value returned.\n",
      "\n",
      "  result = kpss(series.dropna(), regression='c', nlags='auto')\n",
      "C:\\Users\\jadem\\AppData\\Local\\Temp\\ipykernel_38944\\3381259987.py:4: InterpolationWarning: The test statistic is outside of the range of p-values available in the\n",
      "look-up table. The actual p-value is greater than the p-value returned.\n",
      "\n",
      "  result = kpss(series.dropna(), regression='c', nlags='auto')\n",
      "C:\\Users\\jadem\\AppData\\Local\\Temp\\ipykernel_38944\\3381259987.py:4: InterpolationWarning: The test statistic is outside of the range of p-values available in the\n",
      "look-up table. The actual p-value is greater than the p-value returned.\n",
      "\n",
      "  result = kpss(series.dropna(), regression='c', nlags='auto')\n",
      "C:\\Users\\jadem\\AppData\\Local\\Temp\\ipykernel_38944\\3381259987.py:4: InterpolationWarning: The test statistic is outside of the range of p-values available in the\n",
      "look-up table. The actual p-value is smaller than the p-value returned.\n",
      "\n",
      "  result = kpss(series.dropna(), regression='c', nlags='auto')\n",
      "C:\\Users\\jadem\\AppData\\Local\\Temp\\ipykernel_38944\\3381259987.py:4: InterpolationWarning: The test statistic is outside of the range of p-values available in the\n",
      "look-up table. The actual p-value is greater than the p-value returned.\n",
      "\n",
      "  result = kpss(series.dropna(), regression='c', nlags='auto')\n",
      "C:\\Users\\jadem\\AppData\\Local\\Temp\\ipykernel_38944\\3381259987.py:4: InterpolationWarning: The test statistic is outside of the range of p-values available in the\n",
      "look-up table. The actual p-value is greater than the p-value returned.\n",
      "\n",
      "  result = kpss(series.dropna(), regression='c', nlags='auto')\n",
      "C:\\Users\\jadem\\AppData\\Local\\Temp\\ipykernel_38944\\3381259987.py:4: InterpolationWarning: The test statistic is outside of the range of p-values available in the\n",
      "look-up table. The actual p-value is greater than the p-value returned.\n",
      "\n",
      "  result = kpss(series.dropna(), regression='c', nlags='auto')\n",
      "C:\\Users\\jadem\\AppData\\Local\\Temp\\ipykernel_38944\\3381259987.py:4: InterpolationWarning: The test statistic is outside of the range of p-values available in the\n",
      "look-up table. The actual p-value is greater than the p-value returned.\n",
      "\n",
      "  result = kpss(series.dropna(), regression='c', nlags='auto')\n",
      "C:\\Users\\jadem\\AppData\\Local\\Temp\\ipykernel_38944\\3381259987.py:4: InterpolationWarning: The test statistic is outside of the range of p-values available in the\n",
      "look-up table. The actual p-value is greater than the p-value returned.\n",
      "\n",
      "  result = kpss(series.dropna(), regression='c', nlags='auto')\n",
      "C:\\Users\\jadem\\AppData\\Local\\Temp\\ipykernel_38944\\3381259987.py:4: InterpolationWarning: The test statistic is outside of the range of p-values available in the\n",
      "look-up table. The actual p-value is greater than the p-value returned.\n",
      "\n",
      "  result = kpss(series.dropna(), regression='c', nlags='auto')\n",
      "C:\\Users\\jadem\\AppData\\Local\\Temp\\ipykernel_38944\\3381259987.py:4: InterpolationWarning: The test statistic is outside of the range of p-values available in the\n",
      "look-up table. The actual p-value is greater than the p-value returned.\n",
      "\n",
      "  result = kpss(series.dropna(), regression='c', nlags='auto')\n",
      "C:\\Users\\jadem\\AppData\\Local\\Temp\\ipykernel_38944\\3381259987.py:4: InterpolationWarning: The test statistic is outside of the range of p-values available in the\n",
      "look-up table. The actual p-value is greater than the p-value returned.\n",
      "\n",
      "  result = kpss(series.dropna(), regression='c', nlags='auto')\n",
      "C:\\Users\\jadem\\AppData\\Local\\Temp\\ipykernel_38944\\3381259987.py:4: InterpolationWarning: The test statistic is outside of the range of p-values available in the\n",
      "look-up table. The actual p-value is smaller than the p-value returned.\n",
      "\n",
      "  result = kpss(series.dropna(), regression='c', nlags='auto')\n",
      "C:\\Users\\jadem\\AppData\\Local\\Temp\\ipykernel_38944\\3381259987.py:4: InterpolationWarning: The test statistic is outside of the range of p-values available in the\n",
      "look-up table. The actual p-value is greater than the p-value returned.\n",
      "\n",
      "  result = kpss(series.dropna(), regression='c', nlags='auto')\n",
      "C:\\Users\\jadem\\AppData\\Local\\Temp\\ipykernel_38944\\3381259987.py:4: InterpolationWarning: The test statistic is outside of the range of p-values available in the\n",
      "look-up table. The actual p-value is greater than the p-value returned.\n",
      "\n",
      "  result = kpss(series.dropna(), regression='c', nlags='auto')\n",
      "C:\\Users\\jadem\\AppData\\Local\\Temp\\ipykernel_38944\\3381259987.py:4: InterpolationWarning: The test statistic is outside of the range of p-values available in the\n",
      "look-up table. The actual p-value is smaller than the p-value returned.\n",
      "\n",
      "  result = kpss(series.dropna(), regression='c', nlags='auto')\n",
      "C:\\Users\\jadem\\AppData\\Local\\Temp\\ipykernel_38944\\3381259987.py:4: InterpolationWarning: The test statistic is outside of the range of p-values available in the\n",
      "look-up table. The actual p-value is smaller than the p-value returned.\n",
      "\n",
      "  result = kpss(series.dropna(), regression='c', nlags='auto')\n",
      "C:\\Users\\jadem\\AppData\\Local\\Temp\\ipykernel_38944\\3381259987.py:4: InterpolationWarning: The test statistic is outside of the range of p-values available in the\n",
      "look-up table. The actual p-value is smaller than the p-value returned.\n",
      "\n",
      "  result = kpss(series.dropna(), regression='c', nlags='auto')\n",
      "C:\\Users\\jadem\\AppData\\Local\\Temp\\ipykernel_38944\\3381259987.py:4: InterpolationWarning: The test statistic is outside of the range of p-values available in the\n",
      "look-up table. The actual p-value is greater than the p-value returned.\n",
      "\n",
      "  result = kpss(series.dropna(), regression='c', nlags='auto')\n",
      "C:\\Users\\jadem\\AppData\\Local\\Temp\\ipykernel_38944\\3381259987.py:4: InterpolationWarning: The test statistic is outside of the range of p-values available in the\n",
      "look-up table. The actual p-value is greater than the p-value returned.\n",
      "\n",
      "  result = kpss(series.dropna(), regression='c', nlags='auto')\n",
      "C:\\Users\\jadem\\AppData\\Local\\Temp\\ipykernel_38944\\3381259987.py:4: InterpolationWarning: The test statistic is outside of the range of p-values available in the\n",
      "look-up table. The actual p-value is smaller than the p-value returned.\n",
      "\n",
      "  result = kpss(series.dropna(), regression='c', nlags='auto')\n",
      "C:\\Users\\jadem\\AppData\\Local\\Temp\\ipykernel_38944\\3381259987.py:4: InterpolationWarning: The test statistic is outside of the range of p-values available in the\n",
      "look-up table. The actual p-value is smaller than the p-value returned.\n",
      "\n",
      "  result = kpss(series.dropna(), regression='c', nlags='auto')\n",
      "C:\\Users\\jadem\\AppData\\Local\\Temp\\ipykernel_38944\\3381259987.py:4: InterpolationWarning: The test statistic is outside of the range of p-values available in the\n",
      "look-up table. The actual p-value is smaller than the p-value returned.\n",
      "\n",
      "  result = kpss(series.dropna(), regression='c', nlags='auto')\n",
      "C:\\Users\\jadem\\AppData\\Local\\Temp\\ipykernel_38944\\3381259987.py:4: InterpolationWarning: The test statistic is outside of the range of p-values available in the\n",
      "look-up table. The actual p-value is smaller than the p-value returned.\n",
      "\n",
      "  result = kpss(series.dropna(), regression='c', nlags='auto')\n",
      "C:\\Users\\jadem\\AppData\\Local\\Temp\\ipykernel_38944\\3381259987.py:4: InterpolationWarning: The test statistic is outside of the range of p-values available in the\n",
      "look-up table. The actual p-value is smaller than the p-value returned.\n",
      "\n",
      "  result = kpss(series.dropna(), regression='c', nlags='auto')\n"
     ]
    }
   ],
   "source": [
    "# Loop through each column in the DataFrame\n",
    "for col in df_merged1.columns:\n",
    "    adf_p = adf_test(df_merged1[col])\n",
    "    kpss_p = kpss_test(df_merged1[col])\n",
    "    \n",
    "    stationarity_summary.loc[col] = [\n",
    "        adf_p,\n",
    "        kpss_p,\n",
    "        \"Yes\" if adf_p is not None and adf_p < 0.05 else \"No\", #is it stationary? Stationary (p < 0.05) \n",
    "        \"Yes\" if kpss_p is not None and kpss_p > 0.05 else \"No\" #is it stationary? Stationary (p > 0.05)\n",
    "    ]"
   ]
  },
  {
   "cell_type": "markdown",
   "id": "bf87a6c4-82cf-4fad-811a-d4430b649cb3",
   "metadata": {},
   "source": [
    "> **NOTE**: KPSS warnings indicate test statistics outside the tabulated p-value range.\n",
    "> - If the returned p-value = 0.01 → actual p-value < 0.01 → strong evidence against stationarity.\n",
    "> - If the returned p-value = 0.1  → actual p-value > 0.1  → weak evidence against stationarity.\n",
    ">\n",
    "> These bounds are used conservatively to classify series as stationary or not."
   ]
  },
  {
   "cell_type": "code",
   "execution_count": 171,
   "id": "a0056f85-6769-4494-b644-7fbf9a071a6e",
   "metadata": {},
   "outputs": [
    {
     "data": {
      "text/html": [
       "<div>\n",
       "<style scoped>\n",
       "    .dataframe tbody tr th:only-of-type {\n",
       "        vertical-align: middle;\n",
       "    }\n",
       "\n",
       "    .dataframe tbody tr th {\n",
       "        vertical-align: top;\n",
       "    }\n",
       "\n",
       "    .dataframe thead th {\n",
       "        text-align: right;\n",
       "    }\n",
       "</style>\n",
       "<table border=\"1\" class=\"dataframe\">\n",
       "  <thead>\n",
       "    <tr style=\"text-align: right;\">\n",
       "      <th></th>\n",
       "      <th>ADF_pvalue</th>\n",
       "      <th>KPSS_pvalue</th>\n",
       "      <th>ADF_Stationary</th>\n",
       "      <th>KPSS_Stationary</th>\n",
       "    </tr>\n",
       "  </thead>\n",
       "  <tbody>\n",
       "    <tr>\n",
       "      <th>carrefour</th>\n",
       "      <td>7.382216e-11</td>\n",
       "      <td>0.066901</td>\n",
       "      <td>Yes</td>\n",
       "      <td>Yes</td>\n",
       "    </tr>\n",
       "    <tr>\n",
       "      <th>carrefour autour de moi</th>\n",
       "      <td>1.553901e-13</td>\n",
       "      <td>0.010000</td>\n",
       "      <td>Yes</td>\n",
       "      <td>No</td>\n",
       "    </tr>\n",
       "    <tr>\n",
       "      <th>carrefour city</th>\n",
       "      <td>6.829166e-14</td>\n",
       "      <td>0.100000</td>\n",
       "      <td>Yes</td>\n",
       "      <td>Yes</td>\n",
       "    </tr>\n",
       "    <tr>\n",
       "      <th>carrefour express</th>\n",
       "      <td>2.005387e-13</td>\n",
       "      <td>0.100000</td>\n",
       "      <td>Yes</td>\n",
       "      <td>Yes</td>\n",
       "    </tr>\n",
       "    <tr>\n",
       "      <th>carrefour market</th>\n",
       "      <td>1.391110e-01</td>\n",
       "      <td>0.010000</td>\n",
       "      <td>No</td>\n",
       "      <td>No</td>\n",
       "    </tr>\n",
       "    <tr>\n",
       "      <th>cora</th>\n",
       "      <td>4.079767e-01</td>\n",
       "      <td>0.010000</td>\n",
       "      <td>No</td>\n",
       "      <td>No</td>\n",
       "    </tr>\n",
       "    <tr>\n",
       "      <th>bon d'achat carrefour</th>\n",
       "      <td>1.309592e-05</td>\n",
       "      <td>0.100000</td>\n",
       "      <td>Yes</td>\n",
       "      <td>Yes</td>\n",
       "    </tr>\n",
       "    <tr>\n",
       "      <th>carrefour fidelite</th>\n",
       "      <td>3.326909e-08</td>\n",
       "      <td>0.100000</td>\n",
       "      <td>Yes</td>\n",
       "      <td>Yes</td>\n",
       "    </tr>\n",
       "    <tr>\n",
       "      <th>carrefour alimentaire</th>\n",
       "      <td>7.974931e-15</td>\n",
       "      <td>0.010000</td>\n",
       "      <td>Yes</td>\n",
       "      <td>No</td>\n",
       "    </tr>\n",
       "    <tr>\n",
       "      <th>carrefour bio</th>\n",
       "      <td>7.356709e-08</td>\n",
       "      <td>0.100000</td>\n",
       "      <td>Yes</td>\n",
       "      <td>Yes</td>\n",
       "    </tr>\n",
       "    <tr>\n",
       "      <th>carrefour epicerie</th>\n",
       "      <td>3.235388e-16</td>\n",
       "      <td>0.100000</td>\n",
       "      <td>Yes</td>\n",
       "      <td>Yes</td>\n",
       "    </tr>\n",
       "    <tr>\n",
       "      <th>carrefour produits</th>\n",
       "      <td>5.966337e-09</td>\n",
       "      <td>0.100000</td>\n",
       "      <td>Yes</td>\n",
       "      <td>Yes</td>\n",
       "    </tr>\n",
       "    <tr>\n",
       "      <th>pizza carrefour</th>\n",
       "      <td>1.826413e-12</td>\n",
       "      <td>0.023734</td>\n",
       "      <td>Yes</td>\n",
       "      <td>No</td>\n",
       "    </tr>\n",
       "    <tr>\n",
       "      <th>aloe vera carrefour</th>\n",
       "      <td>1.870241e-24</td>\n",
       "      <td>0.100000</td>\n",
       "      <td>Yes</td>\n",
       "      <td>Yes</td>\n",
       "    </tr>\n",
       "    <tr>\n",
       "      <th>foire aux vins carrefour</th>\n",
       "      <td>1.143582e-07</td>\n",
       "      <td>0.100000</td>\n",
       "      <td>Yes</td>\n",
       "      <td>Yes</td>\n",
       "    </tr>\n",
       "    <tr>\n",
       "      <th>franck provost carrefour</th>\n",
       "      <td>2.694223e-13</td>\n",
       "      <td>0.100000</td>\n",
       "      <td>Yes</td>\n",
       "      <td>Yes</td>\n",
       "    </tr>\n",
       "    <tr>\n",
       "      <th>ongle carrefour</th>\n",
       "      <td>1.540466e-04</td>\n",
       "      <td>0.100000</td>\n",
       "      <td>Yes</td>\n",
       "      <td>Yes</td>\n",
       "    </tr>\n",
       "    <tr>\n",
       "      <th>parfumerie carrefour</th>\n",
       "      <td>3.572887e-13</td>\n",
       "      <td>0.100000</td>\n",
       "      <td>Yes</td>\n",
       "      <td>Yes</td>\n",
       "    </tr>\n",
       "    <tr>\n",
       "      <th>leclerc</th>\n",
       "      <td>3.212032e-06</td>\n",
       "      <td>0.035603</td>\n",
       "      <td>Yes</td>\n",
       "      <td>No</td>\n",
       "    </tr>\n",
       "    <tr>\n",
       "      <th>carrefour credit</th>\n",
       "      <td>8.452933e-01</td>\n",
       "      <td>0.010000</td>\n",
       "      <td>No</td>\n",
       "      <td>No</td>\n",
       "    </tr>\n",
       "    <tr>\n",
       "      <th>lidl</th>\n",
       "      <td>3.596098e-04</td>\n",
       "      <td>0.028896</td>\n",
       "      <td>Yes</td>\n",
       "      <td>No</td>\n",
       "    </tr>\n",
       "    <tr>\n",
       "      <th>super u</th>\n",
       "      <td>6.131486e-12</td>\n",
       "      <td>0.100000</td>\n",
       "      <td>Yes</td>\n",
       "      <td>Yes</td>\n",
       "    </tr>\n",
       "    <tr>\n",
       "      <th>action carrefour</th>\n",
       "      <td>2.394452e-11</td>\n",
       "      <td>0.100000</td>\n",
       "      <td>Yes</td>\n",
       "      <td>Yes</td>\n",
       "    </tr>\n",
       "    <tr>\n",
       "      <th>carrefour anti crise</th>\n",
       "      <td>2.581437e-01</td>\n",
       "      <td>0.010000</td>\n",
       "      <td>No</td>\n",
       "      <td>No</td>\n",
       "    </tr>\n",
       "    <tr>\n",
       "      <th>carrefour assurance</th>\n",
       "      <td>2.312997e-01</td>\n",
       "      <td>0.010000</td>\n",
       "      <td>No</td>\n",
       "      <td>No</td>\n",
       "    </tr>\n",
       "    <tr>\n",
       "      <th>carrefour banque</th>\n",
       "      <td>8.564283e-01</td>\n",
       "      <td>0.010000</td>\n",
       "      <td>No</td>\n",
       "      <td>No</td>\n",
       "    </tr>\n",
       "    <tr>\n",
       "      <th>fermeture carrefour</th>\n",
       "      <td>2.433689e-14</td>\n",
       "      <td>0.100000</td>\n",
       "      <td>Yes</td>\n",
       "      <td>Yes</td>\n",
       "    </tr>\n",
       "    <tr>\n",
       "      <th>cora carrefour</th>\n",
       "      <td>2.809080e-03</td>\n",
       "      <td>0.036777</td>\n",
       "      <td>Yes</td>\n",
       "      <td>No</td>\n",
       "    </tr>\n",
       "    <tr>\n",
       "      <th>rappel produit carrefour</th>\n",
       "      <td>1.292207e-18</td>\n",
       "      <td>0.100000</td>\n",
       "      <td>Yes</td>\n",
       "      <td>Yes</td>\n",
       "    </tr>\n",
       "    <tr>\n",
       "      <th>c_drive</th>\n",
       "      <td>9.716423e-01</td>\n",
       "      <td>0.010000</td>\n",
       "      <td>No</td>\n",
       "      <td>No</td>\n",
       "    </tr>\n",
       "    <tr>\n",
       "      <th>c_livraison</th>\n",
       "      <td>3.644486e-01</td>\n",
       "      <td>0.010000</td>\n",
       "      <td>No</td>\n",
       "      <td>No</td>\n",
       "    </tr>\n",
       "    <tr>\n",
       "      <th>promo</th>\n",
       "      <td>1.792497e-01</td>\n",
       "      <td>0.010000</td>\n",
       "      <td>No</td>\n",
       "      <td>No</td>\n",
       "    </tr>\n",
       "    <tr>\n",
       "      <th>catalogue</th>\n",
       "      <td>5.287264e-01</td>\n",
       "      <td>0.010000</td>\n",
       "      <td>No</td>\n",
       "      <td>No</td>\n",
       "    </tr>\n",
       "    <tr>\n",
       "      <th>auchan</th>\n",
       "      <td>6.954085e-03</td>\n",
       "      <td>0.017693</td>\n",
       "      <td>Yes</td>\n",
       "      <td>No</td>\n",
       "    </tr>\n",
       "    <tr>\n",
       "      <th>Carrefour_Close</th>\n",
       "      <td>1.344312e-01</td>\n",
       "      <td>0.010000</td>\n",
       "      <td>No</td>\n",
       "      <td>No</td>\n",
       "    </tr>\n",
       "  </tbody>\n",
       "</table>\n",
       "</div>"
      ],
      "text/plain": [
       "                            ADF_pvalue  KPSS_pvalue ADF_Stationary  \\\n",
       "carrefour                 7.382216e-11     0.066901            Yes   \n",
       "carrefour autour de moi   1.553901e-13     0.010000            Yes   \n",
       "carrefour city            6.829166e-14     0.100000            Yes   \n",
       "carrefour express         2.005387e-13     0.100000            Yes   \n",
       "carrefour market          1.391110e-01     0.010000             No   \n",
       "cora                      4.079767e-01     0.010000             No   \n",
       "bon d'achat carrefour     1.309592e-05     0.100000            Yes   \n",
       "carrefour fidelite        3.326909e-08     0.100000            Yes   \n",
       "carrefour alimentaire     7.974931e-15     0.010000            Yes   \n",
       "carrefour bio             7.356709e-08     0.100000            Yes   \n",
       "carrefour epicerie        3.235388e-16     0.100000            Yes   \n",
       "carrefour produits        5.966337e-09     0.100000            Yes   \n",
       "pizza carrefour           1.826413e-12     0.023734            Yes   \n",
       "aloe vera carrefour       1.870241e-24     0.100000            Yes   \n",
       "foire aux vins carrefour  1.143582e-07     0.100000            Yes   \n",
       "franck provost carrefour  2.694223e-13     0.100000            Yes   \n",
       "ongle carrefour           1.540466e-04     0.100000            Yes   \n",
       "parfumerie carrefour      3.572887e-13     0.100000            Yes   \n",
       "leclerc                   3.212032e-06     0.035603            Yes   \n",
       "carrefour credit          8.452933e-01     0.010000             No   \n",
       "lidl                      3.596098e-04     0.028896            Yes   \n",
       "super u                   6.131486e-12     0.100000            Yes   \n",
       "action carrefour          2.394452e-11     0.100000            Yes   \n",
       "carrefour anti crise      2.581437e-01     0.010000             No   \n",
       "carrefour assurance       2.312997e-01     0.010000             No   \n",
       "carrefour banque          8.564283e-01     0.010000             No   \n",
       "fermeture carrefour       2.433689e-14     0.100000            Yes   \n",
       "cora carrefour            2.809080e-03     0.036777            Yes   \n",
       "rappel produit carrefour  1.292207e-18     0.100000            Yes   \n",
       "c_drive                   9.716423e-01     0.010000             No   \n",
       "c_livraison               3.644486e-01     0.010000             No   \n",
       "promo                     1.792497e-01     0.010000             No   \n",
       "catalogue                 5.287264e-01     0.010000             No   \n",
       "auchan                    6.954085e-03     0.017693            Yes   \n",
       "Carrefour_Close           1.344312e-01     0.010000             No   \n",
       "\n",
       "                         KPSS_Stationary  \n",
       "carrefour                            Yes  \n",
       "carrefour autour de moi               No  \n",
       "carrefour city                       Yes  \n",
       "carrefour express                    Yes  \n",
       "carrefour market                      No  \n",
       "cora                                  No  \n",
       "bon d'achat carrefour                Yes  \n",
       "carrefour fidelite                   Yes  \n",
       "carrefour alimentaire                 No  \n",
       "carrefour bio                        Yes  \n",
       "carrefour epicerie                   Yes  \n",
       "carrefour produits                   Yes  \n",
       "pizza carrefour                       No  \n",
       "aloe vera carrefour                  Yes  \n",
       "foire aux vins carrefour             Yes  \n",
       "franck provost carrefour             Yes  \n",
       "ongle carrefour                      Yes  \n",
       "parfumerie carrefour                 Yes  \n",
       "leclerc                               No  \n",
       "carrefour credit                      No  \n",
       "lidl                                  No  \n",
       "super u                              Yes  \n",
       "action carrefour                     Yes  \n",
       "carrefour anti crise                  No  \n",
       "carrefour assurance                   No  \n",
       "carrefour banque                      No  \n",
       "fermeture carrefour                  Yes  \n",
       "cora carrefour                        No  \n",
       "rappel produit carrefour             Yes  \n",
       "c_drive                               No  \n",
       "c_livraison                           No  \n",
       "promo                                 No  \n",
       "catalogue                             No  \n",
       "auchan                                No  \n",
       "Carrefour_Close                       No  "
      ]
     },
     "execution_count": 171,
     "metadata": {},
     "output_type": "execute_result"
    }
   ],
   "source": [
    "# Display results\n",
    "stationarity_summary"
   ]
  },
  {
   "cell_type": "markdown",
   "id": "7a0b34b8-1965-44e1-b48f-31888c475840",
   "metadata": {},
   "source": [
    "**Which keywords are stationary?**\n",
    "\n",
    "`carrefour`, `carrefour city`, `carrefour express`, `bon d'achat carrefour`, `carrefour fidelite`, `carrefour bio`, `carrefour epicerie`, `carrefour produits`, `aloe vera carrefour`, `foire aux vins carrefour`, `franck provost carrefour`, `ongle carrefour`, `parfumerie carrefour`, `super u`, `action carrefour`, `fermeture carrefour`, `rappel produit carrefour`.\n",
    "\n",
    "**Which keywords are non-stationary?**\n",
    "\n",
    "`carrefour market`, `cora`, `carrefour credit`, `carrefour anti crise`, `carrefour assurance`, `carrefour banque`, `c_drive`, `c_livraison`, `promo`, `catalogue`, **`Carrefour_Close`**.\n",
    "\n",
    "**Inconclusive tests**\n",
    "\n",
    "`carrefour autour de moi`, `carrefour alimentaire`, `pizza carrefour`, `leclerc`, `lidl`, `cora carrefour`, `auchan`.\n",
    "\n",
    "_Close\t1.344312e-01\t0.010000\tNo\tNo\r\n",
    "_Close\t1.344312e-01\t0.010000\tNo\tNo\r\n",
    "_Close\t1.344312e-01\t0.010000\tNo\tNo\r\n"
   ]
  },
  {
   "cell_type": "markdown",
   "id": "a6da821d-7f54-4710-bba3-bab6246aed5f",
   "metadata": {},
   "source": [
    "##### Transformation of non-stationary data"
   ]
  },
  {
   "cell_type": "markdown",
   "id": "3f36c426-ac9c-4474-885a-c50560d24deb",
   "metadata": {},
   "source": [
    "> !!! Before proceeding with the Correlation, Lagged and Time series analysis we need to transform both predictors (SVI keywords) and the outcome variable `Carrefour_Close` to make them stationary; an assumption of the models we will use later. "
   ]
  },
  {
   "cell_type": "code",
   "execution_count": null,
   "id": "7b9d9da4-dae9-44ca-90f2-4f88de6b2cb5",
   "metadata": {},
   "outputs": [],
   "source": []
  },
  {
   "cell_type": "markdown",
   "id": "31f6c588-30ec-48d2-8591-6ce3a45f3293",
   "metadata": {
    "jp-MarkdownHeadingCollapsed": true
   },
   "source": [
    "### Correlation Analysis\n",
    "\n",
    "To identify whether changes in consumer search behaviour (via SVI) are associated with Carrefour’s stock price performance. "
   ]
  },
  {
   "cell_type": "code",
   "execution_count": null,
   "id": "ad2ed496-f210-433f-b18f-940224e2082c",
   "metadata": {
    "scrolled": true
   },
   "outputs": [],
   "source": [
    "# Pearson correlation matrix\n",
    "pearson = df_merged1.corr(method='pearson')['Carrefour_Close'].drop('Carrefour_Close')\n",
    "print(\"Pearson Correlations:\")\n",
    "print(pearson.sort_values(ascending=False))"
   ]
  },
  {
   "cell_type": "code",
   "execution_count": null,
   "id": "cf10c7a8-dc68-41f7-ae17-0a0a5f6136bc",
   "metadata": {
    "scrolled": true
   },
   "outputs": [],
   "source": [
    "# Spearman correlation matrix\n",
    "spearman = df_merged1.corr(method='spearman')['Carrefour_Close'].drop('Carrefour_Close')\n",
    "print(\"\\nSpearman Correlations:\")\n",
    "print(spearman.sort_values(ascending=False))"
   ]
  },
  {
   "cell_type": "markdown",
   "id": "a5ab8f5a-6a01-4c61-bc15-e67cd1227b7d",
   "metadata": {},
   "source": [
    "**Strongest positive correlations**\n",
    "\n",
    "These correlations (all > 0.45) indicate real-time or slightly lagged relevance between consumer search behaviours and Carrefour’s market performance.\n",
    "\n",
    "| Keyword | Pearson | Spearman | Interpretation |\r\n",
    "| ------- | ------- | -------- | -------------- |\r\n",
    "| `c_drive`              | 0.603   | 0.591    | **Highest correlation** — strong link between online drive-related searches and stock priceThis likely reflects service usage and & operational scale. |\r\n",
    "| `carrefour banque`     | 0.513   | 0.522    | Financial arm interest possibly signals **investor awareness or trust*   |\r\n",
    "| `catalogue`            | 0.506   | 0.516    | Regularly viewed catalogues may tie to promotional periods that affect revenu    |\r\n",
    "| `carrefour anti crise` | 0.473   | 0.495    | Interest in discount initiatives may align with **price-sensitive consumers** and operational adaptat     |\r\n",
    "| `promo`                | 0.463   | 0.494    | Promo searches likely peak during events that boost short-term,ales — aligning with financial perfor       |\r\n",
    "| `cora`                 | 0.511   | 0.481    | Competitor interest could reflect sector-wide consumer engagement or **comparative brand sh      |\r\n",
    "\n"
   ]
  },
  {
   "cell_type": "markdown",
   "id": "67b556d4-d98c-4217-826c-a5f40325bae0",
   "metadata": {},
   "source": [
    "**Moderate to Weak Correlations (Still Informative)**\n",
    "\n",
    "Keywords like `carrefour market`, `carrefour credit`, and `leclerc` show a Pearson/Spearman ~0.3–0.45 → mild alignment, possibly driven by product lines or regional interests.\n",
    "\n",
    "General brand terms like `carrefour`, `lidl`, `auchan` fall below 0.3, which suggests background noise or baseline interest with no strong predictive power."
   ]
  },
  {
   "cell_type": "markdown",
   "id": "d3c37a68-6086-49d3-a3ac-8c84f624137e",
   "metadata": {},
   "source": [
    "**Near-Zero or Negative Correlations**\n",
    "\n",
    "| Keyword  | Pearson | Interpretation  |\r\n",
    "| ---- | --- | --- |\r\n",
    "| `carrefour express`, `epicerie`, `parfumerie   | \\~0     | These keywords are **niche, location-specific, or low-volume** — little link to broader financial performanc    |\r\n",
    "| `fermeture carrefour`, `autour de moi`, `cora carrefour` | < -0.1  | These likely reflect **negative sentiment**, local store closures, or competitive attrition. Can be **signal of risk**, not growth  |\r\n"
   ]
  },
  {
   "cell_type": "markdown",
   "id": "300ec9c0-68fa-4967-8da4-cd459bd14d20",
   "metadata": {
    "jp-MarkdownHeadingCollapsed": true
   },
   "source": [
    "### Lagged Analysis\n",
    "\n",
    ">*Does an increase (or decrease) in search volume for specific keywords precede a corresponding movement in Carrefour’s stock price?*"
   ]
  },
  {
   "cell_type": "code",
   "execution_count": null,
   "id": "ddb358d1-7810-4725-8a98-9114b069661e",
   "metadata": {},
   "outputs": [],
   "source": [
    "# Dictionary to store correlations for each lag\n",
    "lagged_corrs = {}\n",
    "\n",
    "for lag in range (1, 5):\n",
    "    df_lag = df_merged1.copy()\n",
    "    keyword_cols = df_svi.columns\n",
    "    df_lag[keyword_cols] = df_lag[keyword_cols].shift(lag)\n",
    "    df_lag = df_lag.dropna()\n",
    "    \n",
    "    corr_series = df_lag.corr(method='pearson')['Carrefour_Close'].drop('Carrefour_Close')\n",
    "    lagged_corrs[f'lag_{lag}w'] = corr_series\n",
    "    \n",
    "df_svi_corrs = pd.DataFrame(lagged_corrs)"
   ]
  },
  {
   "cell_type": "code",
   "execution_count": null,
   "id": "3508e730-e4a2-4c47-9d1d-02481d020eaf",
   "metadata": {},
   "outputs": [],
   "source": [
    "# Print dataframe\n",
    "print(\"\\nComparison of Lagged Pearson Correlations:\")\n",
    "print(df_svi_corrs.sort_values(\"lag_1w\", ascending=False))"
   ]
  },
  {
   "cell_type": "code",
   "execution_count": null,
   "id": "62592e08-cdb9-4306-860c-e13b15f3d01f",
   "metadata": {},
   "outputs": [],
   "source": [
    "#plotting keywords lagged correlations in a seaborn heatmap for easier analysis.\n",
    "keywords = df_svi_corrs.max(axis=1).sort_values(ascending=False).index\n",
    "plt.figure(figsize=(8, 8))\n",
    "sns.heatmap(df_svi_corrs.loc[keywords], annot=True, cmap=\"coolwarm\", center=0)\n",
    "plt.title(\"Keyword Correlations with Carrefour Stock Price (1–4 Week Lags)\")\n",
    "plt.savefig('kw_lagged_corr.png', bbox_inches='tight', dpi=300) #save figure as png\n",
    "plt.show()\n"
   ]
  },
  {
   "cell_type": "markdown",
   "id": "2df8cffb-978a-45dd-86f5-d9bb88940aa3",
   "metadata": {},
   "source": [
    "##### **Key Insights**\n",
    "\n",
    "This granular analysis reveals that not all digital attention is equally valuable for financial forecasting. Keywords tied to Carrefour’s logistics (drive), financial services, and promotions are the most informative, offering promising avenues for early detection of stock price movements in the FMCG sector.\n",
    "\n",
    "1. Strong predictors of stock price (r > 0.5):\n",
    "- “carrefour drive” (`c_drive`) consistently exhibited the strongest correlation, peaking at r = 0.59 at a 3-week lag.\n",
    "- `carrefour banque` and “carrefour credit” showed high correlations (up to r = 0.558 and r = 0.503, respectively), particularly at 3- and 4-week lags. These keywords reflect financial engagement, suggesting potential links between consumer interest in Carrefour’s banking services and investor sentiment.\n",
    "- `catalogue` and `carrefour anti crise` also demonstrated moderately strong correlations, indicating a connection between promotional interest and stock movement.\n",
    "\n",
    "2. Lag timing matters:\n",
    "- For most high-signal keywords, correlations were strongest at lag 3 or 4 weeks, indicating that consumer search behaviour may take up to a month to reflect in market performance.\n",
    "- This lag effect supports the hypothesis that search trends act as leading indicators rather than coinciding with stock movements.\n",
    "\n",
    "3. Weak or negative correlations:\n",
    "- Keywords like `carrefour autour de moi` and `fermeture carrefour` yielded negative or weak correlations, suggesting that local or negative sentiment searches are either noise or inversely related to stock performance.\n",
    "- Some niche or low-frequency queries (e.g., `parfumerie carrefour`, `bon d’achat carrefour`) showed little to no predictive power.\n",
    " the FMCG sector.\r\n"
   ]
  },
  {
   "cell_type": "markdown",
   "id": "1ba2d895-4490-48d7-8047-93a2dcf3cb92",
   "metadata": {},
   "source": [
    "# Merging Datasets: Aggregated SVIs and Price Close Data."
   ]
  },
  {
   "cell_type": "markdown",
   "id": "60cdb4d1-ef1a-45d8-904c-ec53012c6d0c",
   "metadata": {
    "jp-MarkdownHeadingCollapsed": true
   },
   "source": [
    "### Merging Datasets: df_merged"
   ]
  },
  {
   "cell_type": "code",
   "execution_count": null,
   "id": "3d8ffb51-e2cd-4750-890f-148dd23b3d0d",
   "metadata": {},
   "outputs": [],
   "source": [
    "df_merged = df_svi_agg.join(df_stock, how='inner')"
   ]
  },
  {
   "cell_type": "code",
   "execution_count": null,
   "id": "1e1a0afa-9b19-435f-9aef-6b4f25e95cf7",
   "metadata": {},
   "outputs": [],
   "source": [
    "df_merged.head()"
   ]
  },
  {
   "cell_type": "code",
   "execution_count": null,
   "id": "7eddec20-d134-4a5a-ba54-7056bf60bad6",
   "metadata": {},
   "outputs": [],
   "source": [
    "df_merged = df_merged.drop(columns=[ \"rolling_mean\", \"rolling_std\"])"
   ]
  },
  {
   "cell_type": "code",
   "execution_count": null,
   "id": "15d3b8fa-55ff-4d57-a87e-14c5f0c5d73b",
   "metadata": {},
   "outputs": [],
   "source": [
    "df_merged.info()"
   ]
  },
  {
   "cell_type": "markdown",
   "id": "5603f2da-9e34-4df7-b3e6-65d50018f429",
   "metadata": {},
   "source": [
    "##### Summary Statistics"
   ]
  },
  {
   "cell_type": "code",
   "execution_count": null,
   "id": "68ca3f10-5952-4ad5-bc2b-6b5736afa174",
   "metadata": {},
   "outputs": [],
   "source": [
    "# Get summary statistics\n",
    "df_merged.describe().T"
   ]
  },
  {
   "cell_type": "markdown",
   "id": "57ca8219-b122-485f-b89b-ac760a38f0d8",
   "metadata": {},
   "source": [
    "###  Stationarity Tests"
   ]
  },
  {
   "cell_type": "code",
   "execution_count": 175,
   "id": "2da33e99-7d80-4321-9987-bd00cb976bdb",
   "metadata": {},
   "outputs": [],
   "source": [
    "# Apply ADF test\n",
    "def adf_test(series):\n",
    "    try:\n",
    "        result = adfuller(series.dropna(), autolag='AIC')\n",
    "        return result[1]  # p-value\n",
    "    except:\n",
    "        return None"
   ]
  },
  {
   "cell_type": "code",
   "execution_count": 176,
   "id": "b843c3da-0d18-4ec7-869a-8964b7c1bec5",
   "metadata": {},
   "outputs": [],
   "source": [
    "# Apply KPSS test\n",
    "def kpss_test(series):\n",
    "    try:\n",
    "        result = kpss(series.dropna(), regression='c', nlags='auto')\n",
    "        return result[1]  # p-value\n",
    "    except:\n",
    "        return None\n",
    "        "
   ]
  },
  {
   "cell_type": "code",
   "execution_count": 177,
   "id": "5f765730-2e24-4b26-938f-7b21ce035662",
   "metadata": {},
   "outputs": [],
   "source": [
    "# Create a summary DataFrame\n",
    "stationarity_summary_agg = pd.DataFrame(columns=[\"ADF_pvalue\", \"KPSS_pvalue\", \"ADF_Stationary\", \"KPSS_Stationary\"])"
   ]
  },
  {
   "cell_type": "code",
   "execution_count": 178,
   "id": "3da316d8-1c97-4b37-878f-eeb1b5739168",
   "metadata": {
    "scrolled": true
   },
   "outputs": [
    {
     "name": "stderr",
     "output_type": "stream",
     "text": [
      "C:\\Users\\jadem\\AppData\\Local\\Temp\\ipykernel_38944\\3381259987.py:4: InterpolationWarning: The test statistic is outside of the range of p-values available in the\n",
      "look-up table. The actual p-value is smaller than the p-value returned.\n",
      "\n",
      "  result = kpss(series.dropna(), regression='c', nlags='auto')\n",
      "C:\\Users\\jadem\\AppData\\Local\\Temp\\ipykernel_38944\\3381259987.py:4: InterpolationWarning: The test statistic is outside of the range of p-values available in the\n",
      "look-up table. The actual p-value is smaller than the p-value returned.\n",
      "\n",
      "  result = kpss(series.dropna(), regression='c', nlags='auto')\n",
      "C:\\Users\\jadem\\AppData\\Local\\Temp\\ipykernel_38944\\3381259987.py:4: InterpolationWarning: The test statistic is outside of the range of p-values available in the\n",
      "look-up table. The actual p-value is smaller than the p-value returned.\n",
      "\n",
      "  result = kpss(series.dropna(), regression='c', nlags='auto')\n",
      "C:\\Users\\jadem\\AppData\\Local\\Temp\\ipykernel_38944\\3381259987.py:4: InterpolationWarning: The test statistic is outside of the range of p-values available in the\n",
      "look-up table. The actual p-value is smaller than the p-value returned.\n",
      "\n",
      "  result = kpss(series.dropna(), regression='c', nlags='auto')\n"
     ]
    }
   ],
   "source": [
    "# Loop through each column in the DataFrame\n",
    "for col in df_merged.columns:\n",
    "    adf_p = adf_test(df_merged[col])\n",
    "    kpss_p = kpss_test(df_merged[col])\n",
    "    \n",
    "    stationarity_summary_agg.loc[col] = [\n",
    "        adf_p,\n",
    "        kpss_p,\n",
    "        \"Yes\" if adf_p < 0.05 else \"No\", #is it stationary? Stationary (p < 0.05) \n",
    "        \"Yes\" if kpss_p > 0.05 else \"No\" #is it stationary? Stationary (p > 0.05)\n",
    "    ]"
   ]
  },
  {
   "cell_type": "code",
   "execution_count": 179,
   "id": "6ac492ed-7238-4d31-a437-e0487a15739b",
   "metadata": {},
   "outputs": [
    {
     "data": {
      "text/html": [
       "<div>\n",
       "<style scoped>\n",
       "    .dataframe tbody tr th:only-of-type {\n",
       "        vertical-align: middle;\n",
       "    }\n",
       "\n",
       "    .dataframe tbody tr th {\n",
       "        vertical-align: top;\n",
       "    }\n",
       "\n",
       "    .dataframe thead th {\n",
       "        text-align: right;\n",
       "    }\n",
       "</style>\n",
       "<table border=\"1\" class=\"dataframe\">\n",
       "  <thead>\n",
       "    <tr style=\"text-align: right;\">\n",
       "      <th></th>\n",
       "      <th>ADF_pvalue</th>\n",
       "      <th>KPSS_pvalue</th>\n",
       "      <th>ADF_Stationary</th>\n",
       "      <th>KPSS_Stationary</th>\n",
       "    </tr>\n",
       "  </thead>\n",
       "  <tbody>\n",
       "    <tr>\n",
       "      <th>brand</th>\n",
       "      <td>6.218859e-11</td>\n",
       "      <td>0.076574</td>\n",
       "      <td>Yes</td>\n",
       "      <td>Yes</td>\n",
       "    </tr>\n",
       "    <tr>\n",
       "      <th>service</th>\n",
       "      <td>9.690511e-01</td>\n",
       "      <td>0.010000</td>\n",
       "      <td>No</td>\n",
       "      <td>No</td>\n",
       "    </tr>\n",
       "    <tr>\n",
       "      <th>sub-brand</th>\n",
       "      <td>1.364937e-01</td>\n",
       "      <td>0.010000</td>\n",
       "      <td>No</td>\n",
       "      <td>No</td>\n",
       "    </tr>\n",
       "    <tr>\n",
       "      <th>fmcg</th>\n",
       "      <td>3.773914e-11</td>\n",
       "      <td>0.086961</td>\n",
       "      <td>Yes</td>\n",
       "      <td>Yes</td>\n",
       "    </tr>\n",
       "    <tr>\n",
       "      <th>competitors</th>\n",
       "      <td>9.775674e-11</td>\n",
       "      <td>0.042233</td>\n",
       "      <td>Yes</td>\n",
       "      <td>No</td>\n",
       "    </tr>\n",
       "    <tr>\n",
       "      <th>finance</th>\n",
       "      <td>5.184308e-01</td>\n",
       "      <td>0.010000</td>\n",
       "      <td>No</td>\n",
       "      <td>No</td>\n",
       "    </tr>\n",
       "    <tr>\n",
       "      <th>news</th>\n",
       "      <td>1.032207e-02</td>\n",
       "      <td>0.044464</td>\n",
       "      <td>Yes</td>\n",
       "      <td>No</td>\n",
       "    </tr>\n",
       "    <tr>\n",
       "      <th>Carrefour_Close</th>\n",
       "      <td>1.344312e-01</td>\n",
       "      <td>0.010000</td>\n",
       "      <td>No</td>\n",
       "      <td>No</td>\n",
       "    </tr>\n",
       "  </tbody>\n",
       "</table>\n",
       "</div>"
      ],
      "text/plain": [
       "                   ADF_pvalue  KPSS_pvalue ADF_Stationary KPSS_Stationary\n",
       "brand            6.218859e-11     0.076574            Yes             Yes\n",
       "service          9.690511e-01     0.010000             No              No\n",
       "sub-brand        1.364937e-01     0.010000             No              No\n",
       "fmcg             3.773914e-11     0.086961            Yes             Yes\n",
       "competitors      9.775674e-11     0.042233            Yes              No\n",
       "finance          5.184308e-01     0.010000             No              No\n",
       "news             1.032207e-02     0.044464            Yes              No\n",
       "Carrefour_Close  1.344312e-01     0.010000             No              No"
      ]
     },
     "execution_count": 179,
     "metadata": {},
     "output_type": "execute_result"
    }
   ],
   "source": [
    "# Display results\n",
    "stationarity_summary_agg"
   ]
  },
  {
   "cell_type": "markdown",
   "id": "2a7469f4-d319-492c-ae24-b3da18d4b5e2",
   "metadata": {},
   "source": [
    "**Which keywords are stationary?**\n",
    "\n",
    "`brand`, `fmcg`\n",
    "\n",
    "**Which keywords are non-stationary?**\n",
    "\n",
    "`service`, `sub-brand`, `finance`, **`Carrefour_Close`**.\n",
    "\n",
    "**Inconclusive tests**\n",
    "\n",
    "`competitors`, `news`.\n",
    "\n",
    "0\tNo\tNo\r\n",
    "o\r\n"
   ]
  },
  {
   "cell_type": "markdown",
   "id": "8824fe10-1095-4ea7-ab3c-3c12a56603b4",
   "metadata": {},
   "source": [
    "##### Transformation of non-stationary data"
   ]
  },
  {
   "cell_type": "markdown",
   "id": "114db95d-5baa-4a44-a417-3a2206a7c7bd",
   "metadata": {
    "jp-MarkdownHeadingCollapsed": true
   },
   "source": [
    "### Correlation Analysis\n",
    "\n",
    "To identify whether changes in consumer search behaviour (via SVI grouped by keyword category) are associated with Carrefour’s stock price performance. This supports the hypothesis that digital attention may signal financial outcomes."
   ]
  },
  {
   "cell_type": "markdown",
   "id": "f00f531c-0a77-423e-a3a4-c6da671e7d22",
   "metadata": {},
   "source": [
    "* Pearson correlation tests linear relationships between variables.\n",
    "* Spearman correlation detects monotonic relationships, useful for nonlinear or skewed data (as some of the keywords are highly skewed and migth imact ).\n",
    "* Lagged correlation helps explore predictive power—i.e., whether search behaviour precedes changes in stock price.\n",
    "\n",
    "This analysis helps validate whether digital attention is an informational indicator or just noise."
   ]
  },
  {
   "cell_type": "code",
   "execution_count": null,
   "id": "ae215e9c-2394-4f86-a375-222afb64b631",
   "metadata": {},
   "outputs": [],
   "source": [
    "# Pearson correlation matrix\n",
    "pearson = df_merged.corr(method='pearson')['Carrefour_Close'].drop('Carrefour_Close')\n",
    "print(\"Pearson Correlations:\")\n",
    "print(pearson.sort_values(ascending=False))"
   ]
  },
  {
   "cell_type": "code",
   "execution_count": null,
   "id": "8f34e39b-b80a-43a6-b3c5-3d03e52ed7ff",
   "metadata": {},
   "outputs": [],
   "source": [
    "# Spearman correlation matrix\n",
    "spearman = df_merged.corr(method='spearman')['Carrefour_Close'].drop('Carrefour_Close')\n",
    "print(\"\\nSpearman Correlations:\")\n",
    "print(spearman.sort_values(ascending=False))"
   ]
  },
  {
   "cell_type": "markdown",
   "id": "d87386d8-6ecc-409c-8502-6ada0257014c",
   "metadata": {},
   "source": [
    "Both Pearson and Spearman correlation methods yield similar rankings strengthening the reliability of the following findings.\n",
    "\n",
    "| *Category*        | *Pearson* | *Spearman* | *Interpretation*   |\n",
    "| :--------------- | :-------: | :-------: | :------------------ |\n",
    "| `service`| 0.594| 0.583| **Strongest positive relationship**. Weekly search interest in Carrefour’s services (e.g., delivery, click & collect) rises and falls in tandem with stock prices. Suggests strong consumer-business sentiment alignment. |\n",
    "| `finance`| 0.512| 0.499| **Moderately strong positive correlation**. People searching financial keywords (e.g., Carrefour Banque) may reflect investor attention or consumer trust, both possibly linked to stock valuation.|\n",
    "| `sub-brand`|0.454|0.464| Indicates that consumer interest in Carrefour’s sub-brands (e.g., Bio, Market) correlates moderately with stock prices. |\n",
    "| `competitors`| 0.279| 0.323| **Mildly positive relationship**. Interest in competitors might indirectly reflect market positioning or comparative shopping,are somewhat aligned with Carrefour’s own stock movement. |\n",
    "|`fmcg`|0.200|0.237| **Weak positive correlation**. General FMCG terms reflect baseline consumer interest, but less tightly linked to Carrefour’s specific performance.|\n",
    "|`brand`|0.187|0.287| **Weaker than expected**. Brand searches alone may not drive stock price unless paired with promotions, campaigns, or sentiment.|\n",
    "| `news` | -0.175  | -0.169   | **Slightly negative correlation**. News searches may reflect external crises, scandals, or non-operational events, possibly triggering investor caution rather than interest.   |\n"
   ]
  },
  {
   "cell_type": "markdown",
   "id": "49470836-4bea-4c58-af5d-f12e77ed825e",
   "metadata": {},
   "source": [
    "***Implications:***\n",
    "* Consumer interest in services and finance shows the strongest relationship with Carrefour’s stock price, suggesting these are high-signal categories for digital attention analytics.\n",
    "* Brand-level or FMCG searches are less directly tied to financial performance, possibly because they reflect shopping behaviour, not sentiment or market interest.\n",
    "* Negative news correlation is typical; news spikes often mean crises, not positive business sentiment."
   ]
  },
  {
   "cell_type": "markdown",
   "id": "b90e7db9-6048-4bf0-b1f2-95d71a96a9fe",
   "metadata": {
    "jp-MarkdownHeadingCollapsed": true
   },
   "source": [
    "### Lagged Analysis\n",
    "\n",
    ">*Does an increase (or decrease) in search volume for specific keyword categories precede a corresponding movement in Carrefour’s stock price?*"
   ]
  },
  {
   "cell_type": "code",
   "execution_count": null,
   "id": "f6ecbb3c-71e1-4bb9-ad3f-fdd80c228e10",
   "metadata": {
    "scrolled": true
   },
   "outputs": [],
   "source": [
    "keyword_cols = ['brand', 'service', 'sub-brand', 'fmcg', 'competitors', 'finance', 'news']\n",
    "lags = [1, 2, 3, 4]  # 4 weeks lag\n",
    "\n",
    "# Dictionary to store correlations for each lag\n",
    "lagged_correlations = {}\n",
    "\n",
    "for lag in lags:\n",
    "    df_lag = df_merged.copy()\n",
    "    df_lag[keyword_cols] = df_lag[keyword_cols].shift(lag)\n",
    "    df_lag = df_lag.dropna()\n",
    "    \n",
    "    corr = df_lag.corr(method='pearson')['Carrefour_Close'].drop('Carrefour_Close')\n",
    "    lagged_correlations[f'Lag_{lag}w'] = corr\n",
    "    \n",
    "df_agg_corrs = pd.DataFrame(lagged_correlations)"
   ]
  },
  {
   "cell_type": "code",
   "execution_count": null,
   "id": "e9e51b0c-4a52-4eb9-9e88-931737c2429a",
   "metadata": {},
   "outputs": [],
   "source": [
    "# Convert to DataFrame for comparison and print dataframe\n",
    "comparison_df = pd.DataFrame(lagged_correlations)\n",
    "print(\"\\nComparison of Lagged Pearson Correlations:\")\n",
    "print(comparison_df.sort_values('Lag_1w', ascending=False))"
   ]
  },
  {
   "cell_type": "code",
   "execution_count": null,
   "id": "ac7f4485-8405-458e-b909-25c539e4232f",
   "metadata": {},
   "outputs": [],
   "source": [
    "#plotting keywords lagged correlations in a seaborn heatmap for easier analysis.\n",
    "agg_keywords = df_agg_corrs.max(axis=1).sort_values(ascending=False).index\n",
    "plt.figure(figsize=(4, 3))\n",
    "sns.heatmap(df_agg_corrs.loc[agg_keywords], annot=True, cmap=\"coolwarm\", center=0)\n",
    "plt.title(\"Aggregated Correlations with Carrefour Stock Price (1–4 Week Lags)\")\n",
    "plt.savefig('agg_lagged_corr.png', bbox_inches='tight', dpi=300) #save figure as png\n",
    "plt.show()"
   ]
  },
  {
   "cell_type": "markdown",
   "id": "2b9c07ad-3ed9-4b2c-9097-8abf9f8f7e19",
   "metadata": {},
   "source": [
    "Instead of trying only 1 1-week lag, we tested a 4-week lag. This allows us to test behavioural lag hypotheses and account for stock market delay.\n",
    "\n",
    "1. Behavioural Lag Hypothesis\n",
    "\n",
    "> Consumers search → consider options → purchase → company revenue impact → market reacts.\n",
    "\n",
    "This chain can take 1–3 weeks, especially for FMCG, where buying cycles are short but not instant.\n",
    "\n",
    "2. Stock Market Delay\n",
    "\n",
    "Search volume might only impact stock performance when it gets amplified through news or earnings guidance. As such, investors may not immediately react to changes in consumer sentiment, especially if signals are subtle or not widely reported. \n",
    "\n",
    "*Note: Each lag shortens the dataset. As our dataset spans ~176 weeks, using lags of 5 or more would result in too few observations.* "
   ]
  },
  {
   "cell_type": "markdown",
   "id": "326edd46-bf5d-494a-9eca-e1612102f2dd",
   "metadata": {},
   "source": [
    "##### **Key Insights (Agg. Keyword Categories)**\n",
    "\n",
    "While aggregated keyword categories provide a useful thematic overview, their predictive strength is generally lower than that of specific, high-signal keywords. Nevertheless, categories such as service and finance stand out as valuable early signals of Carrefour’s market performance.\n",
    "\n",
    "1. `service` and `finance` categories lead in predictive strength:\n",
    "- The `service` category consistently exhibited the highest correlation with Carrefour’s closing price across all lags, peaking at r = 0.581 at lag 1 and remaining stable up to lag 4. This category includes search terms related to delivery, online shopping, and store services, indicating that increased consumer engagement with Carrefour's service offerings is a strong signal of upcoming stock performance.\n",
    "- `finance` also showed a robust positive relationship, with a maximum correlation of r = 0.514 at lag 1–2. This suggests consumer search interest in Carrefour’s financial services (e.g., banking, credit) may reflect broader market sentiment or investor attention.\n",
    "\n",
    "2. `sub-brand` and `competitor` categories are moderately predictive:\n",
    "- The `sub-brand` group (e.g., Carrefour Bio) peaked at r = 0.460 at lag 1–2, implying that interest in Carrefour’s subsidiary or niche product lines can be indicative of broader company performance.\n",
    "- `competitors` showed moderate correlations (r ≈ 0.28), suggesting some potential substitution or benchmarking behaviour by consumers, though weaker in predictive strength.\n",
    "\n",
    "3. Limited predictive value from general `brand` searches and `news`:\n",
    "- The `brand` category, although intuitively important, yielded weaker correlations (r < 0.20), possibly due to consistently high baseline attention that does not vary with market-relevant events.\n",
    "- Interestingly, the `news` category showed a negative correlation (down to r = -0.18), which may indicate that spikes in news-related search activity — potentially tied to controversies, recalls, or crises — precede negative shifts in stock price.\n",
    "\n",
    "4. Temporal Dynamics of Attention:\n",
    "- Correlation strengths were highest at lag 1 and lag 2, with mild tapering by lag 3 and 4. This suggests that aggregated consumer search interest impacts stock performance with a short delay of 1–2 weeks, reinforcing the premise that Google Trends data can serve as a leading indicator in financial forecasting for the FMCG sector.\n"
   ]
  },
  {
   "cell_type": "code",
   "execution_count": null,
   "id": "d682c83e-121d-4d70-953f-bfd56c3b09e1",
   "metadata": {},
   "outputs": [],
   "source": []
  },
  {
   "cell_type": "code",
   "execution_count": null,
   "id": "bd7426ad-5898-4149-9995-f3099261b4b9",
   "metadata": {},
   "outputs": [],
   "source": []
  },
  {
   "cell_type": "code",
   "execution_count": null,
   "id": "20222231-8679-4c17-86da-85b82d75bd58",
   "metadata": {},
   "outputs": [],
   "source": []
  }
 ],
 "metadata": {
  "kernelspec": {
   "display_name": "Python [conda env:Orange]",
   "language": "python",
   "name": "conda-env-Orange-py"
  },
  "language_info": {
   "codemirror_mode": {
    "name": "ipython",
    "version": 3
   },
   "file_extension": ".py",
   "mimetype": "text/x-python",
   "name": "python",
   "nbconvert_exporter": "python",
   "pygments_lexer": "ipython3",
   "version": "3.9.12"
  }
 },
 "nbformat": 4,
 "nbformat_minor": 5
}
