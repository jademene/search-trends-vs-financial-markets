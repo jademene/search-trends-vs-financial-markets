{
 "cells": [
  {
   "cell_type": "code",
   "execution_count": 10,
   "id": "4ecd2a76-2bde-4996-b744-187f954b4135",
   "metadata": {},
   "outputs": [
    {
     "name": "stdout",
     "output_type": "stream",
     "text": [
      "Defaulting to user installation because normal site-packages is not writeable\n",
      "Requirement already satisfied: pandas in c:\\users\\jadem\\appdata\\roaming\\python\\python39\\site-packages (2.2.3)\n",
      "Requirement already satisfied: numpy>=1.22.4 in c:\\program files\\orange\\lib\\site-packages (from pandas) (1.24.4)\n",
      "Requirement already satisfied: python-dateutil>=2.8.2 in c:\\program files\\orange\\lib\\site-packages (from pandas) (2.8.2)\n",
      "Requirement already satisfied: pytz>=2020.1 in c:\\program files\\orange\\lib\\site-packages (from pandas) (2023.3.post1)\n",
      "Requirement already satisfied: tzdata>=2022.7 in c:\\users\\jadem\\appdata\\roaming\\python\\python39\\site-packages (from pandas) (2025.2)\n",
      "Requirement already satisfied: six>=1.5 in c:\\program files\\orange\\lib\\site-packages (from python-dateutil>=2.8.2->pandas) (1.16.0)\n"
     ]
    }
   ],
   "source": [
    "#installing dependancies\n",
    "!pip install -q pyspark findspark \n",
    "!pip install pandas"
   ]
  },
  {
   "cell_type": "code",
   "execution_count": 12,
   "id": "b3725997-77a7-4fe2-89a9-0e212f99bd91",
   "metadata": {},
   "outputs": [],
   "source": [
    "import findspark\n",
    "findspark.init()\n",
    "\n",
    "import pyspark\n",
    "from pyspark.sql import SparkSession #initialise spark\n",
    "\n",
    "import numpy as np\n",
    "import pandas as pd"
   ]
  },
  {
   "cell_type": "markdown",
   "id": "8fbc19ff-5e6e-45d6-bf51-d9fe05018bcf",
   "metadata": {},
   "source": [
    "> **⚠️ Prerequisite Notice**  \r\n",
    "> This notebook uses Apache Spark via PySpark.  \r\n",
    "> Please ensure you have **Java (JDK 8 or 11)** installed and properly configured on your syste Make sure the `JAVA_HOME` environment variable is set correctly and that `java.exe` is accessible in your system PATH.H.\r\n",
    ">  \r\n",
    "> Without Java, the Spark session will fail to initiale.\r\n",
    "\n"
   ]
  },
  {
   "cell_type": "code",
   "execution_count": 3,
   "id": "0ba3f42b-5553-4690-9184-5a1692359137",
   "metadata": {},
   "outputs": [],
   "source": [
    "# Create a SparkSession\n",
    "spark = SparkSession.builder \\\n",
    "    .appName(\"Search Trends Analysis\") \\\n",
    "    .getOrCreate()"
   ]
  },
  {
   "cell_type": "code",
   "execution_count": 4,
   "id": "a7105d8f-d857-4283-8c3f-d135f1ffc289",
   "metadata": {},
   "outputs": [
    {
     "name": "stderr",
     "output_type": "stream",
     "text": [
      "fatal: destination path 'search-trends-vs-financial-markets' already exists and is not an empty directory.\n"
     ]
    }
   ],
   "source": [
    "#clone the GitHub repo\n",
    "!git clone https://github.com/jademene/search-trends-vs-financial-markets.git"
   ]
  },
  {
   "cell_type": "markdown",
   "id": "b1de2316-19b3-4720-a60b-9e1ff057e584",
   "metadata": {},
   "source": [
    "# Google Trends keywords SVI data"
   ]
  },
  {
   "cell_type": "code",
   "execution_count": 4,
   "id": "84074fc0-21b2-41e5-a4af-42d4afc9045c",
   "metadata": {},
   "outputs": [],
   "source": [
    "#read CSV using Spark\n",
    "df_kw = spark.read.csv('search-trends-vs-financial-markets/Collected Data/carrefour_search_trends_keywords.csv', header=True, inferSchema=True) #inferSchema added to automatically type inference for columns\n",
    "df_agg = spark.read.csv('search-trends-vs-financial-markets/Collected Data/carrefour_search_trends_aggregated.csv', header=True, inferSchema=True)"
   ]
  },
  {
   "cell_type": "markdown",
   "id": "2c10871a-9cd8-40ff-a7d9-ca6c9a2223ed",
   "metadata": {},
   "source": [
    "#### Google Trends keywords"
   ]
  },
  {
   "cell_type": "code",
   "execution_count": 6,
   "id": "41907f0e-6d42-42c8-bf24-5a916421bab8",
   "metadata": {},
   "outputs": [
    {
     "name": "stdout",
     "output_type": "stream",
     "text": [
      "+----------+--------+-------+---------+-----------------------+-----------------+---------------+-------------------+----------------------------+------------------------------+---------------+--------------+-----------------+----------------+---------------+----+---------------------+-------------------+--------------------------+------------------+-------------------+---------------------+-------------+------------------+------------------+---------------+-------------------+------------------------+------------------------+---------------+--------------------+------+----------------+---------+------------+-------+----------------+----------------+---------------------+----+-------+----------------+--------------------+-------------------+----------------+-------------------+--------------+------------------------+\n",
      "|      date|carefour|carfour|carrefour|carrefour autour de moi|carrefour near me|carrefour drive|carrefour livraison|carrefour livraison domicile|carrefour livraison Ã domicile|drive carrefour|carrefour city|carrefour express|carrefour market|carrefour promo|cora|bon d'achat carrefour|carrefour catalogue|carrefour code promo drive|carrefour fidelite|catalogue carrefour|carrefour alimentaire|carrefour bio|carrefour epicerie|carrefour produits|pizza carrefour|aloe vera carrefour|foire aux vins carrefour|franck provost carrefour|ongle carrefour|parfumerie carrefour|Auchan|Auchan catalogue|E.Leclerc|IntermarchÃ©|leclerc|carrefour bourse|carrefour credit|carrefour recrutement|lidl|super u|action carrefour|carrefour anti crise|carrefour assurance|carrefour banque|fermeture carrefour|cora carrefour|rappel produit carrefour|\n",
      "+----------+--------+-------+---------+-----------------------+-----------------+---------------+-------------------+----------------------------+------------------------------+---------------+--------------+-----------------+----------------+---------------+----+---------------------+-------------------+--------------------------+------------------+-------------------+---------------------+-------------+------------------+------------------+---------------+-------------------+------------------------+------------------------+---------------+--------------------+------+----------------+---------+------------+-------+----------------+----------------+---------------------+----+-------+----------------+--------------------+-------------------+----------------+-------------------+--------------+------------------------+\n",
      "|2021-12-26|       1|      0|       92|                      0|                0|             98|                 12|                           3|                             0|             96|            35|                8|              93|              8|  90|                    0|                 91|                         6|                 5|                 91|                   33|           56|                55|                16|             64|                  0|                       0|                       0|              7|                   0|    31|               1|        0|           0|     59|               0|               1|                    0|  92|     46|              67|                  16|                 12|              83|                 12|            70|                       0|\n",
      "|2022-01-02|       0|      0|       74|                      0|                0|            100|                 16|                           5|                             0|             96|            21|                6|              64|              7|  69|                    1|                 92|                         6|                 4|                 92|                   28|           63|                20|                19|             42|                  0|                       0|                       0|              0|                   0|    23|               1|        0|           0|     50|               0|               1|                    0|  71|     34|              52|                  17|                 21|              93|                  5|            36|                       0|\n",
      "|2022-01-09|       0|      0|       62|                      0|                0|             83|                 13|                           3|                             0|             84|            17|                5|              48|              7|  59|                    0|                 85|                         4|                 3|                 85|                   28|           61|                20|                17|             30|                  0|                       0|                       0|              5|                   0|    22|               1|        0|           0|     45|               0|               1|                    0|  57|     27|              48|                  17|                 17|              74|                  5|            31|                       0|\n",
      "|2022-01-16|       0|      0|       55|                      0|                0|             81|                 11|                           3|                             0|             78|            15|                5|              41|              6|  63|                    1|                 71|                         4|                 2|                 71|                   18|           58|                19|                17|             39|                  0|                       0|                       0|              0|                   0|    19|               1|        0|           0|     40|               0|               0|                    0|  55|     25|              37|                  13|                 16|              83|                  3|            27|                       3|\n",
      "|2022-01-23|       0|      0|       52|                      0|                0|             72|                 11|                           3|                             0|             74|            17|                5|              42|              6|  58|                    0|                 66|                         5|                 3|                 66|                   18|           59|                18|                14|             32|                  0|                       0|                       0|              3|                   0|    18|               1|        0|           0|     39|               0|               1|                    0|  62|     26|              39|                  15|                 13|              76|                  5|            26|                       0|\n",
      "+----------+--------+-------+---------+-----------------------+-----------------+---------------+-------------------+----------------------------+------------------------------+---------------+--------------+-----------------+----------------+---------------+----+---------------------+-------------------+--------------------------+------------------+-------------------+---------------------+-------------+------------------+------------------+---------------+-------------------+------------------------+------------------------+---------------+--------------------+------+----------------+---------+------------+-------+----------------+----------------+---------------------+----+-------+----------------+--------------------+-------------------+----------------+-------------------+--------------+------------------------+\n",
      "only showing top 5 rows\n",
      "root\n",
      " |-- date: date (nullable = true)\n",
      " |-- carefour: integer (nullable = true)\n",
      " |-- carfour: integer (nullable = true)\n",
      " |-- carrefour: integer (nullable = true)\n",
      " |-- carrefour autour de moi: integer (nullable = true)\n",
      " |-- carrefour near me: integer (nullable = true)\n",
      " |-- carrefour drive: integer (nullable = true)\n",
      " |-- carrefour livraison: integer (nullable = true)\n",
      " |-- carrefour livraison domicile: integer (nullable = true)\n",
      " |-- carrefour livraison Ã domicile: integer (nullable = true)\n",
      " |-- drive carrefour: integer (nullable = true)\n",
      " |-- carrefour city: integer (nullable = true)\n",
      " |-- carrefour express: integer (nullable = true)\n",
      " |-- carrefour market: integer (nullable = true)\n",
      " |-- carrefour promo: integer (nullable = true)\n",
      " |-- cora: integer (nullable = true)\n",
      " |-- bon d'achat carrefour: integer (nullable = true)\n",
      " |-- carrefour catalogue: integer (nullable = true)\n",
      " |-- carrefour code promo drive: integer (nullable = true)\n",
      " |-- carrefour fidelite: integer (nullable = true)\n",
      " |-- catalogue carrefour: integer (nullable = true)\n",
      " |-- carrefour alimentaire: integer (nullable = true)\n",
      " |-- carrefour bio: integer (nullable = true)\n",
      " |-- carrefour epicerie: integer (nullable = true)\n",
      " |-- carrefour produits: integer (nullable = true)\n",
      " |-- pizza carrefour: integer (nullable = true)\n",
      " |-- aloe vera carrefour: integer (nullable = true)\n",
      " |-- foire aux vins carrefour: integer (nullable = true)\n",
      " |-- franck provost carrefour: integer (nullable = true)\n",
      " |-- ongle carrefour: integer (nullable = true)\n",
      " |-- parfumerie carrefour: integer (nullable = true)\n",
      " |-- Auchan: integer (nullable = true)\n",
      " |-- Auchan catalogue: integer (nullable = true)\n",
      " |-- E.Leclerc: integer (nullable = true)\n",
      " |-- IntermarchÃ©: integer (nullable = true)\n",
      " |-- leclerc: integer (nullable = true)\n",
      " |-- carrefour bourse: integer (nullable = true)\n",
      " |-- carrefour credit: integer (nullable = true)\n",
      " |-- carrefour recrutement: integer (nullable = true)\n",
      " |-- lidl: integer (nullable = true)\n",
      " |-- super u: integer (nullable = true)\n",
      " |-- action carrefour: integer (nullable = true)\n",
      " |-- carrefour anti crise: integer (nullable = true)\n",
      " |-- carrefour assurance: integer (nullable = true)\n",
      " |-- carrefour banque: integer (nullable = true)\n",
      " |-- fermeture carrefour: integer (nullable = true)\n",
      " |-- cora carrefour: integer (nullable = true)\n",
      " |-- rappel produit carrefour: integer (nullable = true)\n",
      "\n"
     ]
    }
   ],
   "source": [
    "#show preview keywords\n",
    "df_kw.show(5)\n",
    "df_kw.printSchema()"
   ]
  },
  {
   "cell_type": "markdown",
   "id": "960b3ba3-c791-492a-b499-b1b019c76791",
   "metadata": {},
   "source": [
    "There are several columns that only have 0 values, let's drop them and keep a list of these."
   ]
  },
  {
   "cell_type": "code",
   "execution_count": 5,
   "id": "89eea628-7091-45e0-b9cd-05daf4c2d5cb",
   "metadata": {},
   "outputs": [],
   "source": [
    "from pyspark.sql.functions import col, sum as _sum"
   ]
  },
  {
   "cell_type": "code",
   "execution_count": 6,
   "id": "47c7877b-17ef-480c-bd69-ef103b065251",
   "metadata": {},
   "outputs": [],
   "source": [
    "# Exclude 'date' from check\n",
    "columns_to_check = [c for c in df_kw.columns if c != 'date']"
   ]
  },
  {
   "cell_type": "code",
   "execution_count": 7,
   "id": "fcdb5e38-9f46-4ece-a3fa-c27c4168aa10",
   "metadata": {},
   "outputs": [],
   "source": [
    "kept_cols = []\n",
    "dropped_cols = []\n",
    "\n",
    "# Loop through numeric columns only\n",
    "for c in columns_to_check:\n",
    "    try:\n",
    "        col_sum = df_kw.select(_sum(col(f\"`{c}`\"))).collect()[0][0]     # Use backticks in col() to safely reference columns like `E.Leclerc`\n",
    "        if col_sum == 0 or col_sum is None:\n",
    "            dropped_cols.append(c)\n",
    "        else:\n",
    "            kept_cols.append(c)\n",
    "    except Exception as e:\n",
    "        print(f\"Skipping column '{c}' due to error: {e}\")\n",
    "        dropped_cols.append(c)"
   ]
  },
  {
   "cell_type": "code",
   "execution_count": 8,
   "id": "81116f72-5d18-4fa7-866c-2a99ad9e776b",
   "metadata": {},
   "outputs": [],
   "source": [
    "# Keep 'date' and valid keyword columns\n",
    "final_cols = ['date'] + kept_cols\n",
    "\n",
    "# Select cleaned/filtered DataFrame\n",
    "df_kw_cleaned = df_kw.select(*[col(c) if c == 'date' else col(f\"`{c}`\") for c in final_cols])"
   ]
  },
  {
   "cell_type": "code",
   "execution_count": 11,
   "id": "bf10d564-9ecb-461b-b2eb-4ba4759a1a61",
   "metadata": {},
   "outputs": [
    {
     "name": "stdout",
     "output_type": "stream",
     "text": [
      "Dropped columns (all values were 0 or null):\n",
      "['carfour', 'carrefour near me', 'IntermarchÃ©', 'carrefour bourse']\n"
     ]
    }
   ],
   "source": [
    "# Show results\n",
    "print(\"Dropped columns (all values were 0 or null):\")\n",
    "print(dropped_cols)"
   ]
  },
  {
   "cell_type": "markdown",
   "id": "c3a6371d-17a1-49f9-9055-f3b7cfc74fc5",
   "metadata": {},
   "source": [
    "✅ Dropped columns (all values were 0 or null):\n",
    "\n",
    "`carfour`, `carrefour near me`, `IntermarchÃ©`, `carrefour bourse`."
   ]
  },
  {
   "cell_type": "code",
   "execution_count": 12,
   "id": "142c7b54-f23a-4bb6-b6e4-4f1adf2cbc9e",
   "metadata": {},
   "outputs": [
    {
     "name": "stdout",
     "output_type": "stream",
     "text": [
      "+----------+--------+---------+-----------------------+---------------+-------------------+----------------------------+------------------------------+---------------+--------------+-----------------+----------------+---------------+----+---------------------+-------------------+--------------------------+------------------+-------------------+---------------------+-------------+------------------+------------------+---------------+-------------------+------------------------+------------------------+---------------+--------------------+------+----------------+---------+-------+----------------+---------------------+----+-------+----------------+--------------------+-------------------+----------------+-------------------+--------------+------------------------+\n",
      "|      date|carefour|carrefour|carrefour autour de moi|carrefour drive|carrefour livraison|carrefour livraison domicile|carrefour livraison Ã domicile|drive carrefour|carrefour city|carrefour express|carrefour market|carrefour promo|cora|bon d'achat carrefour|carrefour catalogue|carrefour code promo drive|carrefour fidelite|catalogue carrefour|carrefour alimentaire|carrefour bio|carrefour epicerie|carrefour produits|pizza carrefour|aloe vera carrefour|foire aux vins carrefour|franck provost carrefour|ongle carrefour|parfumerie carrefour|Auchan|Auchan catalogue|E.Leclerc|leclerc|carrefour credit|carrefour recrutement|lidl|super u|action carrefour|carrefour anti crise|carrefour assurance|carrefour banque|fermeture carrefour|cora carrefour|rappel produit carrefour|\n",
      "+----------+--------+---------+-----------------------+---------------+-------------------+----------------------------+------------------------------+---------------+--------------+-----------------+----------------+---------------+----+---------------------+-------------------+--------------------------+------------------+-------------------+---------------------+-------------+------------------+------------------+---------------+-------------------+------------------------+------------------------+---------------+--------------------+------+----------------+---------+-------+----------------+---------------------+----+-------+----------------+--------------------+-------------------+----------------+-------------------+--------------+------------------------+\n",
      "|2021-12-26|       1|       92|                      0|             98|                 12|                           3|                             0|             96|            35|                8|              93|              8|  90|                    0|                 91|                         6|                 5|                 91|                   33|           56|                55|                16|             64|                  0|                       0|                       0|              7|                   0|    31|               1|        0|     59|               1|                    0|  92|     46|              67|                  16|                 12|              83|                 12|            70|                       0|\n",
      "|2022-01-02|       0|       74|                      0|            100|                 16|                           5|                             0|             96|            21|                6|              64|              7|  69|                    1|                 92|                         6|                 4|                 92|                   28|           63|                20|                19|             42|                  0|                       0|                       0|              0|                   0|    23|               1|        0|     50|               1|                    0|  71|     34|              52|                  17|                 21|              93|                  5|            36|                       0|\n",
      "|2022-01-09|       0|       62|                      0|             83|                 13|                           3|                             0|             84|            17|                5|              48|              7|  59|                    0|                 85|                         4|                 3|                 85|                   28|           61|                20|                17|             30|                  0|                       0|                       0|              5|                   0|    22|               1|        0|     45|               1|                    0|  57|     27|              48|                  17|                 17|              74|                  5|            31|                       0|\n",
      "+----------+--------+---------+-----------------------+---------------+-------------------+----------------------------+------------------------------+---------------+--------------+-----------------+----------------+---------------+----+---------------------+-------------------+--------------------------+------------------+-------------------+---------------------+-------------+------------------+------------------+---------------+-------------------+------------------------+------------------------+---------------+--------------------+------+----------------+---------+-------+----------------+---------------------+----+-------+----------------+--------------------+-------------------+----------------+-------------------+--------------+------------------------+\n",
      "only showing top 3 rows\n"
     ]
    }
   ],
   "source": [
    "df_kw_cleaned.show(3)"
   ]
  },
  {
   "cell_type": "code",
   "execution_count": 13,
   "id": "3b44caee-d5d7-4ea8-acff-4cbac80ef719",
   "metadata": {},
   "outputs": [],
   "source": [
    "import matplotlib.pyplot as plt"
   ]
  },
  {
   "cell_type": "code",
   "execution_count": 14,
   "id": "4cbbcf2a-ebe1-40cf-bf96-ebf2ae6fd89f",
   "metadata": {},
   "outputs": [
    {
     "ename": "PySparkImportError",
     "evalue": "[UNSUPPORTED_PACKAGE_VERSION] Pandas >= 2.0.0 must be installed; however, your version is 1.5.3.",
     "output_type": "error",
     "traceback": [
      "\u001b[1;31m---------------------------------------------------------------------------\u001b[0m",
      "\u001b[1;31mPySparkImportError\u001b[0m                        Traceback (most recent call last)",
      "Cell \u001b[1;32mIn[14], line 2\u001b[0m\n\u001b[0;32m      1\u001b[0m \u001b[38;5;66;03m# Convert PySpark DataFrame to Pandas\u001b[39;00m\n\u001b[1;32m----> 2\u001b[0m df_kw_pd \u001b[38;5;241m=\u001b[39m \u001b[43mdf_kw_cleaned\u001b[49m\u001b[38;5;241;43m.\u001b[39;49m\u001b[43mtoPandas\u001b[49m\u001b[43m(\u001b[49m\u001b[43m)\u001b[49m\n",
      "File \u001b[1;32m~\\AppData\\Roaming\\Python\\Python39\\site-packages\\pyspark\\sql\\classic\\dataframe.py:1792\u001b[0m, in \u001b[0;36mDataFrame.toPandas\u001b[1;34m(self)\u001b[0m\n\u001b[0;32m   1791\u001b[0m \u001b[38;5;28;01mdef\u001b[39;00m \u001b[38;5;21mtoPandas\u001b[39m(\u001b[38;5;28mself\u001b[39m) \u001b[38;5;241m-\u001b[39m\u001b[38;5;241m>\u001b[39m \u001b[38;5;124m\"\u001b[39m\u001b[38;5;124mPandasDataFrameLike\u001b[39m\u001b[38;5;124m\"\u001b[39m:\n\u001b[1;32m-> 1792\u001b[0m     \u001b[38;5;28;01mreturn\u001b[39;00m \u001b[43mPandasConversionMixin\u001b[49m\u001b[38;5;241;43m.\u001b[39;49m\u001b[43mtoPandas\u001b[49m\u001b[43m(\u001b[49m\u001b[38;5;28;43mself\u001b[39;49m\u001b[43m)\u001b[49m\n",
      "File \u001b[1;32m~\\AppData\\Roaming\\Python\\Python39\\site-packages\\pyspark\\sql\\pandas\\conversion.py:71\u001b[0m, in \u001b[0;36mPandasConversionMixin.toPandas\u001b[1;34m(self)\u001b[0m\n\u001b[0;32m     68\u001b[0m \u001b[38;5;28;01mfrom\u001b[39;00m \u001b[38;5;21;01mpyspark\u001b[39;00m\u001b[38;5;21;01m.\u001b[39;00m\u001b[38;5;21;01msql\u001b[39;00m\u001b[38;5;21;01m.\u001b[39;00m\u001b[38;5;21;01mpandas\u001b[39;00m\u001b[38;5;21;01m.\u001b[39;00m\u001b[38;5;21;01mtypes\u001b[39;00m \u001b[38;5;28;01mimport\u001b[39;00m _create_converter_to_pandas\n\u001b[0;32m     69\u001b[0m \u001b[38;5;28;01mfrom\u001b[39;00m \u001b[38;5;21;01mpyspark\u001b[39;00m\u001b[38;5;21;01m.\u001b[39;00m\u001b[38;5;21;01msql\u001b[39;00m\u001b[38;5;21;01m.\u001b[39;00m\u001b[38;5;21;01mpandas\u001b[39;00m\u001b[38;5;21;01m.\u001b[39;00m\u001b[38;5;21;01mutils\u001b[39;00m \u001b[38;5;28;01mimport\u001b[39;00m require_minimum_pandas_version\n\u001b[1;32m---> 71\u001b[0m \u001b[43mrequire_minimum_pandas_version\u001b[49m\u001b[43m(\u001b[49m\u001b[43m)\u001b[49m\n\u001b[0;32m     73\u001b[0m \u001b[38;5;28;01mimport\u001b[39;00m \u001b[38;5;21;01mpandas\u001b[39;00m \u001b[38;5;28;01mas\u001b[39;00m \u001b[38;5;21;01mpd\u001b[39;00m\n\u001b[0;32m     75\u001b[0m jconf \u001b[38;5;241m=\u001b[39m \u001b[38;5;28mself\u001b[39m\u001b[38;5;241m.\u001b[39msparkSession\u001b[38;5;241m.\u001b[39m_jconf\n",
      "File \u001b[1;32m~\\AppData\\Roaming\\Python\\Python39\\site-packages\\pyspark\\sql\\pandas\\utils.py:51\u001b[0m, in \u001b[0;36mrequire_minimum_pandas_version\u001b[1;34m()\u001b[0m\n\u001b[0;32m     43\u001b[0m     \u001b[38;5;28;01mraise\u001b[39;00m PySparkImportError(\n\u001b[0;32m     44\u001b[0m         errorClass\u001b[38;5;241m=\u001b[39m\u001b[38;5;124m\"\u001b[39m\u001b[38;5;124mPACKAGE_NOT_INSTALLED\u001b[39m\u001b[38;5;124m\"\u001b[39m,\n\u001b[0;32m     45\u001b[0m         messageParameters\u001b[38;5;241m=\u001b[39m{\n\u001b[1;32m   (...)\u001b[0m\n\u001b[0;32m     48\u001b[0m         },\n\u001b[0;32m     49\u001b[0m     ) \u001b[38;5;28;01mfrom\u001b[39;00m \u001b[38;5;21;01mraised_error\u001b[39;00m\n\u001b[0;32m     50\u001b[0m \u001b[38;5;28;01mif\u001b[39;00m LooseVersion(pandas\u001b[38;5;241m.\u001b[39m__version__) \u001b[38;5;241m<\u001b[39m LooseVersion(minimum_pandas_version):\n\u001b[1;32m---> 51\u001b[0m     \u001b[38;5;28;01mraise\u001b[39;00m PySparkImportError(\n\u001b[0;32m     52\u001b[0m         errorClass\u001b[38;5;241m=\u001b[39m\u001b[38;5;124m\"\u001b[39m\u001b[38;5;124mUNSUPPORTED_PACKAGE_VERSION\u001b[39m\u001b[38;5;124m\"\u001b[39m,\n\u001b[0;32m     53\u001b[0m         messageParameters\u001b[38;5;241m=\u001b[39m{\n\u001b[0;32m     54\u001b[0m             \u001b[38;5;124m\"\u001b[39m\u001b[38;5;124mpackage_name\u001b[39m\u001b[38;5;124m\"\u001b[39m: \u001b[38;5;124m\"\u001b[39m\u001b[38;5;124mPandas\u001b[39m\u001b[38;5;124m\"\u001b[39m,\n\u001b[0;32m     55\u001b[0m             \u001b[38;5;124m\"\u001b[39m\u001b[38;5;124mminimum_version\u001b[39m\u001b[38;5;124m\"\u001b[39m: \u001b[38;5;28mstr\u001b[39m(minimum_pandas_version),\n\u001b[0;32m     56\u001b[0m             \u001b[38;5;124m\"\u001b[39m\u001b[38;5;124mcurrent_version\u001b[39m\u001b[38;5;124m\"\u001b[39m: \u001b[38;5;28mstr\u001b[39m(pandas\u001b[38;5;241m.\u001b[39m__version__),\n\u001b[0;32m     57\u001b[0m         },\n\u001b[0;32m     58\u001b[0m     )\n",
      "\u001b[1;31mPySparkImportError\u001b[0m: [UNSUPPORTED_PACKAGE_VERSION] Pandas >= 2.0.0 must be installed; however, your version is 1.5.3."
     ]
    }
   ],
   "source": [
    "# Convert PySpark DataFrame to Pandas\n",
    "df_kw_pd = df_kw_cleaned.toPandas()"
   ]
  },
  {
   "cell_type": "code",
   "execution_count": null,
   "id": "b8a6c54d-025a-4dd8-ad2f-e89e93c7a646",
   "metadata": {},
   "outputs": [],
   "source": [
    "# Ensure 'date' column is datetime and set it as the index\n",
    "df_kw_pd['date'] = pd.to_datetime(df_pd['date'])\n",
    "df_pd.set_index('date', inplace=True)"
   ]
  },
  {
   "cell_type": "code",
   "execution_count": null,
   "id": "0be0095a-3bfc-4af2-a32f-75fe2e5fa748",
   "metadata": {},
   "outputs": [],
   "source": [
    "# Plotting all keywords \n",
    "plt.figure(figsize=(14, 8))\n",
    "\n",
    "for keyword in df_pd.columns:\n",
    "    plt.plot(df_pd.index, df_pd[keyword], label=keyword, linewidth=2)\n",
    "\n",
    "plt.title(\"Search Interest Over Time by Keyword\", fontsize=14)\n",
    "plt.xlabel(\"Date\")\n",
    "plt.ylabel(\"Google SVI (0–100)\")\n",
    "plt.legend(bbox_to_anchor=(1.05, 1), loc=\"upper left\", fontsize=8)\n",
    "plt.tight_layout()\n",
    "plt.grid(True)\n",
    "plt.show()"
   ]
  },
  {
   "cell_type": "markdown",
   "id": "a34f6b07-0a9f-4b36-978b-d8d3c6cedace",
   "metadata": {},
   "source": [
    "#### Google Trends keywords aggregated"
   ]
  },
  {
   "cell_type": "markdown",
   "id": "7abb4ff0-e40c-4ff4-8b6a-86324295e00e",
   "metadata": {},
   "source": [
    "Based on search intent, keywords can be aggregated as follows:\n",
    "\n",
    "> ⚠️ keywords marked as ~~keywords~~ are those previously identified as \"to drop\"\n",
    "\n",
    "| Aggregate | Keywords | Justification |\n",
    "|---|---|---|\n",
    "| Brand | carrefour, carrefour autour de moi, ~~carrefour near me~~, ~~carfour~~, carefour | Serves as an anchor term to capture general brand interest and visibility. |\n",
    "| Service and logistics | carrefour drive, drive carrefour, carrefour livraison, carrefour livraison domicile, carrefour livraison Ã domicile | Reflects consumer demand for fulfillment services such as click-and-collect and home delivery, indicating operational engagement. |\n",
    "| Sub-brand | carrefour market, carrefour city, carrefour express, cora | Provides more granular insight into Carrefour’s diversified retail formats and regional presence. |\n",
    "| Promo and engagement | carrefour promo, carrefour code promo drive, carrefour catalogue, catalogue carrefour, carrefour fidelite, bon d'achat carrefour | Captures interest in promotions, loyalty programs, and catalogues—key drivers of footfall and conversion in price-sensitive FMCG segments. |\n",
    "| FMCG products | carrefour produits, carrefour alimentaire, carrefour epicerie, carrefour bio, pizza carrefour, foire aux vins carrefour, ongle carrefour, franck provost carrefour, parfumerie carrefour, aloe vera carrefour | Reflects consumer preferences for specific product categories; interest in organic and beauty items may indicate evolving lifestyle and sustainability trends. |\n",
    "| Competitors | Auchan, Auchan catalogue, E.Leclerc, leclerc, ~~IntermarchÃ©~~, lidl, super u  | Rising interest in competing retailers may signal market share shifts or influence investor sentiment regarding Carrefour. |\n",
    "| Finance | ~~carrefour bourse~~, carrefour recrutement, carrefour credit, carrefour assurance, action carrefour, carrefour banque, carrefour anti crise | Indicates public engagement with Carrefour’s financial operations, job market relevance, and economic resilience. |\n",
    "| News  | fermeture carrefour, rappel produit carrefour, cora carrefour | Tracks external news-driven factors, including store closures and product recalls, which may impact consumer trust or financial outlook. |\n"
   ]
  },
  {
   "cell_type": "code",
   "execution_count": null,
   "id": "65d20923-7c38-4efe-ad96-4536c2ce55fc",
   "metadata": {},
   "outputs": [],
   "source": [
    "#show preview keywords\n",
    "df_agg.show(5)\n",
    "df_agg.printSchema()"
   ]
  },
  {
   "cell_type": "markdown",
   "id": "8c84614c-334a-47fc-a9eb-e917659561d6",
   "metadata": {},
   "source": [
    "The aggregation of the SVI data in the `carrefour_search_trends_aggregated.csv` was initially performed at the data collection stage in the following manner: \n",
    "- one column for each aggregated category (as defined in the table above);\n",
    "- each row represents a time period with weekly frequency;\n",
    "- each value is the sum of the SVI values for all keywords belonging to that category at that point in time.\n",
    "\n",
    "However, this initial aggregation method is methodologically unsatisfactory. In Google Trends each keyword's SVI is scaled individually (where 0 represent the lowest relative search interest and 100 the peak relative interest within the time range selected), therefore, summing across keywords combines values on different scales. As such we risk overemphasising categories with more keywords and introduce bias if some keywords exhibit greater volatility than others.\n",
    "\n",
    "To enhance the interpretability and methodological robustness of the analysis, alternative aggregation techniques should be considered:\n",
    "\n",
    "| Aggregation Method   | Analysis   | \n",
    "|:---|:---|\n",
    "| Simple mean | Assigns equal weight to all keywords, avoids keyword-count bias, and is easy to interpret. |\n",
    "| Weighted mean | Offers higher accuracy if reliable weights (e.g., based on historical correlation or relevance) are available. |\n",
    "| Z-score normalised mean | Standardises keyword volatility and expresses interest relative to each keyword’s historical mean. |\n",
    "| Median | More robust to outliers and episodic spikes, especially useful with erratic or sparse search data. |\n",
    "| Principal component aggregation (PCA) | Extracts the dominant shared pattern across keywords, ideal when a common driver is expected. |\n",
    "| Maximum value (peak interest) | Highlights the most significant surge in attention per period, suitable for tracking event-driven spikes. |\n",
    "| Frequency-based binary aggregation | Converts SVIs into binary indicators (e.g., 1 if above threshold), capturing the breadth of search interest per category. |\n",
    "\n",
    "Using the mean as the  aggregation method is likely to be the most appropriate option as it mitigates the bias of differing keywords counts whilst also offering an intuitive measure of category-level search interest."
   ]
  },
  {
   "cell_type": "markdown",
   "id": "081f9e59-f631-4587-b41a-13781b61a68f",
   "metadata": {},
   "source": [
    "# Carrefour France stock data\n",
    "This data was collected in daily and weekly frequency."
   ]
  },
  {
   "cell_type": "code",
   "execution_count": null,
   "id": "8e509988-e663-4bfc-bf63-fb695b16f291",
   "metadata": {},
   "outputs": [],
   "source": [
    "#read CSV using Spark\n",
    "df_fin = spark.read.csv('search-trends-vs-financial-markets/Collected Data/carrefour_stock_data.csv', header=True, inferSchema=True)\n",
    "df_wfin = spark.read.csv('search-trends-vs-financial-markets/Collected Data/carrefour_stock_weekly.csv', header=True, inferSchema=True)"
   ]
  },
  {
   "cell_type": "markdown",
   "id": "798496ee-7044-49bf-9f41-36dfe3f24a16",
   "metadata": {},
   "source": [
    "#### Daily stocks"
   ]
  },
  {
   "cell_type": "code",
   "execution_count": null,
   "id": "9b51b9df-661e-4160-8695-dc7d50f585e0",
   "metadata": {},
   "outputs": [],
   "source": [
    "#show preview daily stocks\n",
    "df_fin.show(5)\n",
    "df_fin.printSchema()"
   ]
  },
  {
   "cell_type": "markdown",
   "id": "f1bef5db-795c-4cad-9383-48036b9a54b8",
   "metadata": {},
   "source": [
    "#### Weekly stocks"
   ]
  },
  {
   "cell_type": "code",
   "execution_count": null,
   "id": "61e93c36-4bc9-478d-946f-264c0357d255",
   "metadata": {},
   "outputs": [],
   "source": [
    "#show preview stocks\n",
    "df_wfin.show(5)\n",
    "df_wfin.printSchema()"
   ]
  },
  {
   "cell_type": "markdown",
   "id": "9d8f14d6-eadb-4e5c-9a37-7d09a2808b3a",
   "metadata": {},
   "source": [
    "### The time issue. \n",
    "When looking at the data collected we notice a discrepancy in date alignment. To allow the comparison of data we will need all the dataframes to share a common timeframe with matching entries."
   ]
  },
  {
   "cell_type": "code",
   "execution_count": null,
   "id": "eca7eadb-9b2e-40a9-bf2f-e33b17e1c600",
   "metadata": {},
   "outputs": [],
   "source": []
  }
 ],
 "metadata": {
  "kernelspec": {
   "display_name": "Python [conda env:Orange]",
   "language": "python",
   "name": "conda-env-Orange-py"
  },
  "language_info": {
   "codemirror_mode": {
    "name": "ipython",
    "version": 3
   },
   "file_extension": ".py",
   "mimetype": "text/x-python",
   "name": "python",
   "nbconvert_exporter": "python",
   "pygments_lexer": "ipython3",
   "version": "3.9.12"
  }
 },
 "nbformat": 4,
 "nbformat_minor": 5
}
