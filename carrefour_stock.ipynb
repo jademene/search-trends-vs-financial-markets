{
 "cells": [
  {
   "cell_type": "markdown",
   "id": "9d016d26-a6c7-4c04-b737-d21ba9a1df31",
   "metadata": {},
   "source": [
    "# carrefour_stock.ipynb\n",
    "\n",
    "This script fetches daily and weekly stock prices for Carrefour S.A. (ticker: CA.PA) \n",
    "listed on Euronext Paris using the Yahoo Finance API via the `yfinance` Python package.\n",
    "\n",
    "### This script will:\n",
    "1. Query `yfinance` for historical stock prices (open, high, low, close, adjusted close, volume).\n",
    "2. Support both daily and weekly frequency (matching Google Trends time resolution).\n",
    "3. Specify the date range: January 1, 2022 – May 21, 2025.\n",
    "4. Save the output as CSV files:\n",
    "   - *carrefour_stock_data_yahoo.csv* (daily)\n",
    "   - *carrefour_stock_weekly_yahoo.csv* (weekly)\n",
    "\n",
    "This script ensures complete data alignment with digital search volume indices \n",
    "collected from Google Trends for use in academic time-series correlation analysis.tion analysis."
   ]
  },
  {
   "cell_type": "code",
   "execution_count": 1,
   "id": "457dadda-81e7-4cc7-acd5-d0b3f31a82e7",
   "metadata": {},
   "outputs": [
    {
     "name": "stdout",
     "output_type": "stream",
     "text": [
      "Defaulting to user installation because normal site-packages is not writeable\n",
      "Requirement already satisfied: yfinance in c:\\users\\jadem\\appdata\\roaming\\python\\python39\\site-packages (0.2.61)\n",
      "Requirement already satisfied: pandas>=1.3.0 in c:\\program files\\orange\\lib\\site-packages (from yfinance) (1.5.3)\n",
      "Requirement already satisfied: numpy>=1.16.5 in c:\\program files\\orange\\lib\\site-packages (from yfinance) (1.24.4)\n",
      "Requirement already satisfied: requests>=2.31 in c:\\program files\\orange\\lib\\site-packages (from yfinance) (2.31.0)\n",
      "Requirement already satisfied: multitasking>=0.0.7 in c:\\users\\jadem\\appdata\\roaming\\python\\python39\\site-packages (from yfinance) (0.0.11)\n",
      "Requirement already satisfied: platformdirs>=2.0.0 in c:\\program files\\orange\\lib\\site-packages (from yfinance) (4.1.0)\n",
      "Requirement already satisfied: pytz>=2022.5 in c:\\program files\\orange\\lib\\site-packages (from yfinance) (2023.3.post1)\n",
      "Requirement already satisfied: frozendict>=2.3.4 in c:\\users\\jadem\\appdata\\roaming\\python\\python39\\site-packages (from yfinance) (2.4.6)\n",
      "Requirement already satisfied: peewee>=3.16.2 in c:\\users\\jadem\\appdata\\roaming\\python\\python39\\site-packages (from yfinance) (3.18.1)\n",
      "Requirement already satisfied: beautifulsoup4>=4.11.1 in c:\\users\\jadem\\appdata\\roaming\\python\\python39\\site-packages (from yfinance) (4.13.4)\n",
      "Requirement already satisfied: curl_cffi>=0.7 in c:\\users\\jadem\\appdata\\roaming\\python\\python39\\site-packages (from yfinance) (0.11.1)\n",
      "Requirement already satisfied: protobuf>=3.19.0 in c:\\users\\jadem\\appdata\\roaming\\python\\python39\\site-packages (from yfinance) (6.31.0)\n",
      "Requirement already satisfied: websockets>=13.0 in c:\\users\\jadem\\appdata\\roaming\\python\\python39\\site-packages (from yfinance) (15.0.1)\n",
      "Requirement already satisfied: soupsieve>1.2 in c:\\users\\jadem\\appdata\\roaming\\python\\python39\\site-packages (from beautifulsoup4>=4.11.1->yfinance) (2.7)\n",
      "Requirement already satisfied: typing-extensions>=4.0.0 in c:\\program files\\orange\\lib\\site-packages (from beautifulsoup4>=4.11.1->yfinance) (4.8.0)\n",
      "Requirement already satisfied: cffi>=1.12.0 in c:\\users\\jadem\\appdata\\roaming\\python\\python39\\site-packages (from curl_cffi>=0.7->yfinance) (1.17.1)\n",
      "Requirement already satisfied: certifi>=2024.2.2 in c:\\users\\jadem\\appdata\\roaming\\python\\python39\\site-packages (from curl_cffi>=0.7->yfinance) (2025.4.26)\n",
      "Requirement already satisfied: python-dateutil>=2.8.1 in c:\\program files\\orange\\lib\\site-packages (from pandas>=1.3.0->yfinance) (2.8.2)\n",
      "Requirement already satisfied: charset-normalizer<4,>=2 in c:\\program files\\orange\\lib\\site-packages (from requests>=2.31->yfinance) (3.3.2)\n",
      "Requirement already satisfied: idna<4,>=2.5 in c:\\program files\\orange\\lib\\site-packages (from requests>=2.31->yfinance) (3.6)\n",
      "Requirement already satisfied: urllib3<3,>=1.21.1 in c:\\program files\\orange\\lib\\site-packages (from requests>=2.31->yfinance) (2.1.0)\n",
      "Requirement already satisfied: pycparser in c:\\users\\jadem\\appdata\\roaming\\python\\python39\\site-packages (from cffi>=1.12.0->curl_cffi>=0.7->yfinance) (2.22)\n",
      "Requirement already satisfied: six>=1.5 in c:\\program files\\orange\\lib\\site-packages (from python-dateutil>=2.8.1->pandas>=1.3.0->yfinance) (1.16.0)\n"
     ]
    }
   ],
   "source": [
    "#install libraries\n",
    "!pip install yfinance"
   ]
  },
  {
   "cell_type": "code",
   "execution_count": 2,
   "id": "bab8040c-b8f7-44f7-96c5-46d32146578e",
   "metadata": {},
   "outputs": [],
   "source": [
    "#import libraries\n",
    "import yfinance as yf\n",
    "import pandas as pd"
   ]
  },
  {
   "cell_type": "code",
   "execution_count": 9,
   "id": "05ec59ea-1d91-4f50-87f3-7f156218296c",
   "metadata": {},
   "outputs": [],
   "source": [
    "#configuration\n",
    "TICKER = \"CA.PA\"  # Carrefour S.A. on Euronext Paris\n",
    "START_DATE = \"2022-01-01\"\n",
    "END_DATE = \"2025-05-21\"\n",
    "OUTPUT_CSV = \"carrefour_stock_data.csv\"\n",
    "OUTPUT_CSV_WEEKLY = \"carrefour_stock_weekly.csv\""
   ]
  },
  {
   "cell_type": "code",
   "execution_count": 10,
   "id": "687fbb4e-03f1-4502-8960-d6e7a0c92230",
   "metadata": {},
   "outputs": [],
   "source": [
    "#fetch daily stock data\n",
    "def fetch_stock_data(ticker, start_date, end_date):\n",
    "    print(f\"Fetching data for {ticker} from {start_date} to {end_date}...\")\n",
    "    stock = yf.Ticker(ticker)\n",
    "    df = stock.history(start=start_date, end=end_date)\n",
    "\n",
    "    if df.empty:\n",
    "        print(\"No data returned. Check the ticker or date range.\")\n",
    "        return None\n",
    "        \n",
    "    df.reset_index(inplace=True) #Reset index to move date from index to column\n",
    "    df.to_csv(OUTPUT_CSV, index=False)\n",
    "    print(f\"Data saved to {OUTPUT_CSV}\")\n",
    "    return df"
   ]
  },
  {
   "cell_type": "code",
   "execution_count": 11,
   "id": "f8d71176-105b-46f4-8710-89098540ca59",
   "metadata": {},
   "outputs": [],
   "source": [
    "#fetch weekly stock data\n",
    "def fetch_weekly_stock_data(ticker, start_date, end_date):\n",
    "    print(f\"Fetching WEEKLY data for {ticker} from {start_date} to {end_date} using yfinance...\")\n",
    "    stock = yf.Ticker(ticker)\n",
    "    df = stock.history(start=start_date, end=end_date, interval=\"1wk\")\n",
    "\n",
    "    if df.empty:\n",
    "        print(\"No data returned. Check the ticker or date range.\")\n",
    "        return None\n",
    "\n",
    "    df.reset_index(inplace=True)\n",
    "    df.to_csv(OUTPUT_CSV_WEEKLY, index=False)\n",
    "    print(f\"Weekly data saved to {OUTPUT_CSV_WEEKLY}\")\n",
    "    return df"
   ]
  },
  {
   "cell_type": "code",
   "execution_count": 12,
   "id": "fd2c5471-7922-45fd-96a3-91bb9e417196",
   "metadata": {},
   "outputs": [
    {
     "name": "stdout",
     "output_type": "stream",
     "text": [
      "Fetching data for CA.PA from 2022-01-01 to 2025-05-21...\n",
      "Data saved to carrefour_stock_data.csv\n",
      "Fetching WEEKLY data for CA.PA from 2022-01-01 to 2025-05-21 using yfinance...\n",
      "Weekly data saved to carrefour_stock_weekly.csv\n"
     ]
    }
   ],
   "source": [
    "#execution\n",
    "if __name__ == \"__main__\":\n",
    "    fetch_stock_data(TICKER, START_DATE, END_DATE)\n",
    "    fetch_weekly_stock_data(TICKER, START_DATE, END_DATE)"
   ]
  },
  {
   "cell_type": "code",
   "execution_count": null,
   "id": "a83f396c-bee7-433a-8fe7-888d80329ed3",
   "metadata": {},
   "outputs": [],
   "source": []
  }
 ],
 "metadata": {
  "kernelspec": {
   "display_name": "Python [conda env:Orange]",
   "language": "python",
   "name": "conda-env-Orange-py"
  },
  "language_info": {
   "codemirror_mode": {
    "name": "ipython",
    "version": 3
   },
   "file_extension": ".py",
   "mimetype": "text/x-python",
   "name": "python",
   "nbconvert_exporter": "python",
   "pygments_lexer": "ipython3",
   "version": "3.9.12"
  }
 },
 "nbformat": 4,
 "nbformat_minor": 5
}
